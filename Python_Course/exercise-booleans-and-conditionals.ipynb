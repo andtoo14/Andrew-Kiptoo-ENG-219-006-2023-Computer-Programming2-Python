{
 "cells": [
  {
   "cell_type": "markdown",
   "id": "283824e4",
   "metadata": {
    "papermill": {
     "duration": 0.007376,
     "end_time": "2025-05-14T09:09:07.237282",
     "exception": false,
     "start_time": "2025-05-14T09:09:07.229906",
     "status": "completed"
    },
    "tags": []
   },
   "source": [
    "**This notebook is an exercise in the [Python](https://www.kaggle.com/learn/python) course.  You can reference the tutorial at [this link](https://www.kaggle.com/colinmorris/booleans-and-conditionals).**\n",
    "\n",
    "---\n"
   ]
  },
  {
   "cell_type": "markdown",
   "id": "4cfab2f3",
   "metadata": {
    "papermill": {
     "duration": 0.006023,
     "end_time": "2025-05-14T09:09:07.249734",
     "exception": false,
     "start_time": "2025-05-14T09:09:07.243711",
     "status": "completed"
    },
    "tags": []
   },
   "source": [
    "In this exercise, you'll put to work what you have learned about booleans and conditionals.\n",
    "\n",
    "To get started, **run the setup code below** before writing your own code (and if you leave this notebook and come back later, don't forget to run the setup code again)."
   ]
  },
  {
   "cell_type": "code",
   "execution_count": 1,
   "id": "e7fc280f",
   "metadata": {
    "execution": {
     "iopub.execute_input": "2025-05-14T09:09:07.264417Z",
     "iopub.status.busy": "2025-05-14T09:09:07.264059Z",
     "iopub.status.idle": "2025-05-14T09:09:09.419673Z",
     "shell.execute_reply": "2025-05-14T09:09:09.418410Z"
    },
    "papermill": {
     "duration": 2.165006,
     "end_time": "2025-05-14T09:09:09.421664",
     "exception": false,
     "start_time": "2025-05-14T09:09:07.256658",
     "status": "completed"
    },
    "tags": []
   },
   "outputs": [
    {
     "name": "stdout",
     "output_type": "stream",
     "text": [
      "Setup complete.\n"
     ]
    }
   ],
   "source": [
    "from learntools.core import binder; binder.bind(globals())\n",
    "from learntools.python.ex3 import *\n",
    "print('Setup complete.')"
   ]
  },
  {
   "cell_type": "markdown",
   "id": "9224a07d",
   "metadata": {
    "papermill": {
     "duration": 0.012538,
     "end_time": "2025-05-14T09:09:09.448181",
     "exception": false,
     "start_time": "2025-05-14T09:09:09.435643",
     "status": "completed"
    },
    "tags": []
   },
   "source": [
    "# 1.\n",
    "\n",
    "Many programming languages have [`sign`](https://en.wikipedia.org/wiki/Sign_function) available as a built-in function. Python doesn't, but we can define our own!\n",
    "\n",
    "In the cell below, define a function called `sign` which takes a numerical argument and returns -1 if it's negative, 1 if it's positive, and 0 if it's 0."
   ]
  },
  {
   "cell_type": "code",
   "execution_count": 2,
   "id": "7df91f79",
   "metadata": {
    "execution": {
     "iopub.execute_input": "2025-05-14T09:09:09.466021Z",
     "iopub.status.busy": "2025-05-14T09:09:09.465327Z",
     "iopub.status.idle": "2025-05-14T09:09:09.478500Z",
     "shell.execute_reply": "2025-05-14T09:09:09.477331Z"
    },
    "papermill": {
     "duration": 0.024373,
     "end_time": "2025-05-14T09:09:09.480140",
     "exception": false,
     "start_time": "2025-05-14T09:09:09.455767",
     "status": "completed"
    },
    "tags": []
   },
   "outputs": [
    {
     "data": {
      "application/javascript": [
       "parent.postMessage({\"jupyterEvent\": \"custom.exercise_interaction\", \"data\": {\"outcomeType\": 1, \"valueTowardsCompletion\": 0.2, \"interactionType\": 1, \"questionType\": 2, \"questionId\": \"1_SignFunctionProblem\", \"learnToolsVersion\": \"0.3.5\", \"failureMessage\": \"\", \"exceptionClass\": \"\", \"trace\": \"\"}}, \"*\")"
      ],
      "text/plain": [
       "<IPython.core.display.Javascript object>"
      ]
     },
     "metadata": {},
     "output_type": "display_data"
    },
    {
     "data": {
      "text/markdown": [
       "<span style=\"color:#33cc33\">Correct</span>"
      ],
      "text/plain": [
       "Correct"
      ]
     },
     "metadata": {},
     "output_type": "display_data"
    }
   ],
   "source": [
    "# Your code goes here. Define a function called 'sign'\n",
    "def sign(number):\n",
    "    \"\"\"Return -1 if number is negative, 1 if positive, and 0 if zero.\"\"\"\n",
    "    if number < 0:\n",
    "        return -1\n",
    "    elif number > 0:\n",
    "        return 1\n",
    "    else:\n",
    "        return 0\n",
    "\n",
    "# Check your answer\n",
    "q1.check()"
   ]
  },
  {
   "cell_type": "code",
   "execution_count": 3,
   "id": "1de76645",
   "metadata": {
    "execution": {
     "iopub.execute_input": "2025-05-14T09:09:09.494632Z",
     "iopub.status.busy": "2025-05-14T09:09:09.494255Z",
     "iopub.status.idle": "2025-05-14T09:09:09.498671Z",
     "shell.execute_reply": "2025-05-14T09:09:09.497635Z"
    },
    "papermill": {
     "duration": 0.013575,
     "end_time": "2025-05-14T09:09:09.500484",
     "exception": false,
     "start_time": "2025-05-14T09:09:09.486909",
     "status": "completed"
    },
    "tags": []
   },
   "outputs": [],
   "source": [
    "#q1.solution()"
   ]
  },
  {
   "cell_type": "markdown",
   "id": "a6759602",
   "metadata": {
    "papermill": {
     "duration": 0.005916,
     "end_time": "2025-05-14T09:09:09.512868",
     "exception": false,
     "start_time": "2025-05-14T09:09:09.506952",
     "status": "completed"
    },
    "tags": []
   },
   "source": [
    "# 2.\n",
    "\n",
    "We've decided to add \"logging\" to our `to_smash` function from the previous exercise."
   ]
  },
  {
   "cell_type": "code",
   "execution_count": 4,
   "id": "a91615dc",
   "metadata": {
    "execution": {
     "iopub.execute_input": "2025-05-14T09:09:09.527523Z",
     "iopub.status.busy": "2025-05-14T09:09:09.527207Z",
     "iopub.status.idle": "2025-05-14T09:09:09.534268Z",
     "shell.execute_reply": "2025-05-14T09:09:09.533230Z"
    },
    "papermill": {
     "duration": 0.016456,
     "end_time": "2025-05-14T09:09:09.535736",
     "exception": false,
     "start_time": "2025-05-14T09:09:09.519280",
     "status": "completed"
    },
    "tags": []
   },
   "outputs": [
    {
     "name": "stdout",
     "output_type": "stream",
     "text": [
      "Splitting 91 candies\n"
     ]
    },
    {
     "data": {
      "text/plain": [
       "1"
      ]
     },
     "execution_count": 4,
     "metadata": {},
     "output_type": "execute_result"
    }
   ],
   "source": [
    "def to_smash(total_candies):\n",
    "    \"\"\"Return the number of leftover candies that must be smashed after distributing\n",
    "    the given number of candies evenly between 3 friends.\n",
    "    \n",
    "    >>> to_smash(91)\n",
    "    1\n",
    "    \"\"\"\n",
    "    print(\"Splitting\", total_candies, \"candies\")\n",
    "    return total_candies % 3\n",
    "\n",
    "to_smash(91)"
   ]
  },
  {
   "cell_type": "markdown",
   "id": "cb6abd11",
   "metadata": {
    "papermill": {
     "duration": 0.009252,
     "end_time": "2025-05-14T09:09:09.552151",
     "exception": false,
     "start_time": "2025-05-14T09:09:09.542899",
     "status": "completed"
    },
    "tags": []
   },
   "source": [
    "What happens if we call it with `total_candies = 1`?"
   ]
  },
  {
   "cell_type": "code",
   "execution_count": 5,
   "id": "959200b4",
   "metadata": {
    "execution": {
     "iopub.execute_input": "2025-05-14T09:09:09.573712Z",
     "iopub.status.busy": "2025-05-14T09:09:09.573321Z",
     "iopub.status.idle": "2025-05-14T09:09:09.582218Z",
     "shell.execute_reply": "2025-05-14T09:09:09.580618Z"
    },
    "papermill": {
     "duration": 0.020303,
     "end_time": "2025-05-14T09:09:09.584264",
     "exception": false,
     "start_time": "2025-05-14T09:09:09.563961",
     "status": "completed"
    },
    "tags": []
   },
   "outputs": [
    {
     "name": "stdout",
     "output_type": "stream",
     "text": [
      "Splitting 1 candies\n"
     ]
    },
    {
     "data": {
      "text/plain": [
       "1"
      ]
     },
     "execution_count": 5,
     "metadata": {},
     "output_type": "execute_result"
    }
   ],
   "source": [
    "to_smash(1)"
   ]
  },
  {
   "cell_type": "markdown",
   "id": "e38445f2",
   "metadata": {
    "papermill": {
     "duration": 0.008843,
     "end_time": "2025-05-14T09:09:09.606147",
     "exception": false,
     "start_time": "2025-05-14T09:09:09.597304",
     "status": "completed"
    },
    "tags": []
   },
   "source": [
    "That isn't great grammar!\n",
    "\n",
    "Modify the definition in the cell below to correct the grammar of our print statement. (If there's only one candy, we should use the singular \"candy\" instead of the plural \"candies\")"
   ]
  },
  {
   "cell_type": "code",
   "execution_count": 6,
   "id": "86542bac",
   "metadata": {
    "execution": {
     "iopub.execute_input": "2025-05-14T09:09:09.620954Z",
     "iopub.status.busy": "2025-05-14T09:09:09.620634Z",
     "iopub.status.idle": "2025-05-14T09:09:09.627933Z",
     "shell.execute_reply": "2025-05-14T09:09:09.627030Z"
    },
    "papermill": {
     "duration": 0.016401,
     "end_time": "2025-05-14T09:09:09.629448",
     "exception": false,
     "start_time": "2025-05-14T09:09:09.613047",
     "status": "completed"
    },
    "tags": []
   },
   "outputs": [
    {
     "name": "stdout",
     "output_type": "stream",
     "text": [
      "Splitting 91 candies\n",
      "Splitting 1 candies\n"
     ]
    },
    {
     "data": {
      "text/plain": [
       "1"
      ]
     },
     "execution_count": 6,
     "metadata": {},
     "output_type": "execute_result"
    }
   ],
   "source": [
    "def to_smash(total_candies):\n",
    "    \"\"\"Return the number of leftover candies that must be smashed after distributing\n",
    "    the given number of candies evenly between 3 friends.\n",
    "    \n",
    "    >>> to_smash(91)\n",
    "    1\n",
    "    \"\"\"\n",
    "    print(\"Splitting\", total_candies, \"candies\")\n",
    "    return total_candies % 3\n",
    "\n",
    "to_smash(91)\n",
    "to_smash(1)"
   ]
  },
  {
   "cell_type": "markdown",
   "id": "19de5429",
   "metadata": {
    "papermill": {
     "duration": 0.006889,
     "end_time": "2025-05-14T09:09:09.643185",
     "exception": false,
     "start_time": "2025-05-14T09:09:09.636296",
     "status": "completed"
    },
    "tags": []
   },
   "source": [
    "To get credit for completing this problem, and to see the official answer, run the code cell below."
   ]
  },
  {
   "cell_type": "code",
   "execution_count": 7,
   "id": "e1af9e39",
   "metadata": {
    "execution": {
     "iopub.execute_input": "2025-05-14T09:09:09.658216Z",
     "iopub.status.busy": "2025-05-14T09:09:09.657874Z",
     "iopub.status.idle": "2025-05-14T09:09:09.665890Z",
     "shell.execute_reply": "2025-05-14T09:09:09.664833Z"
    },
    "papermill": {
     "duration": 0.017702,
     "end_time": "2025-05-14T09:09:09.667692",
     "exception": false,
     "start_time": "2025-05-14T09:09:09.649990",
     "status": "completed"
    },
    "tags": []
   },
   "outputs": [
    {
     "data": {
      "application/javascript": [
       "parent.postMessage({\"jupyterEvent\": \"custom.exercise_interaction\", \"data\": {\"interactionType\": 3, \"questionType\": 4, \"questionId\": \"2_PluralizationProblem\", \"learnToolsVersion\": \"0.3.5\", \"valueTowardsCompletion\": 0.0, \"failureMessage\": \"\", \"exceptionClass\": \"\", \"trace\": \"\", \"outcomeType\": 4}}, \"*\")"
      ],
      "text/plain": [
       "<IPython.core.display.Javascript object>"
      ]
     },
     "metadata": {},
     "output_type": "display_data"
    },
    {
     "data": {
      "text/markdown": [
       "<span style=\"color:#33cc99\">Solution:</span> A straightforward (and totally fine) solution is to replace the original `print` call with:\n",
       "\n",
       "```python\n",
       "if total_candies == 1:\n",
       "    print(\"Splitting 1 candy\")\n",
       "else:\n",
       "    print(\"Splitting\", total_candies, \"candies\")\n",
       "```\n",
       "\n",
       "Here's a slightly more succinct solution using a conditional expression:\n",
       "\n",
       "```python\n",
       "print(\"Splitting\", total_candies, \"candy\" if total_candies == 1 else \"candies\")\n",
       "```"
      ],
      "text/plain": [
       "Solution: A straightforward (and totally fine) solution is to replace the original `print` call with:\n",
       "\n",
       "```python\n",
       "if total_candies == 1:\n",
       "    print(\"Splitting 1 candy\")\n",
       "else:\n",
       "    print(\"Splitting\", total_candies, \"candies\")\n",
       "```\n",
       "\n",
       "Here's a slightly more succinct solution using a conditional expression:\n",
       "\n",
       "```python\n",
       "print(\"Splitting\", total_candies, \"candy\" if total_candies == 1 else \"candies\")\n",
       "```"
      ]
     },
     "metadata": {},
     "output_type": "display_data"
    }
   ],
   "source": [
    "# Check your answer (Run this code cell to receive credit!)\n",
    "q2.solution()"
   ]
  },
  {
   "cell_type": "markdown",
   "id": "d3abc485",
   "metadata": {
    "papermill": {
     "duration": 0.007113,
     "end_time": "2025-05-14T09:09:09.682099",
     "exception": false,
     "start_time": "2025-05-14T09:09:09.674986",
     "status": "completed"
    },
    "tags": []
   },
   "source": [
    "# 3. <span title=\"A bit spicy\" style=\"color: darkgreen \">🌶️</span>\n",
    "\n",
    "In the tutorial, we talked about deciding whether we're prepared for the weather. I said that I'm safe from today's weather if...\n",
    "- I have an umbrella...\n",
    "- or if the rain isn't too heavy and I have a hood...\n",
    "- otherwise, I'm still fine unless it's raining *and* it's a workday\n",
    "\n",
    "The function below uses our first attempt at turning this logic into a Python expression. I claimed that there was a bug in that code. Can you find it?\n",
    "\n",
    "To prove that `prepared_for_weather` is buggy, come up with a set of inputs where either:\n",
    "- the function returns `False` (but should have returned `True`), or\n",
    "- the function returned `True` (but should have returned `False`).\n",
    "\n",
    "To get credit for completing this question, your code should return a <font color='#33cc33'>Correct</font> result."
   ]
  },
  {
   "cell_type": "code",
   "execution_count": 8,
   "id": "d2858944",
   "metadata": {
    "execution": {
     "iopub.execute_input": "2025-05-14T09:09:09.697833Z",
     "iopub.status.busy": "2025-05-14T09:09:09.697473Z",
     "iopub.status.idle": "2025-05-14T09:09:09.707263Z",
     "shell.execute_reply": "2025-05-14T09:09:09.706444Z"
    },
    "papermill": {
     "duration": 0.01906,
     "end_time": "2025-05-14T09:09:09.708707",
     "exception": false,
     "start_time": "2025-05-14T09:09:09.689647",
     "status": "completed"
    },
    "tags": []
   },
   "outputs": [
    {
     "name": "stdout",
     "output_type": "stream",
     "text": [
      "False\n"
     ]
    },
    {
     "data": {
      "application/javascript": [
       "parent.postMessage({\"jupyterEvent\": \"custom.exercise_interaction\", \"data\": {\"outcomeType\": 1, \"valueTowardsCompletion\": 0.2, \"interactionType\": 1, \"questionType\": 1, \"questionId\": \"3_WeatherDebug\", \"learnToolsVersion\": \"0.3.5\", \"failureMessage\": \"\", \"exceptionClass\": \"\", \"trace\": \"\"}}, \"*\")"
      ],
      "text/plain": [
       "<IPython.core.display.Javascript object>"
      ]
     },
     "metadata": {},
     "output_type": "display_data"
    },
    {
     "data": {
      "text/markdown": [
       "<span style=\"color:#33cc33\">Correct:</span> \n",
       "\n",
       "One example of a failing test case is:\n",
       "\n",
       "```python\n",
       "have_umbrella = False\n",
       "rain_level = 0.0\n",
       "have_hood = False\n",
       "is_workday = False\n",
       "```\n",
       "\n",
       "Clearly we're prepared for the weather in this case. It's not raining. Not only that, it's not a workday, so we don't even need to leave the house! But our function will return False on these inputs.\n",
       "\n",
       "The key problem is that Python implictly parenthesizes the last part as:\n",
       "\n",
       "```python\n",
       "(not (rain_level > 0)) and is_workday\n",
       "```\n",
       "\n",
       "Whereas what we were trying to express would look more like:\n",
       "\n",
       "```python\n",
       "not (rain_level > 0 and is_workday)\n",
       "```\n"
      ],
      "text/plain": [
       "Correct: \n",
       "\n",
       "One example of a failing test case is:\n",
       "\n",
       "```python\n",
       "have_umbrella = False\n",
       "rain_level = 0.0\n",
       "have_hood = False\n",
       "is_workday = False\n",
       "```\n",
       "\n",
       "Clearly we're prepared for the weather in this case. It's not raining. Not only that, it's not a workday, so we don't even need to leave the house! But our function will return False on these inputs.\n",
       "\n",
       "The key problem is that Python implictly parenthesizes the last part as:\n",
       "\n",
       "```python\n",
       "(not (rain_level > 0)) and is_workday\n",
       "```\n",
       "\n",
       "Whereas what we were trying to express would look more like:\n",
       "\n",
       "```python\n",
       "not (rain_level > 0 and is_workday)\n",
       "```"
      ]
     },
     "metadata": {},
     "output_type": "display_data"
    }
   ],
   "source": [
    "def prepared_for_weather(have_umbrella, rain_level, have_hood, is_workday):\n",
    "    return have_umbrella or rain_level < 5 and have_hood or not rain_level > 0 and is_workday\n",
    "\n",
    "# Change the values of these inputs so they represent a case where prepared_for_weather\n",
    "# returns the wrong answer.\n",
    "have_umbrella = False\n",
    "rain_level = 6.0\n",
    "have_hood = True\n",
    "is_workday = False\n",
    "\n",
    "# Check what the function returns given the current values of the variables above\n",
    "actual = prepared_for_weather(have_umbrella, rain_level, have_hood, is_workday)\n",
    "print(actual)\n",
    "\n",
    "# Check your answer\n",
    "q3.check()"
   ]
  },
  {
   "cell_type": "code",
   "execution_count": 9,
   "id": "dc4e5454",
   "metadata": {
    "execution": {
     "iopub.execute_input": "2025-05-14T09:09:09.724407Z",
     "iopub.status.busy": "2025-05-14T09:09:09.724134Z",
     "iopub.status.idle": "2025-05-14T09:09:09.728804Z",
     "shell.execute_reply": "2025-05-14T09:09:09.727693Z"
    },
    "papermill": {
     "duration": 0.014441,
     "end_time": "2025-05-14T09:09:09.730494",
     "exception": false,
     "start_time": "2025-05-14T09:09:09.716053",
     "status": "completed"
    },
    "tags": []
   },
   "outputs": [],
   "source": [
    "#q3.hint()\n",
    "#q3.solution()"
   ]
  },
  {
   "cell_type": "markdown",
   "id": "3ef01832",
   "metadata": {
    "papermill": {
     "duration": 0.008014,
     "end_time": "2025-05-14T09:09:09.745905",
     "exception": false,
     "start_time": "2025-05-14T09:09:09.737891",
     "status": "completed"
    },
    "tags": []
   },
   "source": [
    "# 4.\n",
    "\n",
    "The function `is_negative` below is implemented correctly - it returns True if the given number is negative and False otherwise.\n",
    "\n",
    "However, it's more verbose than it needs to be. We can actually reduce the number of lines of code in this function by *75%* while keeping the same behaviour. \n",
    "\n",
    "See if you can come up with an equivalent body that uses just **one line** of code, and put it in the function `concise_is_negative`. (HINT: you don't even need Python's ternary syntax)"
   ]
  },
  {
   "cell_type": "code",
   "execution_count": 10,
   "id": "72ec741a",
   "metadata": {
    "execution": {
     "iopub.execute_input": "2025-05-14T09:09:09.762839Z",
     "iopub.status.busy": "2025-05-14T09:09:09.762465Z",
     "iopub.status.idle": "2025-05-14T09:09:09.770710Z",
     "shell.execute_reply": "2025-05-14T09:09:09.769685Z"
    },
    "papermill": {
     "duration": 0.018706,
     "end_time": "2025-05-14T09:09:09.772101",
     "exception": false,
     "start_time": "2025-05-14T09:09:09.753395",
     "status": "completed"
    },
    "tags": []
   },
   "outputs": [
    {
     "data": {
      "application/javascript": [
       "parent.postMessage({\"jupyterEvent\": \"custom.exercise_interaction\", \"data\": {\"outcomeType\": 1, \"valueTowardsCompletion\": 0.2, \"interactionType\": 1, \"questionType\": 2, \"questionId\": \"4_ConciseIsNegative\", \"learnToolsVersion\": \"0.3.5\", \"failureMessage\": \"\", \"exceptionClass\": \"\", \"trace\": \"\"}}, \"*\")"
      ],
      "text/plain": [
       "<IPython.core.display.Javascript object>"
      ]
     },
     "metadata": {},
     "output_type": "display_data"
    },
    {
     "data": {
      "text/markdown": [
       "<span style=\"color:#33cc33\">Correct</span>"
      ],
      "text/plain": [
       "Correct"
      ]
     },
     "metadata": {},
     "output_type": "display_data"
    }
   ],
   "source": [
    "def is_negative(number):\n",
    "    if number < 0:\n",
    "        return True\n",
    "    else:\n",
    "        return False\n",
    "\n",
    "def concise_is_negative(number):\n",
    "    return number < 0 # Your code goes here (try to keep it to one line!)# Your code goes here (try to keep it to one line!)\n",
    "\n",
    "# Check your answer\n",
    "q4.check()"
   ]
  },
  {
   "cell_type": "code",
   "execution_count": 11,
   "id": "ff6be2da",
   "metadata": {
    "execution": {
     "iopub.execute_input": "2025-05-14T09:09:09.788530Z",
     "iopub.status.busy": "2025-05-14T09:09:09.788186Z",
     "iopub.status.idle": "2025-05-14T09:09:09.792710Z",
     "shell.execute_reply": "2025-05-14T09:09:09.791693Z"
    },
    "papermill": {
     "duration": 0.014489,
     "end_time": "2025-05-14T09:09:09.794437",
     "exception": false,
     "start_time": "2025-05-14T09:09:09.779948",
     "status": "completed"
    },
    "tags": []
   },
   "outputs": [],
   "source": [
    "#q4.hint()\n",
    "#q4.solution()"
   ]
  },
  {
   "cell_type": "markdown",
   "id": "df2d4270",
   "metadata": {
    "papermill": {
     "duration": 0.00698,
     "end_time": "2025-05-14T09:09:09.809915",
     "exception": false,
     "start_time": "2025-05-14T09:09:09.802935",
     "status": "completed"
    },
    "tags": []
   },
   "source": [
    "# 5a.\n",
    "\n",
    "The boolean variables `ketchup`, `mustard` and `onion` represent whether a customer wants a particular topping on their hot dog. We want to implement a number of boolean functions that correspond to some yes-or-no questions about the customer's order. For example:"
   ]
  },
  {
   "cell_type": "code",
   "execution_count": 12,
   "id": "a425bb66",
   "metadata": {
    "execution": {
     "iopub.execute_input": "2025-05-14T09:09:09.826583Z",
     "iopub.status.busy": "2025-05-14T09:09:09.825442Z",
     "iopub.status.idle": "2025-05-14T09:09:09.831111Z",
     "shell.execute_reply": "2025-05-14T09:09:09.830125Z"
    },
    "papermill": {
     "duration": 0.01549,
     "end_time": "2025-05-14T09:09:09.832724",
     "exception": false,
     "start_time": "2025-05-14T09:09:09.817234",
     "status": "completed"
    },
    "tags": []
   },
   "outputs": [],
   "source": [
    "def onionless(ketchup, mustard, onion):\n",
    "    \"\"\"Return whether the customer doesn't want onions.\n",
    "    \"\"\"\n",
    "    return not onion"
   ]
  },
  {
   "cell_type": "code",
   "execution_count": 13,
   "id": "c46f0405",
   "metadata": {
    "execution": {
     "iopub.execute_input": "2025-05-14T09:09:09.849083Z",
     "iopub.status.busy": "2025-05-14T09:09:09.848757Z",
     "iopub.status.idle": "2025-05-14T09:09:09.856620Z",
     "shell.execute_reply": "2025-05-14T09:09:09.855706Z"
    },
    "papermill": {
     "duration": 0.017781,
     "end_time": "2025-05-14T09:09:09.858219",
     "exception": false,
     "start_time": "2025-05-14T09:09:09.840438",
     "status": "completed"
    },
    "tags": []
   },
   "outputs": [
    {
     "data": {
      "application/javascript": [
       "parent.postMessage({\"jupyterEvent\": \"custom.exercise_interaction\", \"data\": {\"outcomeType\": 1, \"valueTowardsCompletion\": 0.2, \"interactionType\": 1, \"questionType\": 2, \"questionId\": \"5.1_AllToppings\", \"learnToolsVersion\": \"0.3.5\", \"failureMessage\": \"\", \"exceptionClass\": \"\", \"trace\": \"\"}}, \"*\")"
      ],
      "text/plain": [
       "<IPython.core.display.Javascript object>"
      ]
     },
     "metadata": {},
     "output_type": "display_data"
    },
    {
     "data": {
      "text/markdown": [
       "<span style=\"color:#33cc33\">Correct</span>"
      ],
      "text/plain": [
       "Correct"
      ]
     },
     "metadata": {},
     "output_type": "display_data"
    }
   ],
   "source": [
    "def wants_all_toppings(ketchup, mustard, onion):\n",
    "    \"\"\"Return whether the customer wants \"the works\" (all 3 toppings)\n",
    "    \"\"\"\n",
    "    return ketchup and mustard and onion\n",
    "\n",
    "# Check your answer\n",
    "q5.a.check()"
   ]
  },
  {
   "cell_type": "code",
   "execution_count": 14,
   "id": "1205b3e4",
   "metadata": {
    "execution": {
     "iopub.execute_input": "2025-05-14T09:09:09.875108Z",
     "iopub.status.busy": "2025-05-14T09:09:09.874791Z",
     "iopub.status.idle": "2025-05-14T09:09:09.878835Z",
     "shell.execute_reply": "2025-05-14T09:09:09.877934Z"
    },
    "papermill": {
     "duration": 0.014098,
     "end_time": "2025-05-14T09:09:09.880430",
     "exception": false,
     "start_time": "2025-05-14T09:09:09.866332",
     "status": "completed"
    },
    "tags": []
   },
   "outputs": [],
   "source": [
    "#q5.a.hint()\n",
    "#q5.a.solution()"
   ]
  },
  {
   "cell_type": "markdown",
   "id": "d076711a",
   "metadata": {
    "papermill": {
     "duration": 0.007337,
     "end_time": "2025-05-14T09:09:09.895475",
     "exception": false,
     "start_time": "2025-05-14T09:09:09.888138",
     "status": "completed"
    },
    "tags": []
   },
   "source": [
    "# 5b.\n",
    "\n",
    "For the next function, fill in the body to match the English description in the docstring. "
   ]
  },
  {
   "cell_type": "code",
   "execution_count": 15,
   "id": "08ec85fd",
   "metadata": {
    "execution": {
     "iopub.execute_input": "2025-05-14T09:09:09.912735Z",
     "iopub.status.busy": "2025-05-14T09:09:09.911875Z",
     "iopub.status.idle": "2025-05-14T09:09:09.920438Z",
     "shell.execute_reply": "2025-05-14T09:09:09.919511Z"
    },
    "papermill": {
     "duration": 0.018727,
     "end_time": "2025-05-14T09:09:09.921949",
     "exception": false,
     "start_time": "2025-05-14T09:09:09.903222",
     "status": "completed"
    },
    "tags": []
   },
   "outputs": [
    {
     "data": {
      "application/javascript": [
       "parent.postMessage({\"jupyterEvent\": \"custom.exercise_interaction\", \"data\": {\"outcomeType\": 1, \"valueTowardsCompletion\": 0.2, \"interactionType\": 1, \"questionType\": 2, \"questionId\": \"5.2_PlainDog\", \"learnToolsVersion\": \"0.3.5\", \"failureMessage\": \"\", \"exceptionClass\": \"\", \"trace\": \"\"}}, \"*\")"
      ],
      "text/plain": [
       "<IPython.core.display.Javascript object>"
      ]
     },
     "metadata": {},
     "output_type": "display_data"
    },
    {
     "data": {
      "text/markdown": [
       "<span style=\"color:#33cc33\">Correct:</span> \n",
       "\n",
       "One solution looks like:\n",
       "```python\n",
       "return not ketchup and not mustard and not onion\n",
       "```\n",
       "\n",
       "We can also [\"factor out\" the nots](https://en.wikipedia.org/wiki/De_Morgan%27s_laws) to get:\n",
       "\n",
       "```python\n",
       "return not (ketchup or mustard or onion)\n",
       "```"
      ],
      "text/plain": [
       "Correct: \n",
       "\n",
       "One solution looks like:\n",
       "```python\n",
       "return not ketchup and not mustard and not onion\n",
       "```\n",
       "\n",
       "We can also [\"factor out\" the nots](https://en.wikipedia.org/wiki/De_Morgan%27s_laws) to get:\n",
       "\n",
       "```python\n",
       "return not (ketchup or mustard or onion)\n",
       "```"
      ]
     },
     "metadata": {},
     "output_type": "display_data"
    }
   ],
   "source": [
    "def wants_plain_hotdog(ketchup, mustard, onion):\n",
    "    \"\"\"Return whether the customer wants a plain hot dog with no toppings.\n",
    "    \"\"\"\n",
    "    return not (ketchup or mustard or onion)\n",
    "\n",
    "# Check your answer\n",
    "q5.b.check()"
   ]
  },
  {
   "cell_type": "code",
   "execution_count": 16,
   "id": "d526253a",
   "metadata": {
    "execution": {
     "iopub.execute_input": "2025-05-14T09:09:09.939389Z",
     "iopub.status.busy": "2025-05-14T09:09:09.939117Z",
     "iopub.status.idle": "2025-05-14T09:09:09.943288Z",
     "shell.execute_reply": "2025-05-14T09:09:09.942361Z"
    },
    "papermill": {
     "duration": 0.014712,
     "end_time": "2025-05-14T09:09:09.945054",
     "exception": false,
     "start_time": "2025-05-14T09:09:09.930342",
     "status": "completed"
    },
    "tags": []
   },
   "outputs": [],
   "source": [
    "#q5.b.hint()\n",
    "#q5.b.solution()"
   ]
  },
  {
   "cell_type": "markdown",
   "id": "4a315aa2",
   "metadata": {
    "papermill": {
     "duration": 0.007505,
     "end_time": "2025-05-14T09:09:09.960450",
     "exception": false,
     "start_time": "2025-05-14T09:09:09.952945",
     "status": "completed"
    },
    "tags": []
   },
   "source": [
    "# 5c.\n",
    "\n",
    "You know what to do: for the next function, fill in the body to match the English description in the docstring."
   ]
  },
  {
   "cell_type": "code",
   "execution_count": 17,
   "id": "9bf69e9e",
   "metadata": {
    "execution": {
     "iopub.execute_input": "2025-05-14T09:09:10.055340Z",
     "iopub.status.busy": "2025-05-14T09:09:10.055039Z",
     "iopub.status.idle": "2025-05-14T09:09:10.064236Z",
     "shell.execute_reply": "2025-05-14T09:09:10.063287Z"
    },
    "papermill": {
     "duration": 0.024168,
     "end_time": "2025-05-14T09:09:10.065846",
     "exception": false,
     "start_time": "2025-05-14T09:09:10.041678",
     "status": "completed"
    },
    "tags": []
   },
   "outputs": [
    {
     "data": {
      "application/javascript": [
       "parent.postMessage({\"jupyterEvent\": \"custom.exercise_interaction\", \"data\": {\"outcomeType\": 1, \"valueTowardsCompletion\": 0.2, \"interactionType\": 1, \"questionType\": 2, \"questionId\": \"5.3_OneSauce\", \"learnToolsVersion\": \"0.3.5\", \"failureMessage\": \"\", \"exceptionClass\": \"\", \"trace\": \"\"}}, \"*\")"
      ],
      "text/plain": [
       "<IPython.core.display.Javascript object>"
      ]
     },
     "metadata": {},
     "output_type": "display_data"
    },
    {
     "data": {
      "text/markdown": [
       "<span style=\"color:#33cc33\">Correct</span>"
      ],
      "text/plain": [
       "Correct"
      ]
     },
     "metadata": {},
     "output_type": "display_data"
    }
   ],
   "source": [
    "def exactly_one_sauce(ketchup, mustard, onion):\n",
    "    \"\"\"Return whether the customer wants either ketchup or mustard, but not both.\n",
    "    (You may be familiar with this operation under the name \"exclusive or\")\n",
    "    \"\"\"\n",
    "    return ketchup != mustard\n",
    "\n",
    "# Check your answer\n",
    "q5.c.check()"
   ]
  },
  {
   "cell_type": "code",
   "execution_count": 18,
   "id": "f97ddaf7",
   "metadata": {
    "execution": {
     "iopub.execute_input": "2025-05-14T09:09:10.094378Z",
     "iopub.status.busy": "2025-05-14T09:09:10.093932Z",
     "iopub.status.idle": "2025-05-14T09:09:10.098453Z",
     "shell.execute_reply": "2025-05-14T09:09:10.097519Z"
    },
    "papermill": {
     "duration": 0.021253,
     "end_time": "2025-05-14T09:09:10.100345",
     "exception": false,
     "start_time": "2025-05-14T09:09:10.079092",
     "status": "completed"
    },
    "tags": []
   },
   "outputs": [],
   "source": [
    "#q5.c.hint()\n",
    "#q5.c.solution()"
   ]
  },
  {
   "cell_type": "markdown",
   "id": "6fccb9ef",
   "metadata": {
    "papermill": {
     "duration": 0.01045,
     "end_time": "2025-05-14T09:09:10.125350",
     "exception": false,
     "start_time": "2025-05-14T09:09:10.114900",
     "status": "completed"
    },
    "tags": []
   },
   "source": [
    "# 6. <span title=\"A bit spicy\" style=\"color: darkgreen \">🌶️</span>\n",
    "\n",
    "We’ve seen that calling `bool()` on an integer returns `False` if it’s equal to 0 and `True` otherwise. What happens if we call `int()` on a bool? Try it out in the notebook cell below.\n",
    "\n",
    "Can you take advantage of this to write a succinct function that corresponds to the English sentence \"does the customer want exactly one topping?\"?"
   ]
  },
  {
   "cell_type": "code",
   "execution_count": 19,
   "id": "a2000e9f",
   "metadata": {
    "execution": {
     "iopub.execute_input": "2025-05-14T09:09:10.143261Z",
     "iopub.status.busy": "2025-05-14T09:09:10.142967Z",
     "iopub.status.idle": "2025-05-14T09:09:10.152021Z",
     "shell.execute_reply": "2025-05-14T09:09:10.151024Z"
    },
    "papermill": {
     "duration": 0.020269,
     "end_time": "2025-05-14T09:09:10.153889",
     "exception": false,
     "start_time": "2025-05-14T09:09:10.133620",
     "status": "completed"
    },
    "tags": []
   },
   "outputs": [
    {
     "data": {
      "application/javascript": [
       "parent.postMessage({\"jupyterEvent\": \"custom.exercise_interaction\", \"data\": {\"outcomeType\": 1, \"valueTowardsCompletion\": 0.2, \"interactionType\": 1, \"questionType\": 2, \"questionId\": \"6_OneTopping\", \"learnToolsVersion\": \"0.3.5\", \"failureMessage\": \"\", \"exceptionClass\": \"\", \"trace\": \"\"}}, \"*\")"
      ],
      "text/plain": [
       "<IPython.core.display.Javascript object>"
      ]
     },
     "metadata": {},
     "output_type": "display_data"
    },
    {
     "data": {
      "text/markdown": [
       "<span style=\"color:#33cc33\">Correct:</span> \n",
       "\n",
       "This condition would be pretty complicated to express using just `and`, `or` and `not`, but using boolean-to-integer conversion gives us this short solution:\n",
       "```python\n",
       "return (int(ketchup) + int(mustard) + int(onion)) == 1\n",
       "```\n",
       "\n",
       "Fun fact: we don't technically need to call `int` on the arguments. Just by doing addition with booleans, Python implicitly does the integer conversion. So we could also write...\n",
       "\n",
       "```python\n",
       "return (ketchup + mustard + onion) == 1\n",
       "```"
      ],
      "text/plain": [
       "Correct: \n",
       "\n",
       "This condition would be pretty complicated to express using just `and`, `or` and `not`, but using boolean-to-integer conversion gives us this short solution:\n",
       "```python\n",
       "return (int(ketchup) + int(mustard) + int(onion)) == 1\n",
       "```\n",
       "\n",
       "Fun fact: we don't technically need to call `int` on the arguments. Just by doing addition with booleans, Python implicitly does the integer conversion. So we could also write...\n",
       "\n",
       "```python\n",
       "return (ketchup + mustard + onion) == 1\n",
       "```"
      ]
     },
     "metadata": {},
     "output_type": "display_data"
    }
   ],
   "source": [
    "def exactly_one_topping(ketchup, mustard, onion):\n",
    "    \"\"\"Return whether the customer wants exactly one of the three available toppings\n",
    "    on their hot dog.\n",
    "    \"\"\"\n",
    "    return int(ketchup) + int(mustard) + int(onion) == 1\n",
    "\n",
    "# Check your answer\n",
    "q6.check()"
   ]
  },
  {
   "cell_type": "code",
   "execution_count": 20,
   "id": "9f2a1afb",
   "metadata": {
    "execution": {
     "iopub.execute_input": "2025-05-14T09:09:10.186087Z",
     "iopub.status.busy": "2025-05-14T09:09:10.185777Z",
     "iopub.status.idle": "2025-05-14T09:09:10.189743Z",
     "shell.execute_reply": "2025-05-14T09:09:10.188804Z"
    },
    "papermill": {
     "duration": 0.022272,
     "end_time": "2025-05-14T09:09:10.191140",
     "exception": false,
     "start_time": "2025-05-14T09:09:10.168868",
     "status": "completed"
    },
    "tags": []
   },
   "outputs": [],
   "source": [
    "#q6.hint()\n",
    "#q6.solution()"
   ]
  },
  {
   "cell_type": "markdown",
   "id": "451f0e53",
   "metadata": {
    "papermill": {
     "duration": 0.008259,
     "end_time": "2025-05-14T09:09:10.209073",
     "exception": false,
     "start_time": "2025-05-14T09:09:10.200814",
     "status": "completed"
    },
    "tags": []
   },
   "source": [
    "# 7. <span title=\"A bit spicy\" style=\"color: darkgreen \">🌶️</span> (Optional)\n",
    "\n",
    "In this problem we'll be working with a simplified version of [blackjack](https://en.wikipedia.org/wiki/Blackjack) (aka twenty-one). In this version there is one player (who you'll control) and a dealer. Play proceeds as follows:\n",
    "\n",
    "- The player is dealt two face-up cards. The dealer is dealt one face-up card.\n",
    "- The player may ask to be dealt another card ('hit') as many times as they wish. If the sum of their cards exceeds 21, they lose the round immediately.\n",
    "- The dealer then deals additional cards to himself until either:\n",
    "    - the sum of the dealer's cards exceeds 21, in which case the player wins the round\n",
    "    - the sum of the dealer's cards is greater than or equal to 17. If the player's total is greater than the dealer's, the player wins. Otherwise, the dealer wins (even in case of a tie).\n",
    "    \n",
    "When calculating the sum of cards, Jack, Queen, and King count for 10. Aces can count as 1 or 11 (when referring to a player's \"total\" above, we mean the largest total that can be made without exceeding 21. So e.g. A+8 = 19, A+8+8 = 17)\n",
    "\n",
    "For this problem, you'll write a function representing the player's decision-making strategy in this game. We've provided a very unintelligent implementation below:"
   ]
  },
  {
   "cell_type": "code",
   "execution_count": 21,
   "id": "b1a4831b",
   "metadata": {
    "execution": {
     "iopub.execute_input": "2025-05-14T09:09:10.228872Z",
     "iopub.status.busy": "2025-05-14T09:09:10.228491Z",
     "iopub.status.idle": "2025-05-14T09:09:10.238345Z",
     "shell.execute_reply": "2025-05-14T09:09:10.237511Z"
    },
    "papermill": {
     "duration": 0.022985,
     "end_time": "2025-05-14T09:09:10.240352",
     "exception": false,
     "start_time": "2025-05-14T09:09:10.217367",
     "status": "completed"
    },
    "tags": []
   },
   "outputs": [],
   "source": [
    "def should_hit(dealer_total, player_total, player_low_aces, player_high_aces):\n",
    "    \"\"\"Return True if the player should hit (request another card) given the current game\n",
    "    state, or False if the player should stay.\n",
    "    When calculating a hand's total value, we count aces as \"high\" (with value 11) if doing so\n",
    "    doesn't bring the total above 21, otherwise we count them as low (with value 1). \n",
    "    For example, if the player's hand is {A, A, A, 7}, we will count it as 11 + 1 + 1 + 7,\n",
    "    and therefore set player_total=20, player_low_aces=2, player_high_aces=1.\n",
    "    \"\"\"\n",
    "    return False"
   ]
  },
  {
   "cell_type": "markdown",
   "id": "1f7d1282",
   "metadata": {
    "papermill": {
     "duration": 0.009701,
     "end_time": "2025-05-14T09:09:10.260139",
     "exception": false,
     "start_time": "2025-05-14T09:09:10.250438",
     "status": "completed"
    },
    "tags": []
   },
   "source": [
    "This very conservative agent *always* sticks with the hand of two cards that they're dealt.\n",
    "\n",
    "We'll be simulating games between your player agent and our own dealer agent by calling your function.\n",
    "\n",
    "Try running the function below to see an example of a simulated game:"
   ]
  },
  {
   "cell_type": "code",
   "execution_count": 22,
   "id": "85e12f42",
   "metadata": {
    "execution": {
     "iopub.execute_input": "2025-05-14T09:09:10.278644Z",
     "iopub.status.busy": "2025-05-14T09:09:10.278224Z",
     "iopub.status.idle": "2025-05-14T09:09:10.285189Z",
     "shell.execute_reply": "2025-05-14T09:09:10.283524Z"
    },
    "papermill": {
     "duration": 0.01831,
     "end_time": "2025-05-14T09:09:10.287129",
     "exception": false,
     "start_time": "2025-05-14T09:09:10.268819",
     "status": "completed"
    },
    "tags": []
   },
   "outputs": [
    {
     "name": "stdout",
     "output_type": "stream",
     "text": [
      "Player starts with K and 5 (total = 15)\n",
      "Dealer starts with 10\n",
      "\n",
      "__Player's turn__\n",
      "Player stays\n",
      "\n",
      "__Dealer's turn__\n",
      "Dealer hits and receives 8. (total = 18)\n",
      "Dealer stands.\n",
      "Dealer wins. 18 >= 15\n"
     ]
    }
   ],
   "source": [
    "q7.simulate_one_game()"
   ]
  },
  {
   "cell_type": "markdown",
   "id": "243e6f73",
   "metadata": {
    "papermill": {
     "duration": 0.008611,
     "end_time": "2025-05-14T09:09:10.310728",
     "exception": false,
     "start_time": "2025-05-14T09:09:10.302117",
     "status": "completed"
    },
    "tags": []
   },
   "source": [
    "The real test of your agent's mettle is their average win rate over many games. Try calling the function below to simulate 50000 games of blackjack (it may take a couple seconds):"
   ]
  },
  {
   "cell_type": "code",
   "execution_count": 23,
   "id": "1a04a8b6",
   "metadata": {
    "execution": {
     "iopub.execute_input": "2025-05-14T09:09:10.330093Z",
     "iopub.status.busy": "2025-05-14T09:09:10.329679Z",
     "iopub.status.idle": "2025-05-14T09:09:11.260098Z",
     "shell.execute_reply": "2025-05-14T09:09:11.259169Z"
    },
    "papermill": {
     "duration": 0.942532,
     "end_time": "2025-05-14T09:09:11.261999",
     "exception": false,
     "start_time": "2025-05-14T09:09:10.319467",
     "status": "completed"
    },
    "tags": []
   },
   "outputs": [
    {
     "name": "stdout",
     "output_type": "stream",
     "text": [
      "Player won 19132 out of 50000 games (win rate = 38.3%)\n"
     ]
    }
   ],
   "source": [
    "q7.simulate(n_games=50000)"
   ]
  },
  {
   "cell_type": "markdown",
   "id": "68704808",
   "metadata": {
    "papermill": {
     "duration": 0.008901,
     "end_time": "2025-05-14T09:09:11.286902",
     "exception": false,
     "start_time": "2025-05-14T09:09:11.278001",
     "status": "completed"
    },
    "tags": []
   },
   "source": [
    "Our dumb agent that completely ignores the game state still manages to win shockingly often!\n",
    "\n",
    "Try adding some more smarts to the `should_hit` function and see how it affects the results."
   ]
  },
  {
   "cell_type": "code",
   "execution_count": 24,
   "id": "2fbbdb88",
   "metadata": {
    "execution": {
     "iopub.execute_input": "2025-05-14T09:09:11.305405Z",
     "iopub.status.busy": "2025-05-14T09:09:11.305107Z",
     "iopub.status.idle": "2025-05-14T09:09:12.268502Z",
     "shell.execute_reply": "2025-05-14T09:09:12.267140Z"
    },
    "papermill": {
     "duration": 0.974543,
     "end_time": "2025-05-14T09:09:12.270058",
     "exception": false,
     "start_time": "2025-05-14T09:09:11.295515",
     "status": "completed"
    },
    "tags": []
   },
   "outputs": [
    {
     "name": "stdout",
     "output_type": "stream",
     "text": [
      "Player won 21294 out of 50000 games (win rate = 42.6%)\n"
     ]
    }
   ],
   "source": [
    "def should_hit(dealer_total, player_total, player_low_aces, player_high_aces):\n",
    "    \"\"\"Return True if the player should hit (request another card) given the current game\n",
    "    state, or False if the player should stay.\n",
    "    When calculating a hand's total value, we count aces as \"high\" (with value 11) if doing so\n",
    "    doesn't bring the total above 21, otherwise we count them as low (with value 1).\n",
    "    For example, if the player's hand is {A, A, A, 7}, we will count it as 11 + 1 + 1 + 7,\n",
    "    and therefore set player_total=20, player_low_aces=2, player_high_aces=1.\n",
    "    \"\"\"\n",
    "    # Basic strategy:\n",
    "    # Hit if player total is less than 17.\n",
    "    # Also consider the dealer's upcard for totals between 12 and 16.\n",
    "    if player_total <= 11:\n",
    "        return True\n",
    "    elif player_total == 12 and dealer_total in [4, 5, 6]:\n",
    "        return False\n",
    "    elif player_total in [13, 14, 15, 16] and dealer_total in [2, 3, 4, 5, 6]:\n",
    "        return False\n",
    "    elif player_total < 17:\n",
    "        return True\n",
    "    else:\n",
    "        return False\n",
    "\n",
    "q7.simulate(n_games=50000)"
   ]
  },
  {
   "cell_type": "markdown",
   "id": "e2c28991",
   "metadata": {
    "papermill": {
     "duration": 0.009388,
     "end_time": "2025-05-14T09:09:12.288134",
     "exception": false,
     "start_time": "2025-05-14T09:09:12.278746",
     "status": "completed"
    },
    "tags": []
   },
   "source": [
    "# Keep Going\n",
    "\n",
    "Learn about **[lists and tuples](https://www.kaggle.com/colinmorris/lists)** to handle multiple items of data in a systematic way."
   ]
  },
  {
   "cell_type": "markdown",
   "id": "893c6a2a",
   "metadata": {
    "papermill": {
     "duration": 0.008379,
     "end_time": "2025-05-14T09:09:12.305500",
     "exception": false,
     "start_time": "2025-05-14T09:09:12.297121",
     "status": "completed"
    },
    "tags": []
   },
   "source": [
    "---\n",
    "\n",
    "\n",
    "\n",
    "\n",
    "*Have questions or comments? Visit the [course discussion forum](https://www.kaggle.com/learn/python/discussion) to chat with other learners.*"
   ]
  }
 ],
 "metadata": {
  "kaggle": {
   "accelerator": "none",
   "dataSources": [],
   "isGpuEnabled": false,
   "isInternetEnabled": false,
   "language": "python",
   "sourceType": "notebook"
  },
  "kernelspec": {
   "display_name": "Python 3",
   "language": "python",
   "name": "python3"
  },
  "language_info": {
   "codemirror_mode": {
    "name": "ipython",
    "version": 3
   },
   "file_extension": ".py",
   "mimetype": "text/x-python",
   "name": "python",
   "nbconvert_exporter": "python",
   "pygments_lexer": "ipython3",
   "version": "3.11.11"
  },
  "learntools_metadata": {
   "lesson_index": 2,
   "type": "exercise"
  },
  "papermill": {
   "default_parameters": {},
   "duration": 10.747188,
   "end_time": "2025-05-14T09:09:12.835118",
   "environment_variables": {},
   "exception": null,
   "input_path": "__notebook__.ipynb",
   "output_path": "__notebook__.ipynb",
   "parameters": {},
   "start_time": "2025-05-14T09:09:02.087930",
   "version": "2.6.0"
  }
 },
 "nbformat": 4,
 "nbformat_minor": 5
}
