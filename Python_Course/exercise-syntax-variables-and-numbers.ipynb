{
 "cells": [
  {
   "cell_type": "markdown",
   "id": "789a6b9a",
   "metadata": {
    "papermill": {
     "duration": 0.005352,
     "end_time": "2025-05-14T06:53:03.123351",
     "exception": false,
     "start_time": "2025-05-14T06:53:03.117999",
     "status": "completed"
    },
    "tags": []
   },
   "source": [
    "**This notebook is an exercise in the [Python](https://www.kaggle.com/learn/python) course.  You can reference the tutorial at [this link](https://www.kaggle.com/colinmorris/hello-python).**\n",
    "\n",
    "---\n"
   ]
  },
  {
   "cell_type": "markdown",
   "id": "0d770fbc",
   "metadata": {
    "papermill": {
     "duration": 0.004138,
     "end_time": "2025-05-14T06:53:03.132090",
     "exception": false,
     "start_time": "2025-05-14T06:53:03.127952",
     "status": "completed"
    },
    "tags": []
   },
   "source": [
    "Welcome to your first set of Python coding problems.  If this is your first time using Kaggle Notebooks, welcome! \n",
    "\n",
    "Notebooks are composed of blocks (called \"cells\") of text and code. Each of these is editable, though you'll mainly be editing the code cells to answer some questions.\n",
    "\n",
    "To get started, try running the code cell below (by pressing the ► button, or clicking on the cell and pressing ctrl+enter on your keyboard)."
   ]
  },
  {
   "cell_type": "code",
   "execution_count": 1,
   "id": "fe118c19",
   "metadata": {
    "execution": {
     "iopub.execute_input": "2025-05-14T06:53:03.141923Z",
     "iopub.status.busy": "2025-05-14T06:53:03.141589Z",
     "iopub.status.idle": "2025-05-14T06:53:03.149968Z",
     "shell.execute_reply": "2025-05-14T06:53:03.148998Z"
    },
    "papermill": {
     "duration": 0.014893,
     "end_time": "2025-05-14T06:53:03.151259",
     "exception": false,
     "start_time": "2025-05-14T06:53:03.136366",
     "status": "completed"
    },
    "tags": []
   },
   "outputs": [
    {
     "name": "stdout",
     "output_type": "stream",
     "text": [
      "You've successfully run some Python code\n",
      "Congratulations!\n",
      "Time heals:)\n"
     ]
    }
   ],
   "source": [
    "print(\"You've successfully run some Python code\")\n",
    "print(\"Congratulations!\")\n",
    "print(\"Time heals:)\")"
   ]
  },
  {
   "cell_type": "markdown",
   "id": "4318b11b",
   "metadata": {
    "papermill": {
     "duration": 0.004196,
     "end_time": "2025-05-14T06:53:03.159975",
     "exception": false,
     "start_time": "2025-05-14T06:53:03.155779",
     "status": "completed"
    },
    "tags": []
   },
   "source": [
    "Try adding another line of code in the cell above and re-running it. \n",
    "\n",
    "Now let's get a little fancier:  Add a new code cell by clicking on an existing code cell, hitting the escape key, and then hitting the `a` or `b` key.  The `a` key will add a cell above the current cell, and `b` adds a cell below.\n",
    "\n",
    "Great! Now you know how to use Notebooks.\n",
    "\n",
    "Each hands-on exercise starts by setting up our feedback and code checking mechanism. Run the code cell below to do that. Then you'll be ready to move on to question 0."
   ]
  },
  {
   "cell_type": "code",
   "execution_count": 2,
   "id": "14abf2a9",
   "metadata": {
    "_kg_hide-input": true,
    "_kg_hide-output": true,
    "execution": {
     "iopub.execute_input": "2025-05-14T06:53:03.169936Z",
     "iopub.status.busy": "2025-05-14T06:53:03.169604Z",
     "iopub.status.idle": "2025-05-14T06:53:04.981472Z",
     "shell.execute_reply": "2025-05-14T06:53:04.980413Z"
    },
    "papermill": {
     "duration": 1.818585,
     "end_time": "2025-05-14T06:53:04.982983",
     "exception": false,
     "start_time": "2025-05-14T06:53:03.164398",
     "status": "completed"
    },
    "tags": []
   },
   "outputs": [
    {
     "name": "stdout",
     "output_type": "stream",
     "text": [
      "Setup complete! You're ready to start question 0.\n"
     ]
    }
   ],
   "source": [
    "from learntools.core import binder; binder.bind(globals())\n",
    "from learntools.python.ex1 import *\n",
    "print(\"Setup complete! You're ready to start question 0.\")"
   ]
  },
  {
   "cell_type": "markdown",
   "id": "e2b46770",
   "metadata": {
    "papermill": {
     "duration": 0.004268,
     "end_time": "2025-05-14T06:53:04.992163",
     "exception": false,
     "start_time": "2025-05-14T06:53:04.987895",
     "status": "completed"
    },
    "tags": []
   },
   "source": [
    "# 0.\n",
    "\n",
    "*This is a silly question intended as an introduction to the format we use for hands-on exercises throughout all Kaggle courses.*\n",
    "\n",
    "**What is your favorite color? **\n",
    "\n",
    "To complete this question, create a variable called `color` in the cell below with an appropriate value. The function call `q0.check()` (which we've already provided in the cell below) will check your answer."
   ]
  },
  {
   "cell_type": "code",
   "execution_count": 3,
   "id": "9a4bf1d9",
   "metadata": {
    "execution": {
     "iopub.execute_input": "2025-05-14T06:53:05.002610Z",
     "iopub.status.busy": "2025-05-14T06:53:05.001778Z",
     "iopub.status.idle": "2025-05-14T06:53:05.010228Z",
     "shell.execute_reply": "2025-05-14T06:53:05.009416Z"
    },
    "papermill": {
     "duration": 0.014958,
     "end_time": "2025-05-14T06:53:05.011416",
     "exception": false,
     "start_time": "2025-05-14T06:53:04.996458",
     "status": "completed"
    },
    "tags": []
   },
   "outputs": [
    {
     "name": "stdout",
     "output_type": "stream",
     "text": [
      "Blue\n"
     ]
    },
    {
     "data": {
      "application/javascript": [
       "parent.postMessage({\"jupyterEvent\": \"custom.exercise_interaction\", \"data\": {\"outcomeType\": 1, \"valueTowardsCompletion\": 0.25, \"interactionType\": 1, \"questionType\": 2, \"questionId\": \"0_ExerciseFormatTutorial\", \"learnToolsVersion\": \"0.3.5\", \"failureMessage\": \"\", \"exceptionClass\": \"\", \"trace\": \"\"}}, \"*\")"
      ],
      "text/plain": [
       "<IPython.core.display.Javascript object>"
      ]
     },
     "metadata": {},
     "output_type": "display_data"
    },
    {
     "data": {
      "text/markdown": [
       "<span style=\"color:#33cc33\">Correct:</span> What?! You got it right without needing a hint or anything? Drats. Well hey, you should still continue to the next step to get some practice asking for a hint and checking solutions. (Even though you obviously don't need any help here.)"
      ],
      "text/plain": [
       "Correct: What?! You got it right without needing a hint or anything? Drats. Well hey, you should still continue to the next step to get some practice asking for a hint and checking solutions. (Even though you obviously don't need any help here.)"
      ]
     },
     "metadata": {},
     "output_type": "display_data"
    }
   ],
   "source": [
    "# create a variable called color with an appropriate value on the line below\n",
    "# (Remember, strings in Python must be enclosed in 'single' or \"double\" quotes)\n",
    "color = \"Blue\"\n",
    "print(color)\n",
    "\n",
    "# Check your answer\n",
    "q0.check()"
   ]
  },
  {
   "cell_type": "markdown",
   "id": "9c3b9e1d",
   "metadata": {
    "papermill": {
     "duration": 0.004318,
     "end_time": "2025-05-14T06:53:05.020458",
     "exception": false,
     "start_time": "2025-05-14T06:53:05.016140",
     "status": "completed"
    },
    "tags": []
   },
   "source": [
    "Didn't get the right answer? How do you not even know your own favorite color?!\n",
    "\n",
    "Delete the `#` in the line below to make one of the lines run. You can choose between getting a hint or the full answer by choosing which line to remove the `#` from. \n",
    "\n",
    "Removing the `#` is called uncommenting, because it changes that line from a \"comment\" which Python doesn't run to code, which Python does run."
   ]
  },
  {
   "cell_type": "code",
   "execution_count": 4,
   "id": "7cde20e6",
   "metadata": {
    "execution": {
     "iopub.execute_input": "2025-05-14T06:53:05.030814Z",
     "iopub.status.busy": "2025-05-14T06:53:05.030515Z",
     "iopub.status.idle": "2025-05-14T06:53:05.033860Z",
     "shell.execute_reply": "2025-05-14T06:53:05.033249Z"
    },
    "papermill": {
     "duration": 0.009982,
     "end_time": "2025-05-14T06:53:05.035190",
     "exception": false,
     "start_time": "2025-05-14T06:53:05.025208",
     "status": "completed"
    },
    "tags": []
   },
   "outputs": [],
   "source": [
    "#q0.hint()\n",
    "#q0.solution()"
   ]
  },
  {
   "cell_type": "markdown",
   "id": "ffae2fbf",
   "metadata": {
    "papermill": {
     "duration": 0.004384,
     "end_time": "2025-05-14T06:53:05.044248",
     "exception": false,
     "start_time": "2025-05-14T06:53:05.039864",
     "status": "completed"
    },
    "tags": []
   },
   "source": [
    "The upcoming questions work the same way. The only thing that will change are the question numbers. For the next question, you'll call `q1.check()`, `q1.hint()`, `q1.solution()`, for question 2, you'll call `q2.check()`, and so on."
   ]
  },
  {
   "cell_type": "markdown",
   "id": "0013e233",
   "metadata": {
    "papermill": {
     "duration": 0.004274,
     "end_time": "2025-05-14T06:53:05.053496",
     "exception": false,
     "start_time": "2025-05-14T06:53:05.049222",
     "status": "completed"
    },
    "tags": []
   },
   "source": [
    "<hr/>\n",
    "\n",
    "# 1.\n",
    "\n",
    "Complete the code below. In case it's helpful, here is the table of available arithmetic operations:\n",
    "\n",
    "\n",
    "\n",
    "| Operator     | Name           | Description                                            |\n",
    "|--------------|----------------|--------------------------------------------------------|\n",
    "| ``a + b``    | Addition       | Sum of ``a`` and ``b``                                 |\n",
    "| ``a - b``    | Subtraction    | Difference of ``a`` and ``b``                          |\n",
    "| ``a * b``    | Multiplication | Product of ``a`` and ``b``                             |\n",
    "| ``a / b``    | True division  | Quotient of ``a`` and ``b``                            |\n",
    "| ``a // b``   | Floor division | Quotient of ``a`` and ``b``, removing fractional parts |\n",
    "| ``a % b``    | Modulus        | Integer remainder after division of ``a`` by ``b``     |\n",
    "| ``a ** b``   | Exponentiation | ``a`` raised to the power of ``b``                     |\n",
    "| ``-a``       | Negation       | The negative of ``a``                                  |\n",
    "\n",
    "<span style=\"display:none\"></span>\n"
   ]
  },
  {
   "cell_type": "code",
   "execution_count": 5,
   "id": "2a7bd5fd",
   "metadata": {
    "execution": {
     "iopub.execute_input": "2025-05-14T06:53:05.063532Z",
     "iopub.status.busy": "2025-05-14T06:53:05.063245Z",
     "iopub.status.idle": "2025-05-14T06:53:05.071201Z",
     "shell.execute_reply": "2025-05-14T06:53:05.070502Z"
    },
    "papermill": {
     "duration": 0.01446,
     "end_time": "2025-05-14T06:53:05.072395",
     "exception": false,
     "start_time": "2025-05-14T06:53:05.057935",
     "status": "completed"
    },
    "tags": []
   },
   "outputs": [
    {
     "name": "stdout",
     "output_type": "stream",
     "text": [
      "7.0685775\n"
     ]
    },
    {
     "data": {
      "application/javascript": [
       "parent.postMessage({\"jupyterEvent\": \"custom.exercise_interaction\", \"data\": {\"outcomeType\": 1, \"valueTowardsCompletion\": 0.25, \"interactionType\": 1, \"questionType\": 1, \"questionId\": \"1_CircleArea\", \"learnToolsVersion\": \"0.3.5\", \"failureMessage\": \"\", \"exceptionClass\": \"\", \"trace\": \"\"}}, \"*\")"
      ],
      "text/plain": [
       "<IPython.core.display.Javascript object>"
      ]
     },
     "metadata": {},
     "output_type": "display_data"
    },
    {
     "data": {
      "text/markdown": [
       "<span style=\"color:#33cc33\">Correct</span>"
      ],
      "text/plain": [
       "Correct"
      ]
     },
     "metadata": {},
     "output_type": "display_data"
    }
   ],
   "source": [
    "pi = 3.14159 # approximate\n",
    "diameter = 3\n",
    "radius = diameter / 2\n",
    "area = pi * radius ** 2\n",
    "\n",
    "print(area)\n",
    "\n",
    "# Create a variable called 'radius' equal to half the diameter\n",
    "____\n",
    "\n",
    "# Create a variable called 'area', using the formula for the area of a circle: pi times the radius squared\n",
    "____\n",
    "\n",
    "# Check your answer\n",
    "q1.check()"
   ]
  },
  {
   "cell_type": "code",
   "execution_count": 6,
   "id": "9be1dff9",
   "metadata": {
    "execution": {
     "iopub.execute_input": "2025-05-14T06:53:05.083038Z",
     "iopub.status.busy": "2025-05-14T06:53:05.082775Z",
     "iopub.status.idle": "2025-05-14T06:53:05.086221Z",
     "shell.execute_reply": "2025-05-14T06:53:05.085586Z"
    },
    "papermill": {
     "duration": 0.01014,
     "end_time": "2025-05-14T06:53:05.087443",
     "exception": false,
     "start_time": "2025-05-14T06:53:05.077303",
     "status": "completed"
    },
    "tags": []
   },
   "outputs": [],
   "source": [
    "# Uncomment and run the lines below if you need help.\n",
    "#q1.hint()\n",
    "#q1.solution()"
   ]
  },
  {
   "cell_type": "markdown",
   "id": "7067f3bc",
   "metadata": {
    "papermill": {
     "duration": 0.004525,
     "end_time": "2025-05-14T06:53:05.096740",
     "exception": false,
     "start_time": "2025-05-14T06:53:05.092215",
     "status": "completed"
    },
    "tags": []
   },
   "source": [
    "<hr/>\n",
    "\n",
    "# 2.\n",
    "\n",
    "Add code to the following cell to swap variables `a` and `b` (so that `a` refers to the object previously referred to by `b` and vice versa)."
   ]
  },
  {
   "cell_type": "code",
   "execution_count": 7,
   "id": "baaf8c0d",
   "metadata": {
    "execution": {
     "iopub.execute_input": "2025-05-14T06:53:05.107388Z",
     "iopub.status.busy": "2025-05-14T06:53:05.107081Z",
     "iopub.status.idle": "2025-05-14T06:53:05.114839Z",
     "shell.execute_reply": "2025-05-14T06:53:05.114159Z"
    },
    "papermill": {
     "duration": 0.014492,
     "end_time": "2025-05-14T06:53:05.115988",
     "exception": false,
     "start_time": "2025-05-14T06:53:05.101496",
     "status": "completed"
    },
    "tags": []
   },
   "outputs": [
    {
     "data": {
      "application/javascript": [
       "parent.postMessage({\"jupyterEvent\": \"custom.exercise_interaction\", \"data\": {\"outcomeType\": 1, \"valueTowardsCompletion\": 0.25, \"interactionType\": 1, \"questionType\": 2, \"questionId\": \"2_VariableSwap\", \"learnToolsVersion\": \"0.3.5\", \"failureMessage\": \"\", \"exceptionClass\": \"\", \"trace\": \"\"}}, \"*\")"
      ],
      "text/plain": [
       "<IPython.core.display.Javascript object>"
      ]
     },
     "metadata": {},
     "output_type": "display_data"
    },
    {
     "data": {
      "text/markdown": [
       "<span style=\"color:#33cc33\">Correct:</span> \n",
       "\n",
       "The most straightforward solution is to use a third variable to temporarily store one of the old values. e.g.:\n",
       "\n",
       "    tmp = a\n",
       "    a = b\n",
       "    b = tmp\n",
       "\n",
       "If you've read lots of Python code, you might have seen the following trick to swap two variables in one line:\n",
       "\n",
       "    a, b = b, a\n",
       "\n",
       "We'll demystify this bit of Python magic later when we talk about *tuples*."
      ],
      "text/plain": [
       "Correct: \n",
       "\n",
       "The most straightforward solution is to use a third variable to temporarily store one of the old values. e.g.:\n",
       "\n",
       "    tmp = a\n",
       "    a = b\n",
       "    b = tmp\n",
       "\n",
       "If you've read lots of Python code, you might have seen the following trick to swap two variables in one line:\n",
       "\n",
       "    a, b = b, a\n",
       "\n",
       "We'll demystify this bit of Python magic later when we talk about *tuples*."
      ]
     },
     "metadata": {},
     "output_type": "display_data"
    }
   ],
   "source": [
    "########### Setup code - don't touch this part ######################\n",
    "# If you're curious, these are examples of lists. We'll talk about \n",
    "# them in depth a few lessons from now. For now, just know that they're\n",
    "# yet another type of Python object, like int or float.\n",
    "a = [3, 5, 7]\n",
    "b = [7, 5, 3]\n",
    "q2.store_original_ids()\n",
    "######################################################################\n",
    "a, b = b, a\n",
    "# Your code goes here. Swap the values to which a and b refer.\n",
    "# If you get stuck, you can always uncomment one or both of the lines in\n",
    "# the next cell for a hint, or to peek at the solution.\n",
    "\n",
    "######################################################################\n",
    "\n",
    "# Check your answer\n",
    "q2.check()"
   ]
  },
  {
   "cell_type": "code",
   "execution_count": 8,
   "id": "483d229f",
   "metadata": {
    "execution": {
     "iopub.execute_input": "2025-05-14T06:53:05.127328Z",
     "iopub.status.busy": "2025-05-14T06:53:05.127062Z",
     "iopub.status.idle": "2025-05-14T06:53:05.130475Z",
     "shell.execute_reply": "2025-05-14T06:53:05.129902Z"
    },
    "papermill": {
     "duration": 0.010488,
     "end_time": "2025-05-14T06:53:05.131582",
     "exception": false,
     "start_time": "2025-05-14T06:53:05.121094",
     "status": "completed"
    },
    "tags": []
   },
   "outputs": [],
   "source": [
    "#q2.hint()"
   ]
  },
  {
   "cell_type": "code",
   "execution_count": 9,
   "id": "c6337d26",
   "metadata": {
    "execution": {
     "iopub.execute_input": "2025-05-14T06:53:05.143211Z",
     "iopub.status.busy": "2025-05-14T06:53:05.142443Z",
     "iopub.status.idle": "2025-05-14T06:53:05.146355Z",
     "shell.execute_reply": "2025-05-14T06:53:05.145546Z"
    },
    "papermill": {
     "duration": 0.01087,
     "end_time": "2025-05-14T06:53:05.147615",
     "exception": false,
     "start_time": "2025-05-14T06:53:05.136745",
     "status": "completed"
    },
    "tags": []
   },
   "outputs": [],
   "source": [
    "#q2.solution()"
   ]
  },
  {
   "cell_type": "markdown",
   "id": "6d205b70",
   "metadata": {
    "papermill": {
     "duration": 0.004772,
     "end_time": "2025-05-14T06:53:05.157447",
     "exception": false,
     "start_time": "2025-05-14T06:53:05.152675",
     "status": "completed"
    },
    "tags": []
   },
   "source": [
    "<hr/>\n",
    "\n",
    "# 3a.\n",
    "\n",
    "Add parentheses to the following expression so that it evaluates to 1."
   ]
  },
  {
   "cell_type": "code",
   "execution_count": 10,
   "id": "c58b01c6",
   "metadata": {
    "execution": {
     "iopub.execute_input": "2025-05-14T06:53:05.168617Z",
     "iopub.status.busy": "2025-05-14T06:53:05.168135Z",
     "iopub.status.idle": "2025-05-14T06:53:05.173395Z",
     "shell.execute_reply": "2025-05-14T06:53:05.172557Z"
    },
    "papermill": {
     "duration": 0.012453,
     "end_time": "2025-05-14T06:53:05.174785",
     "exception": false,
     "start_time": "2025-05-14T06:53:05.162332",
     "status": "completed"
    },
    "tags": []
   },
   "outputs": [
    {
     "data": {
      "text/plain": [
       "1"
      ]
     },
     "execution_count": 10,
     "metadata": {},
     "output_type": "execute_result"
    }
   ],
   "source": [
    "(5 - 3) // 2"
   ]
  },
  {
   "cell_type": "code",
   "execution_count": 11,
   "id": "0a53f212",
   "metadata": {
    "execution": {
     "iopub.execute_input": "2025-05-14T06:53:05.185976Z",
     "iopub.status.busy": "2025-05-14T06:53:05.185715Z",
     "iopub.status.idle": "2025-05-14T06:53:05.189322Z",
     "shell.execute_reply": "2025-05-14T06:53:05.188496Z"
    },
    "papermill": {
     "duration": 0.010533,
     "end_time": "2025-05-14T06:53:05.190522",
     "exception": false,
     "start_time": "2025-05-14T06:53:05.179989",
     "status": "completed"
    },
    "tags": []
   },
   "outputs": [],
   "source": [
    "#q3.a.hint()"
   ]
  },
  {
   "cell_type": "code",
   "execution_count": 12,
   "id": "2922f3aa",
   "metadata": {
    "execution": {
     "iopub.execute_input": "2025-05-14T06:53:05.201891Z",
     "iopub.status.busy": "2025-05-14T06:53:05.201582Z",
     "iopub.status.idle": "2025-05-14T06:53:05.207954Z",
     "shell.execute_reply": "2025-05-14T06:53:05.207214Z"
    },
    "papermill": {
     "duration": 0.013397,
     "end_time": "2025-05-14T06:53:05.209175",
     "exception": false,
     "start_time": "2025-05-14T06:53:05.195778",
     "status": "completed"
    },
    "tags": []
   },
   "outputs": [
    {
     "data": {
      "application/javascript": [
       "parent.postMessage({\"jupyterEvent\": \"custom.exercise_interaction\", \"data\": {\"interactionType\": 3, \"questionType\": 4, \"questionId\": \"3.1_ArithmeticParensEasy\", \"learnToolsVersion\": \"0.3.5\", \"valueTowardsCompletion\": 0.0, \"failureMessage\": \"\", \"exceptionClass\": \"\", \"trace\": \"\", \"outcomeType\": 4}}, \"*\")"
      ],
      "text/plain": [
       "<IPython.core.display.Javascript object>"
      ]
     },
     "metadata": {},
     "output_type": "display_data"
    },
    {
     "data": {
      "text/markdown": [
       "<span style=\"color:#33cc99\">Solution:</span> \n",
       "```python\n",
       "(5 - 3) // 2\n",
       "```"
      ],
      "text/plain": [
       "Solution: \n",
       "```python\n",
       "(5 - 3) // 2\n",
       "```"
      ]
     },
     "metadata": {},
     "output_type": "display_data"
    }
   ],
   "source": [
    "# Check your answer (Run this code cell to receive credit!)\n",
    "q3.a.solution()"
   ]
  },
  {
   "cell_type": "markdown",
   "id": "3f4705bf",
   "metadata": {
    "papermill": {
     "duration": 0.005144,
     "end_time": "2025-05-14T06:53:05.219724",
     "exception": false,
     "start_time": "2025-05-14T06:53:05.214580",
     "status": "completed"
    },
    "tags": []
   },
   "source": [
    "# 3b.  <span title=\"A bit spicy\" style=\"color: darkgreen \">🌶️</span>\n",
    "\n",
    "<small>Questions, like this one, marked a spicy pepper are a bit harder.</small>\n",
    "\n",
    "Add parentheses to the following expression so that it evaluates to 0."
   ]
  },
  {
   "cell_type": "code",
   "execution_count": 13,
   "id": "575875f8",
   "metadata": {
    "execution": {
     "iopub.execute_input": "2025-05-14T06:53:05.232873Z",
     "iopub.status.busy": "2025-05-14T06:53:05.232222Z",
     "iopub.status.idle": "2025-05-14T06:53:05.239011Z",
     "shell.execute_reply": "2025-05-14T06:53:05.238068Z"
    },
    "papermill": {
     "duration": 0.015951,
     "end_time": "2025-05-14T06:53:05.240846",
     "exception": false,
     "start_time": "2025-05-14T06:53:05.224895",
     "status": "completed"
    },
    "tags": []
   },
   "outputs": [
    {
     "data": {
      "text/plain": [
       "0"
      ]
     },
     "execution_count": 13,
     "metadata": {},
     "output_type": "execute_result"
    }
   ],
   "source": [
    "(8 - 3) * (2 - (1 + 1))"
   ]
  },
  {
   "cell_type": "code",
   "execution_count": 14,
   "id": "bc87e954",
   "metadata": {
    "execution": {
     "iopub.execute_input": "2025-05-14T06:53:05.255811Z",
     "iopub.status.busy": "2025-05-14T06:53:05.255503Z",
     "iopub.status.idle": "2025-05-14T06:53:05.259780Z",
     "shell.execute_reply": "2025-05-14T06:53:05.258890Z"
    },
    "papermill": {
     "duration": 0.012388,
     "end_time": "2025-05-14T06:53:05.261230",
     "exception": false,
     "start_time": "2025-05-14T06:53:05.248842",
     "status": "completed"
    },
    "tags": []
   },
   "outputs": [],
   "source": [
    "#q3.b.hint()"
   ]
  },
  {
   "cell_type": "code",
   "execution_count": 15,
   "id": "02718b45",
   "metadata": {
    "execution": {
     "iopub.execute_input": "2025-05-14T06:53:05.279936Z",
     "iopub.status.busy": "2025-05-14T06:53:05.279229Z",
     "iopub.status.idle": "2025-05-14T06:53:05.287475Z",
     "shell.execute_reply": "2025-05-14T06:53:05.286628Z"
    },
    "papermill": {
     "duration": 0.019251,
     "end_time": "2025-05-14T06:53:05.288730",
     "exception": false,
     "start_time": "2025-05-14T06:53:05.269479",
     "status": "completed"
    },
    "tags": []
   },
   "outputs": [
    {
     "data": {
      "application/javascript": [
       "parent.postMessage({\"jupyterEvent\": \"custom.exercise_interaction\", \"data\": {\"interactionType\": 3, \"questionType\": 4, \"questionId\": \"3.2_ArithmeticParensHard\", \"learnToolsVersion\": \"0.3.5\", \"valueTowardsCompletion\": 0.0, \"failureMessage\": \"\", \"exceptionClass\": \"\", \"trace\": \"\", \"outcomeType\": 4}}, \"*\")"
      ],
      "text/plain": [
       "<IPython.core.display.Javascript object>"
      ]
     },
     "metadata": {},
     "output_type": "display_data"
    },
    {
     "data": {
      "text/markdown": [
       "<span style=\"color:#33cc99\">Solution:</span> `(8 - 3) * (2 - (1 + 1))` is one solution. There may be others."
      ],
      "text/plain": [
       "Solution: `(8 - 3) * (2 - (1 + 1))` is one solution. There may be others."
      ]
     },
     "metadata": {},
     "output_type": "display_data"
    }
   ],
   "source": [
    "# Check your answer (Run this code cell to receive credit!)\n",
    "q3.b.solution()"
   ]
  },
  {
   "cell_type": "markdown",
   "id": "9b367484",
   "metadata": {
    "papermill": {
     "duration": 0.008726,
     "end_time": "2025-05-14T06:53:05.305195",
     "exception": false,
     "start_time": "2025-05-14T06:53:05.296469",
     "status": "completed"
    },
    "tags": []
   },
   "source": [
    "<hr/>\n",
    "\n",
    "# 4. \n",
    "Alice, Bob and Carol have agreed to pool their Halloween candy and split it evenly among themselves.\n",
    "For the sake of their friendship, any candies left over will be smashed. For example, if they collectively\n",
    "bring home 91 candies, they'll take 30 each and smash 1.\n",
    "\n",
    "Write an arithmetic expression below to calculate how many candies they must smash for a given haul."
   ]
  },
  {
   "cell_type": "code",
   "execution_count": 16,
   "id": "4e3d6e34",
   "metadata": {
    "execution": {
     "iopub.execute_input": "2025-05-14T06:53:05.320615Z",
     "iopub.status.busy": "2025-05-14T06:53:05.320310Z",
     "iopub.status.idle": "2025-05-14T06:53:05.327308Z",
     "shell.execute_reply": "2025-05-14T06:53:05.326691Z"
    },
    "papermill": {
     "duration": 0.014727,
     "end_time": "2025-05-14T06:53:05.328546",
     "exception": false,
     "start_time": "2025-05-14T06:53:05.313819",
     "status": "completed"
    },
    "tags": []
   },
   "outputs": [
    {
     "data": {
      "application/javascript": [
       "parent.postMessage({\"jupyterEvent\": \"custom.exercise_interaction\", \"data\": {\"outcomeType\": 1, \"valueTowardsCompletion\": 0.25, \"interactionType\": 1, \"questionType\": 1, \"questionId\": \"4_CandySplitting\", \"learnToolsVersion\": \"0.3.5\", \"failureMessage\": \"\", \"exceptionClass\": \"\", \"trace\": \"\"}}, \"*\")"
      ],
      "text/plain": [
       "<IPython.core.display.Javascript object>"
      ]
     },
     "metadata": {},
     "output_type": "display_data"
    },
    {
     "data": {
      "text/markdown": [
       "<span style=\"color:#33cc33\">Correct</span>"
      ],
      "text/plain": [
       "Correct"
      ]
     },
     "metadata": {},
     "output_type": "display_data"
    }
   ],
   "source": [
    "# Variables representing the number of candies collected by alice, bob, and carol\n",
    "alice_candies = 121\n",
    "bob_candies = 77\n",
    "carol_candies = 109\n",
    "\n",
    "# Your code goes here! Replace the right-hand side of this assignment with an expression\n",
    "# involving alice_candies, bob_candies, and carol_candies\n",
    "total_candies = alice_candies + bob_candies + carol_candies\n",
    "to_smash = total_candies % 3\n",
    "\n",
    "# Check your answer\n",
    "q4.check()"
   ]
  },
  {
   "cell_type": "code",
   "execution_count": 17,
   "id": "b599c110",
   "metadata": {
    "execution": {
     "iopub.execute_input": "2025-05-14T06:53:05.341624Z",
     "iopub.status.busy": "2025-05-14T06:53:05.340984Z",
     "iopub.status.idle": "2025-05-14T06:53:05.344536Z",
     "shell.execute_reply": "2025-05-14T06:53:05.343728Z"
    },
    "papermill": {
     "duration": 0.011344,
     "end_time": "2025-05-14T06:53:05.345780",
     "exception": false,
     "start_time": "2025-05-14T06:53:05.334436",
     "status": "completed"
    },
    "tags": []
   },
   "outputs": [],
   "source": [
    "#q4.hint()\n",
    "#q4.solution()"
   ]
  },
  {
   "cell_type": "markdown",
   "id": "3ca4bc33",
   "metadata": {
    "papermill": {
     "duration": 0.005602,
     "end_time": "2025-05-14T06:53:05.357079",
     "exception": false,
     "start_time": "2025-05-14T06:53:05.351477",
     "status": "completed"
    },
    "tags": []
   },
   "source": [
    "# Keep Going\n",
    "\n",
    "Next up, you'll **[learn to write new functions and understand functions others write](https://www.kaggle.com/colinmorris/functions-and-getting-help)**. This will make you at least 10 times more productive as a Python programmer. "
   ]
  },
  {
   "cell_type": "markdown",
   "id": "f16811fa",
   "metadata": {
    "papermill": {
     "duration": 0.005436,
     "end_time": "2025-05-14T06:53:05.368270",
     "exception": false,
     "start_time": "2025-05-14T06:53:05.362834",
     "status": "completed"
    },
    "tags": []
   },
   "source": [
    "---\n",
    "\n",
    "\n",
    "\n",
    "\n",
    "*Have questions or comments? Visit the [course discussion forum](https://www.kaggle.com/learn/python/discussion) to chat with other learners.*"
   ]
  }
 ],
 "metadata": {
  "kaggle": {
   "accelerator": "none",
   "dataSources": [],
   "isGpuEnabled": false,
   "isInternetEnabled": false,
   "language": "python",
   "sourceType": "notebook"
  },
  "kernelspec": {
   "display_name": "Python 3",
   "language": "python",
   "name": "python3"
  },
  "language_info": {
   "codemirror_mode": {
    "name": "ipython",
    "version": 3
   },
   "file_extension": ".py",
   "mimetype": "text/x-python",
   "name": "python",
   "nbconvert_exporter": "python",
   "pygments_lexer": "ipython3",
   "version": "3.11.11"
  },
  "learntools_metadata": {
   "lesson_index": 0,
   "type": "exercise"
  },
  "papermill": {
   "default_parameters": {},
   "duration": 8.032226,
   "end_time": "2025-05-14T06:53:05.891935",
   "environment_variables": {},
   "exception": null,
   "input_path": "__notebook__.ipynb",
   "output_path": "__notebook__.ipynb",
   "parameters": {},
   "start_time": "2025-05-14T06:52:57.859709",
   "version": "2.6.0"
  }
 },
 "nbformat": 4,
 "nbformat_minor": 5
}
