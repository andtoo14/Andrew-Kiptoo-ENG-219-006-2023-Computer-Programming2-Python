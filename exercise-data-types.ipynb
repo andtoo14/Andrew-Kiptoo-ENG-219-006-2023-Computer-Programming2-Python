{
 "cells": [
  {
   "cell_type": "markdown",
   "id": "b20e391d",
   "metadata": {
    "papermill": {
     "duration": 0.006352,
     "end_time": "2025-02-27T09:57:17.526769",
     "exception": false,
     "start_time": "2025-02-27T09:57:17.520417",
     "status": "completed"
    },
    "tags": []
   },
   "source": [
    "**This notebook is an exercise in the [Intro to Programming](https://www.kaggle.com/learn/intro-to-programming) course.  You can reference the tutorial at [this link](https://www.kaggle.com/alexisbcook/data-types).**\n",
    "\n",
    "---\n"
   ]
  },
  {
   "cell_type": "markdown",
   "id": "1351467f",
   "metadata": {
    "papermill": {
     "duration": 0.005184,
     "end_time": "2025-02-27T09:57:17.537693",
     "exception": false,
     "start_time": "2025-02-27T09:57:17.532509",
     "status": "completed"
    },
    "tags": []
   },
   "source": [
    "In the tutorial, you learned about four different data types: floats, integers, strings, and booleans.  In this exercise, you'll experiment with them.\n",
    "\n",
    "# Set up the notebook\n",
    "\n",
    "Run the next code cell without changes to set up the notebook."
   ]
  },
  {
   "cell_type": "code",
   "execution_count": 1,
   "id": "c4311a89",
   "metadata": {
    "execution": {
     "iopub.execute_input": "2025-02-27T09:57:17.550788Z",
     "iopub.status.busy": "2025-02-27T09:57:17.550230Z",
     "iopub.status.idle": "2025-02-27T09:57:18.567950Z",
     "shell.execute_reply": "2025-02-27T09:57:18.566759Z"
    },
    "papermill": {
     "duration": 1.026639,
     "end_time": "2025-02-27T09:57:18.569869",
     "exception": false,
     "start_time": "2025-02-27T09:57:17.543230",
     "status": "completed"
    },
    "tags": []
   },
   "outputs": [
    {
     "name": "stdout",
     "output_type": "stream",
     "text": [
      "Setup complete.\n"
     ]
    }
   ],
   "source": [
    "# Set up the exercise\n",
    "from learntools.core import binder\n",
    "binder.bind(globals())\n",
    "from learntools.intro_to_programming.ex3 import *\n",
    "print('Setup complete.')"
   ]
  },
  {
   "cell_type": "markdown",
   "id": "b8d12387",
   "metadata": {
    "papermill": {
     "duration": 0.004984,
     "end_time": "2025-02-27T09:57:18.580790",
     "exception": false,
     "start_time": "2025-02-27T09:57:18.575806",
     "status": "completed"
    },
    "tags": []
   },
   "source": [
    "# Question 1\n",
    "\n",
    "You have seen how to convert a float to an integer with the `int` function.  Try this out yourself by running the code cell below."
   ]
  },
  {
   "cell_type": "code",
   "execution_count": 2,
   "id": "9ce50d0e",
   "metadata": {
    "execution": {
     "iopub.execute_input": "2025-02-27T09:57:18.592764Z",
     "iopub.status.busy": "2025-02-27T09:57:18.592203Z",
     "iopub.status.idle": "2025-02-27T09:57:18.598735Z",
     "shell.execute_reply": "2025-02-27T09:57:18.597385Z"
    },
    "papermill": {
     "duration": 0.01431,
     "end_time": "2025-02-27T09:57:18.600282",
     "exception": false,
     "start_time": "2025-02-27T09:57:18.585972",
     "status": "completed"
    },
    "tags": []
   },
   "outputs": [
    {
     "name": "stdout",
     "output_type": "stream",
     "text": [
      "6.75\n",
      "<class 'float'>\n",
      "6\n",
      "<class 'int'>\n"
     ]
    }
   ],
   "source": [
    "# Define a float\n",
    "y = 6.75\n",
    "print(y)\n",
    "print(type(y))\n",
    "\n",
    "# Convert float to integer with the int function\n",
    "z = int(y)\n",
    "print(z)\n",
    "print(type(z))"
   ]
  },
  {
   "cell_type": "markdown",
   "id": "8b31b610",
   "metadata": {
    "papermill": {
     "duration": 0.004999,
     "end_time": "2025-02-27T09:57:18.610821",
     "exception": false,
     "start_time": "2025-02-27T09:57:18.605822",
     "status": "completed"
    },
    "tags": []
   },
   "source": [
    "In this case, the float you are using has no numbers after the decimal.  \n",
    "- But what happens when you try to convert a float with a fractional part to an integer?  \n",
    "- How does the outcome of the `int` function change for positive and negative numbers?\n",
    "\n",
    "Use the next code cell to investigate and answer these questions.  Feel free to add or remove any lines of code -- it is your workspace!"
   ]
  },
  {
   "cell_type": "code",
   "execution_count": 3,
   "id": "5aa0164e",
   "metadata": {
    "execution": {
     "iopub.execute_input": "2025-02-27T09:57:18.622508Z",
     "iopub.status.busy": "2025-02-27T09:57:18.622182Z",
     "iopub.status.idle": "2025-02-27T09:57:18.628603Z",
     "shell.execute_reply": "2025-02-27T09:57:18.627650Z"
    },
    "papermill": {
     "duration": 0.01421,
     "end_time": "2025-02-27T09:57:18.630334",
     "exception": false,
     "start_time": "2025-02-27T09:57:18.616124",
     "status": "completed"
    },
    "tags": []
   },
   "outputs": [
    {
     "name": "stdout",
     "output_type": "stream",
     "text": [
      "1\n",
      "1\n",
      "-3\n",
      "-2\n"
     ]
    }
   ],
   "source": [
    "# Uncomment and run this code to get started!\n",
    "print(int(1.2321))\n",
    "print(int(1.747))\n",
    "print(int(-3.94535))\n",
    "print(int(-2.19774))"
   ]
  },
  {
   "cell_type": "markdown",
   "id": "24139f77",
   "metadata": {
    "papermill": {
     "duration": 0.005143,
     "end_time": "2025-02-27T09:57:18.641152",
     "exception": false,
     "start_time": "2025-02-27T09:57:18.636009",
     "status": "completed"
    },
    "tags": []
   },
   "source": [
    "Once you have an answer, run the code cell below to see the solution.  Viewing the solution will give you credit for answering the problem."
   ]
  },
  {
   "cell_type": "code",
   "execution_count": 4,
   "id": "d60d4891",
   "metadata": {
    "execution": {
     "iopub.execute_input": "2025-02-27T09:57:18.652982Z",
     "iopub.status.busy": "2025-02-27T09:57:18.652662Z",
     "iopub.status.idle": "2025-02-27T09:57:18.661258Z",
     "shell.execute_reply": "2025-02-27T09:57:18.660413Z"
    },
    "papermill": {
     "duration": 0.016507,
     "end_time": "2025-02-27T09:57:18.662971",
     "exception": false,
     "start_time": "2025-02-27T09:57:18.646464",
     "status": "completed"
    },
    "tags": []
   },
   "outputs": [
    {
     "data": {
      "application/javascript": [
       "parent.postMessage({\"jupyterEvent\": \"custom.exercise_interaction\", \"data\": {\"outcomeType\": 1, \"valueTowardsCompletion\": 0.2, \"interactionType\": 1, \"questionType\": 4, \"questionId\": \"1_FloatToInt\", \"learnToolsVersion\": \"0.3.4\", \"failureMessage\": \"\", \"exceptionClass\": \"\", \"trace\": \"\"}}, \"*\")"
      ],
      "text/plain": [
       "<IPython.core.display.Javascript object>"
      ]
     },
     "metadata": {},
     "output_type": "display_data"
    },
    {
     "data": {
      "text/markdown": [
       "<span style=\"color:#33cc33\">Correct:</span> \n",
       "\n",
       "Negative floats are always rounded UP to the closest integer (for instance, both -1.1 and -1.9 are rounded up to -1). Positive floats are always rounded DOWN to the closest integer (for instance, 2.1 and 2.9 are rounded down to 2)."
      ],
      "text/plain": [
       "Correct: \n",
       "\n",
       "Negative floats are always rounded UP to the closest integer (for instance, both -1.1 and -1.9 are rounded up to -1). Positive floats are always rounded DOWN to the closest integer (for instance, 2.1 and 2.9 are rounded down to 2)."
      ]
     },
     "metadata": {},
     "output_type": "display_data"
    }
   ],
   "source": [
    "# Check your answer (Run this code cell to receive credit!)\n",
    "q1.check()"
   ]
  },
  {
   "cell_type": "markdown",
   "id": "0d2981d5",
   "metadata": {
    "papermill": {
     "duration": 0.005272,
     "end_time": "2025-02-27T09:57:18.674014",
     "exception": false,
     "start_time": "2025-02-27T09:57:18.668742",
     "status": "completed"
    },
    "tags": []
   },
   "source": [
    "# Question 2\n",
    "\n",
    "In the tutorial, you learned about booleans (which can take a value of `True` or `False`), in addition to integers, floats, and strings.  For this question, your goal is to determine what happens when you multiply a boolean by any of these data types.  Specifically, \n",
    "- What happens when you multiply an integer or float by `True`?  What happens when you multiply them by `False`?  How does the answer change if the numbers are positive or negative?\n",
    "- What happens when you multiply a string by `True`?  By `False`?\n",
    "\n",
    "Use the next code cell for your investigation. "
   ]
  },
  {
   "cell_type": "code",
   "execution_count": 5,
   "id": "f480dce3",
   "metadata": {
    "execution": {
     "iopub.execute_input": "2025-02-27T09:57:18.687046Z",
     "iopub.status.busy": "2025-02-27T09:57:18.686714Z",
     "iopub.status.idle": "2025-02-27T09:57:18.692443Z",
     "shell.execute_reply": "2025-02-27T09:57:18.691048Z"
    },
    "papermill": {
     "duration": 0.014071,
     "end_time": "2025-02-27T09:57:18.693974",
     "exception": false,
     "start_time": "2025-02-27T09:57:18.679903",
     "status": "completed"
    },
    "tags": []
   },
   "outputs": [
    {
     "name": "stdout",
     "output_type": "stream",
     "text": [
      "3\n",
      "-3.1\n",
      "<class 'str'>\n",
      "0\n"
     ]
    }
   ],
   "source": [
    "# Uncomment and run this code to get started!\n",
    "print(3 * True)\n",
    "print(-3.1 * True)\n",
    "print(type(\"abc\" * False))\n",
    "print(len(\"abc\" * False))"
   ]
  },
  {
   "cell_type": "markdown",
   "id": "5e4c4190",
   "metadata": {
    "papermill": {
     "duration": 0.005737,
     "end_time": "2025-02-27T09:57:18.705749",
     "exception": false,
     "start_time": "2025-02-27T09:57:18.700012",
     "status": "completed"
    },
    "tags": []
   },
   "source": [
    "Once you have an answer, run the code cell below to see the solution.  Viewing the solution will give you credit for answering the problem."
   ]
  },
  {
   "cell_type": "code",
   "execution_count": 6,
   "id": "60169e7c",
   "metadata": {
    "execution": {
     "iopub.execute_input": "2025-02-27T09:57:18.718412Z",
     "iopub.status.busy": "2025-02-27T09:57:18.717998Z",
     "iopub.status.idle": "2025-02-27T09:57:18.725698Z",
     "shell.execute_reply": "2025-02-27T09:57:18.724655Z"
    },
    "papermill": {
     "duration": 0.01597,
     "end_time": "2025-02-27T09:57:18.727379",
     "exception": false,
     "start_time": "2025-02-27T09:57:18.711409",
     "status": "completed"
    },
    "tags": []
   },
   "outputs": [
    {
     "data": {
      "application/javascript": [
       "parent.postMessage({\"jupyterEvent\": \"custom.exercise_interaction\", \"data\": {\"outcomeType\": 1, \"valueTowardsCompletion\": 0.2, \"interactionType\": 1, \"questionType\": 4, \"questionId\": \"2_MultiplyBooleans\", \"learnToolsVersion\": \"0.3.4\", \"failureMessage\": \"\", \"exceptionClass\": \"\", \"trace\": \"\"}}, \"*\")"
      ],
      "text/plain": [
       "<IPython.core.display.Javascript object>"
      ]
     },
     "metadata": {},
     "output_type": "display_data"
    },
    {
     "data": {
      "text/markdown": [
       "<span style=\"color:#33cc33\">Correct:</span> \n",
       "\n",
       "When you multiple an integer or float by a boolean with value `True`, it just returns that same integer or float (and is equivalent to multiplying by 1).  If you multiply an integer or float by a boolean with value `False`, it always returns 0.  This is true for both positive and negative numbers.  If you multiply a string by a boolean with value `True`, it just returns that same string.  And if you multiply a string by a boolean with value `False`, it returns an empty string (or a string with length zero)."
      ],
      "text/plain": [
       "Correct: \n",
       "\n",
       "When you multiple an integer or float by a boolean with value `True`, it just returns that same integer or float (and is equivalent to multiplying by 1).  If you multiply an integer or float by a boolean with value `False`, it always returns 0.  This is true for both positive and negative numbers.  If you multiply a string by a boolean with value `True`, it just returns that same string.  And if you multiply a string by a boolean with value `False`, it returns an empty string (or a string with length zero)."
      ]
     },
     "metadata": {},
     "output_type": "display_data"
    }
   ],
   "source": [
    "# Check your answer (Run this code cell to receive credit!)\n",
    "q2.check()"
   ]
  },
  {
   "cell_type": "markdown",
   "id": "55c00eac",
   "metadata": {
    "papermill": {
     "duration": 0.005496,
     "end_time": "2025-02-27T09:57:18.739081",
     "exception": false,
     "start_time": "2025-02-27T09:57:18.733585",
     "status": "completed"
    },
    "tags": []
   },
   "source": [
    "# Question 3\n",
    "\n",
    "In this question, you will build off your work from the previous exercise to write a function that estimates the value of a house.\n",
    "\n",
    "Use the next code cell to create a function `get_expected_cost` that takes as input three variables:\n",
    "- `beds` - number of bedrooms (data type float)\n",
    "- `baths` - number of bathrooms (data type float)\n",
    "- `has_basement` - whether or not the house has a basement (data type boolean)\n",
    "\n",
    "It should return the expected cost of a house with those characteristics. Assume that:\n",
    "- the expected cost for a house with 0 bedrooms and 0 bathrooms, and no basement is 80000, \n",
    "- each bedroom adds 30000 to the expected cost,\n",
    "- each bathroom adds 10000 to the expected cost, and\n",
    "- a basement adds 40000 to the expected cost.\n",
    "\n",
    "For instance,\n",
    "- a house with 1 bedroom, 1 bathroom, and no basement has an expected cost of 80000 + 30000 + 10000 = 120000.  This value will be calculated with `get_expected_cost(1, 1, False)`.\n",
    "- a house with 2 bedrooms, 1 bathroom, and a basement has an expected cost of 80000 + 2*30000 + 10000 + 40000 = 190000.  This value will be calculated with `get_expected_cost(2, 1, True)`.\n",
    "\n",
    "Remember you can always get a hint by uncommenting `q3.hint()` in the code cell following the next!"
   ]
  },
  {
   "cell_type": "code",
   "execution_count": 7,
   "id": "8a409b93",
   "metadata": {
    "execution": {
     "iopub.execute_input": "2025-02-27T09:57:18.751703Z",
     "iopub.status.busy": "2025-02-27T09:57:18.751326Z",
     "iopub.status.idle": "2025-02-27T09:57:18.758754Z",
     "shell.execute_reply": "2025-02-27T09:57:18.757724Z"
    },
    "papermill": {
     "duration": 0.015771,
     "end_time": "2025-02-27T09:57:18.760555",
     "exception": false,
     "start_time": "2025-02-27T09:57:18.744784",
     "status": "completed"
    },
    "tags": []
   },
   "outputs": [
    {
     "data": {
      "application/javascript": [
       "parent.postMessage({\"jupyterEvent\": \"custom.exercise_interaction\", \"data\": {\"outcomeType\": 1, \"valueTowardsCompletion\": 0.2, \"interactionType\": 1, \"questionType\": 2, \"questionId\": \"3_EstimateHouseValueBool\", \"learnToolsVersion\": \"0.3.4\", \"failureMessage\": \"\", \"exceptionClass\": \"\", \"trace\": \"\"}}, \"*\")"
      ],
      "text/plain": [
       "<IPython.core.display.Javascript object>"
      ]
     },
     "metadata": {},
     "output_type": "display_data"
    },
    {
     "data": {
      "text/markdown": [
       "<span style=\"color:#33cc33\">Correct</span>"
      ],
      "text/plain": [
       "Correct"
      ]
     },
     "metadata": {},
     "output_type": "display_data"
    }
   ],
   "source": [
    "# TODO: Complete the function\n",
    "def get_expected_cost(beds, baths, has_basement):\n",
    "    value = 80000 + 30000 * beds + 10000 * baths + 40000 * has_basement\n",
    "    return value\n",
    "\n",
    "# Check your answer \n",
    "q3.check()"
   ]
  },
  {
   "cell_type": "code",
   "execution_count": 8,
   "id": "6877a567",
   "metadata": {
    "execution": {
     "iopub.execute_input": "2025-02-27T09:57:18.774339Z",
     "iopub.status.busy": "2025-02-27T09:57:18.774020Z",
     "iopub.status.idle": "2025-02-27T09:57:18.777591Z",
     "shell.execute_reply": "2025-02-27T09:57:18.776736Z"
    },
    "papermill": {
     "duration": 0.012188,
     "end_time": "2025-02-27T09:57:18.779342",
     "exception": false,
     "start_time": "2025-02-27T09:57:18.767154",
     "status": "completed"
    },
    "tags": []
   },
   "outputs": [],
   "source": [
    "# Uncomment to see a hint\n",
    "#q3.hint()\n",
    "\n",
    "# Uncomment to view the solution\n",
    "#q3.solution()"
   ]
  },
  {
   "cell_type": "markdown",
   "id": "01eba310",
   "metadata": {
    "papermill": {
     "duration": 0.00591,
     "end_time": "2025-02-27T09:57:18.791715",
     "exception": false,
     "start_time": "2025-02-27T09:57:18.785805",
     "status": "completed"
    },
    "tags": []
   },
   "source": [
    "# Question 4\n",
    "\n",
    "We'll continue our study of boolean arithmetic.  For this question, your task is to provide a description of what happpens when you add booleans. \n",
    "\n",
    "Use the next code cell for your investigation.  Feel free to add or remove any lines of code - use it as your workspace!"
   ]
  },
  {
   "cell_type": "code",
   "execution_count": 9,
   "id": "bb489270",
   "metadata": {
    "execution": {
     "iopub.execute_input": "2025-02-27T09:57:18.805144Z",
     "iopub.status.busy": "2025-02-27T09:57:18.804810Z",
     "iopub.status.idle": "2025-02-27T09:57:18.811935Z",
     "shell.execute_reply": "2025-02-27T09:57:18.810862Z"
    },
    "papermill": {
     "duration": 0.015735,
     "end_time": "2025-02-27T09:57:18.813701",
     "exception": false,
     "start_time": "2025-02-27T09:57:18.797966",
     "status": "completed"
    },
    "tags": []
   },
   "outputs": [
    {
     "name": "stdout",
     "output_type": "stream",
     "text": [
      "0\n",
      "1\n",
      "1\n",
      "2\n",
      "3\n",
      "1\n"
     ]
    }
   ],
   "source": [
    "print(False + False)\n",
    "print(True + False)\n",
    "print(False + True)\n",
    "print(True + True)\n",
    "print(False + True + True + True)\n",
    "print(True + False + False)"
   ]
  },
  {
   "cell_type": "markdown",
   "id": "6db02f4f",
   "metadata": {
    "papermill": {
     "duration": 0.005875,
     "end_time": "2025-02-27T09:57:18.825795",
     "exception": false,
     "start_time": "2025-02-27T09:57:18.819920",
     "status": "completed"
    },
    "tags": []
   },
   "source": [
    "Once you have an answer, run the code cell below to see the solution.  Viewing the solution will give you credit for answering the problem."
   ]
  },
  {
   "cell_type": "code",
   "execution_count": 10,
   "id": "3f09f65a",
   "metadata": {
    "execution": {
     "iopub.execute_input": "2025-02-27T09:57:18.840162Z",
     "iopub.status.busy": "2025-02-27T09:57:18.839765Z",
     "iopub.status.idle": "2025-02-27T09:57:18.846899Z",
     "shell.execute_reply": "2025-02-27T09:57:18.845907Z"
    },
    "papermill": {
     "duration": 0.016377,
     "end_time": "2025-02-27T09:57:18.848477",
     "exception": false,
     "start_time": "2025-02-27T09:57:18.832100",
     "status": "completed"
    },
    "tags": []
   },
   "outputs": [
    {
     "data": {
      "application/javascript": [
       "parent.postMessage({\"jupyterEvent\": \"custom.exercise_interaction\", \"data\": {\"outcomeType\": 1, \"valueTowardsCompletion\": 0.2, \"interactionType\": 1, \"questionType\": 4, \"questionId\": \"4_AddingBooleans\", \"learnToolsVersion\": \"0.3.4\", \"failureMessage\": \"\", \"exceptionClass\": \"\", \"trace\": \"\"}}, \"*\")"
      ],
      "text/plain": [
       "<IPython.core.display.Javascript object>"
      ]
     },
     "metadata": {},
     "output_type": "display_data"
    },
    {
     "data": {
      "text/markdown": [
       "<span style=\"color:#33cc33\">Correct:</span> \n",
       "\n",
       "When you add booleans, adding `False` is equivalent to adding 0, and adding `True` is equivalent to adding 1."
      ],
      "text/plain": [
       "Correct: \n",
       "\n",
       "When you add booleans, adding `False` is equivalent to adding 0, and adding `True` is equivalent to adding 1."
      ]
     },
     "metadata": {},
     "output_type": "display_data"
    }
   ],
   "source": [
    "# Check your answer (Run this code cell to receive credit!)\n",
    "q4.check()"
   ]
  },
  {
   "cell_type": "markdown",
   "id": "0d17e952",
   "metadata": {
    "papermill": {
     "duration": 0.006249,
     "end_time": "2025-02-27T09:57:18.861151",
     "exception": false,
     "start_time": "2025-02-27T09:57:18.854902",
     "status": "completed"
    },
    "tags": []
   },
   "source": [
    "# 🌶️ Question 5\n",
    "\n",
    "You own an online shop where you sell rings with custom engravings.  You offer both gold plated and solid gold rings.\n",
    "- Gold plated rings have a base cost of \\\\$50, and you charge \\\\$7 per engraved unit.  \n",
    "- Solid gold rings have a base cost of \\\\$100, and you charge \\\\$10 per engraved unit.\n",
    "- Spaces and punctuation are counted as engraved units.\n",
    "\n",
    "Write a function `cost_of_project()` that takes two arguments:\n",
    "- `engraving` - a Python string with the text of the engraving\n",
    "- `solid_gold` - a Boolean that indicates whether the ring is solid gold\n",
    "\n",
    "It should return the cost of the project.  This question should be fairly challenging, and you may need a hint."
   ]
  },
  {
   "cell_type": "code",
   "execution_count": 11,
   "id": "23427c37",
   "metadata": {
    "execution": {
     "iopub.execute_input": "2025-02-27T09:57:18.875211Z",
     "iopub.status.busy": "2025-02-27T09:57:18.874900Z",
     "iopub.status.idle": "2025-02-27T09:57:18.882870Z",
     "shell.execute_reply": "2025-02-27T09:57:18.881747Z"
    },
    "papermill": {
     "duration": 0.017046,
     "end_time": "2025-02-27T09:57:18.884600",
     "exception": false,
     "start_time": "2025-02-27T09:57:18.867554",
     "status": "completed"
    },
    "tags": []
   },
   "outputs": [
    {
     "data": {
      "application/javascript": [
       "parent.postMessage({\"jupyterEvent\": \"custom.exercise_interaction\", \"data\": {\"outcomeType\": 1, \"valueTowardsCompletion\": 0.2, \"interactionType\": 1, \"questionType\": 2, \"questionId\": \"5_CustomEngravings\", \"learnToolsVersion\": \"0.3.4\", \"failureMessage\": \"\", \"exceptionClass\": \"\", \"trace\": \"\"}}, \"*\")"
      ],
      "text/plain": [
       "<IPython.core.display.Javascript object>"
      ]
     },
     "metadata": {},
     "output_type": "display_data"
    },
    {
     "data": {
      "text/markdown": [
       "<span style=\"color:#33cc33\">Correct</span>"
      ],
      "text/plain": [
       "Correct"
      ]
     },
     "metadata": {},
     "output_type": "display_data"
    }
   ],
   "source": [
    "def cost_of_project(engraving, solid_gold):\n",
    "    cost = solid_gold * (100 + 10 * len(engraving)) + (not solid_gold) * (50 + 7 * len(engraving))\n",
    "    return cost\n",
    "\n",
    "# Check your answer\n",
    "q5.check()"
   ]
  },
  {
   "cell_type": "code",
   "execution_count": 12,
   "id": "bb8043ff",
   "metadata": {
    "execution": {
     "iopub.execute_input": "2025-02-27T09:57:18.899510Z",
     "iopub.status.busy": "2025-02-27T09:57:18.899187Z",
     "iopub.status.idle": "2025-02-27T09:57:18.902780Z",
     "shell.execute_reply": "2025-02-27T09:57:18.901866Z"
    },
    "papermill": {
     "duration": 0.012787,
     "end_time": "2025-02-27T09:57:18.904547",
     "exception": false,
     "start_time": "2025-02-27T09:57:18.891760",
     "status": "completed"
    },
    "tags": []
   },
   "outputs": [],
   "source": [
    "# Uncomment to see a hint\n",
    "#q5.hint()\n",
    "\n",
    "# Uncomment to view the solution\n",
    "#q5.solution()"
   ]
  },
  {
   "cell_type": "markdown",
   "id": "8552b2f0",
   "metadata": {
    "papermill": {
     "duration": 0.006318,
     "end_time": "2025-02-27T09:57:18.917885",
     "exception": false,
     "start_time": "2025-02-27T09:57:18.911567",
     "status": "completed"
    },
    "tags": []
   },
   "source": [
    "Run the next code cell to calculate the cost of engraving `Charlie+Denver` on a solid gold ring."
   ]
  },
  {
   "cell_type": "code",
   "execution_count": 13,
   "id": "e73dffbe",
   "metadata": {
    "execution": {
     "iopub.execute_input": "2025-02-27T09:57:18.932353Z",
     "iopub.status.busy": "2025-02-27T09:57:18.932039Z",
     "iopub.status.idle": "2025-02-27T09:57:18.936225Z",
     "shell.execute_reply": "2025-02-27T09:57:18.935223Z"
    },
    "papermill": {
     "duration": 0.013692,
     "end_time": "2025-02-27T09:57:18.937964",
     "exception": false,
     "start_time": "2025-02-27T09:57:18.924272",
     "status": "completed"
    },
    "tags": []
   },
   "outputs": [
    {
     "name": "stdout",
     "output_type": "stream",
     "text": [
      "240\n"
     ]
    }
   ],
   "source": [
    "project_one = cost_of_project(\"Charlie+Denver\", True)\n",
    "print(project_one)"
   ]
  },
  {
   "cell_type": "markdown",
   "id": "df5412eb",
   "metadata": {
    "papermill": {
     "duration": 0.006263,
     "end_time": "2025-02-27T09:57:18.950930",
     "exception": false,
     "start_time": "2025-02-27T09:57:18.944667",
     "status": "completed"
    },
    "tags": []
   },
   "source": [
    "Use the next code cell to calculate the cost of engraving `08/10/2000` on a gold plated ring."
   ]
  },
  {
   "cell_type": "code",
   "execution_count": 14,
   "id": "559f0285",
   "metadata": {
    "execution": {
     "iopub.execute_input": "2025-02-27T09:57:18.965031Z",
     "iopub.status.busy": "2025-02-27T09:57:18.964685Z",
     "iopub.status.idle": "2025-02-27T09:57:18.969804Z",
     "shell.execute_reply": "2025-02-27T09:57:18.968704Z"
    },
    "papermill": {
     "duration": 0.014271,
     "end_time": "2025-02-27T09:57:18.971581",
     "exception": false,
     "start_time": "2025-02-27T09:57:18.957310",
     "status": "completed"
    },
    "tags": []
   },
   "outputs": [
    {
     "name": "stdout",
     "output_type": "stream",
     "text": [
      "120\n"
     ]
    }
   ],
   "source": [
    "project_two = cost_of_project(\"08/10/2000\", False)\n",
    "print(project_two)"
   ]
  },
  {
   "cell_type": "markdown",
   "id": "95e3dfea",
   "metadata": {
    "papermill": {
     "duration": 0.006354,
     "end_time": "2025-02-27T09:57:18.984827",
     "exception": false,
     "start_time": "2025-02-27T09:57:18.978473",
     "status": "completed"
    },
    "tags": []
   },
   "source": [
    "# Keep going\n",
    "\n",
    "Continue to the next lesson to **[learn about conditions and conditional statements](https://www.kaggle.com/alexisbcook/conditions-and-conditional-statements)**."
   ]
  },
  {
   "cell_type": "markdown",
   "id": "cb818087",
   "metadata": {
    "papermill": {
     "duration": 0.006192,
     "end_time": "2025-02-27T09:57:18.997746",
     "exception": false,
     "start_time": "2025-02-27T09:57:18.991554",
     "status": "completed"
    },
    "tags": []
   },
   "source": [
    "---\n",
    "\n",
    "\n",
    "\n",
    "\n",
    "*Have questions or comments? Visit the [course discussion forum](https://www.kaggle.com/learn/intro-to-programming/discussion) to chat with other learners.*"
   ]
  }
 ],
 "metadata": {
  "kaggle": {
   "accelerator": "none",
   "dataSources": [],
   "isGpuEnabled": false,
   "isInternetEnabled": false,
   "language": "python",
   "sourceType": "notebook"
  },
  "kernelspec": {
   "display_name": "Python 3",
   "language": "python",
   "name": "python3"
  },
  "language_info": {
   "codemirror_mode": {
    "name": "ipython",
    "version": 3
   },
   "file_extension": ".py",
   "mimetype": "text/x-python",
   "name": "python",
   "nbconvert_exporter": "python",
   "pygments_lexer": "ipython3",
   "version": "3.10.12"
  },
  "papermill": {
   "default_parameters": {},
   "duration": 4.811384,
   "end_time": "2025-02-27T09:57:19.525280",
   "environment_variables": {},
   "exception": null,
   "input_path": "__notebook__.ipynb",
   "output_path": "__notebook__.ipynb",
   "parameters": {},
   "start_time": "2025-02-27T09:57:14.713896",
   "version": "2.3.3"
  }
 },
 "nbformat": 4,
 "nbformat_minor": 5
}
