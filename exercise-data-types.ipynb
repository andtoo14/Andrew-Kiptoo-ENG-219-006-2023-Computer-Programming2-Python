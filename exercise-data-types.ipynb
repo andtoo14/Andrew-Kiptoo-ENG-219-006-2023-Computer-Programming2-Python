{
 "cells": [
  {
   "cell_type": "markdown",
   "id": "4d5a39a8",
   "metadata": {
    "papermill": {
     "duration": 0.006332,
     "end_time": "2025-02-27T09:47:50.333768",
     "exception": false,
     "start_time": "2025-02-27T09:47:50.327436",
     "status": "completed"
    },
    "tags": []
   },
   "source": [
    "**This notebook is an exercise in the [Intro to Programming](https://www.kaggle.com/learn/intro-to-programming) course.  You can reference the tutorial at [this link](https://www.kaggle.com/alexisbcook/data-types).**\n",
    "\n",
    "---\n"
   ]
  },
  {
   "cell_type": "markdown",
   "id": "6dff3f58",
   "metadata": {
    "papermill": {
     "duration": 0.005458,
     "end_time": "2025-02-27T09:47:50.345109",
     "exception": false,
     "start_time": "2025-02-27T09:47:50.339651",
     "status": "completed"
    },
    "tags": []
   },
   "source": [
    "In the tutorial, you learned about four different data types: floats, integers, strings, and booleans.  In this exercise, you'll experiment with them.\n",
    "\n",
    "# Set up the notebook\n",
    "\n",
    "Run the next code cell without changes to set up the notebook."
   ]
  },
  {
   "cell_type": "code",
   "execution_count": 1,
   "id": "7c16401f",
   "metadata": {
    "execution": {
     "iopub.execute_input": "2025-02-27T09:47:50.357091Z",
     "iopub.status.busy": "2025-02-27T09:47:50.356662Z",
     "iopub.status.idle": "2025-02-27T09:47:51.431722Z",
     "shell.execute_reply": "2025-02-27T09:47:51.430352Z"
    },
    "papermill": {
     "duration": 1.083379,
     "end_time": "2025-02-27T09:47:51.433762",
     "exception": false,
     "start_time": "2025-02-27T09:47:50.350383",
     "status": "completed"
    },
    "tags": []
   },
   "outputs": [
    {
     "name": "stdout",
     "output_type": "stream",
     "text": [
      "Setup complete.\n"
     ]
    }
   ],
   "source": [
    "# Set up the exercise\n",
    "from learntools.core import binder\n",
    "binder.bind(globals())\n",
    "from learntools.intro_to_programming.ex3 import *\n",
    "print('Setup complete.')"
   ]
  },
  {
   "cell_type": "markdown",
   "id": "e765ccca",
   "metadata": {
    "papermill": {
     "duration": 0.005049,
     "end_time": "2025-02-27T09:47:51.444771",
     "exception": false,
     "start_time": "2025-02-27T09:47:51.439722",
     "status": "completed"
    },
    "tags": []
   },
   "source": [
    "# Question 1\n",
    "\n",
    "You have seen how to convert a float to an integer with the `int` function.  Try this out yourself by running the code cell below."
   ]
  },
  {
   "cell_type": "code",
   "execution_count": 2,
   "id": "bd68e01c",
   "metadata": {
    "execution": {
     "iopub.execute_input": "2025-02-27T09:47:51.457161Z",
     "iopub.status.busy": "2025-02-27T09:47:51.456645Z",
     "iopub.status.idle": "2025-02-27T09:47:51.462918Z",
     "shell.execute_reply": "2025-02-27T09:47:51.461549Z"
    },
    "papermill": {
     "duration": 0.014415,
     "end_time": "2025-02-27T09:47:51.464614",
     "exception": false,
     "start_time": "2025-02-27T09:47:51.450199",
     "status": "completed"
    },
    "tags": []
   },
   "outputs": [
    {
     "name": "stdout",
     "output_type": "stream",
     "text": [
      "6.75\n",
      "<class 'float'>\n",
      "6\n",
      "<class 'int'>\n"
     ]
    }
   ],
   "source": [
    "# Define a float\n",
    "y = 6.75\n",
    "print(y)\n",
    "print(type(y))\n",
    "\n",
    "# Convert float to integer with the int function\n",
    "z = int(y)\n",
    "print(z)\n",
    "print(type(z))"
   ]
  },
  {
   "cell_type": "markdown",
   "id": "d7c96f20",
   "metadata": {
    "papermill": {
     "duration": 0.005129,
     "end_time": "2025-02-27T09:47:51.475310",
     "exception": false,
     "start_time": "2025-02-27T09:47:51.470181",
     "status": "completed"
    },
    "tags": []
   },
   "source": [
    "In this case, the float you are using has no numbers after the decimal.  \n",
    "- But what happens when you try to convert a float with a fractional part to an integer?  \n",
    "- How does the outcome of the `int` function change for positive and negative numbers?\n",
    "\n",
    "Use the next code cell to investigate and answer these questions.  Feel free to add or remove any lines of code -- it is your workspace!"
   ]
  },
  {
   "cell_type": "code",
   "execution_count": 3,
   "id": "3c3560e8",
   "metadata": {
    "execution": {
     "iopub.execute_input": "2025-02-27T09:47:51.487539Z",
     "iopub.status.busy": "2025-02-27T09:47:51.487173Z",
     "iopub.status.idle": "2025-02-27T09:47:51.492971Z",
     "shell.execute_reply": "2025-02-27T09:47:51.491694Z"
    },
    "papermill": {
     "duration": 0.01394,
     "end_time": "2025-02-27T09:47:51.494723",
     "exception": false,
     "start_time": "2025-02-27T09:47:51.480783",
     "status": "completed"
    },
    "tags": []
   },
   "outputs": [
    {
     "name": "stdout",
     "output_type": "stream",
     "text": [
      "1\n",
      "1\n",
      "-3\n",
      "-2\n"
     ]
    }
   ],
   "source": [
    "# Uncomment and run this code to get started!\n",
    "print(int(1.2321))\n",
    "print(int(1.747))\n",
    "print(int(-3.94535))\n",
    "print(int(-2.19774))"
   ]
  },
  {
   "cell_type": "markdown",
   "id": "d0f8e3b5",
   "metadata": {
    "papermill": {
     "duration": 0.005341,
     "end_time": "2025-02-27T09:47:51.506672",
     "exception": false,
     "start_time": "2025-02-27T09:47:51.501331",
     "status": "completed"
    },
    "tags": []
   },
   "source": [
    "Once you have an answer, run the code cell below to see the solution.  Viewing the solution will give you credit for answering the problem."
   ]
  },
  {
   "cell_type": "code",
   "execution_count": 4,
   "id": "c9638f0b",
   "metadata": {
    "execution": {
     "iopub.execute_input": "2025-02-27T09:47:51.519196Z",
     "iopub.status.busy": "2025-02-27T09:47:51.518801Z",
     "iopub.status.idle": "2025-02-27T09:47:51.527158Z",
     "shell.execute_reply": "2025-02-27T09:47:51.526202Z"
    },
    "papermill": {
     "duration": 0.016659,
     "end_time": "2025-02-27T09:47:51.528766",
     "exception": false,
     "start_time": "2025-02-27T09:47:51.512107",
     "status": "completed"
    },
    "tags": []
   },
   "outputs": [
    {
     "data": {
      "application/javascript": [
       "parent.postMessage({\"jupyterEvent\": \"custom.exercise_interaction\", \"data\": {\"outcomeType\": 1, \"valueTowardsCompletion\": 0.2, \"interactionType\": 1, \"questionType\": 4, \"questionId\": \"1_FloatToInt\", \"learnToolsVersion\": \"0.3.4\", \"failureMessage\": \"\", \"exceptionClass\": \"\", \"trace\": \"\"}}, \"*\")"
      ],
      "text/plain": [
       "<IPython.core.display.Javascript object>"
      ]
     },
     "metadata": {},
     "output_type": "display_data"
    },
    {
     "data": {
      "text/markdown": [
       "<span style=\"color:#33cc33\">Correct:</span> \n",
       "\n",
       "Negative floats are always rounded UP to the closest integer (for instance, both -1.1 and -1.9 are rounded up to -1). Positive floats are always rounded DOWN to the closest integer (for instance, 2.1 and 2.9 are rounded down to 2)."
      ],
      "text/plain": [
       "Correct: \n",
       "\n",
       "Negative floats are always rounded UP to the closest integer (for instance, both -1.1 and -1.9 are rounded up to -1). Positive floats are always rounded DOWN to the closest integer (for instance, 2.1 and 2.9 are rounded down to 2)."
      ]
     },
     "metadata": {},
     "output_type": "display_data"
    }
   ],
   "source": [
    "# Check your answer (Run this code cell to receive credit!)\n",
    "q1.check()"
   ]
  },
  {
   "cell_type": "markdown",
   "id": "e3ca0152",
   "metadata": {
    "papermill": {
     "duration": 0.005429,
     "end_time": "2025-02-27T09:47:51.540300",
     "exception": false,
     "start_time": "2025-02-27T09:47:51.534871",
     "status": "completed"
    },
    "tags": []
   },
   "source": [
    "# Question 2\n",
    "\n",
    "In the tutorial, you learned about booleans (which can take a value of `True` or `False`), in addition to integers, floats, and strings.  For this question, your goal is to determine what happens when you multiply a boolean by any of these data types.  Specifically, \n",
    "- What happens when you multiply an integer or float by `True`?  What happens when you multiply them by `False`?  How does the answer change if the numbers are positive or negative?\n",
    "- What happens when you multiply a string by `True`?  By `False`?\n",
    "\n",
    "Use the next code cell for your investigation. "
   ]
  },
  {
   "cell_type": "code",
   "execution_count": 5,
   "id": "4d33fba6",
   "metadata": {
    "execution": {
     "iopub.execute_input": "2025-02-27T09:47:51.553264Z",
     "iopub.status.busy": "2025-02-27T09:47:51.552734Z",
     "iopub.status.idle": "2025-02-27T09:47:51.559880Z",
     "shell.execute_reply": "2025-02-27T09:47:51.558652Z"
    },
    "papermill": {
     "duration": 0.016041,
     "end_time": "2025-02-27T09:47:51.562053",
     "exception": false,
     "start_time": "2025-02-27T09:47:51.546012",
     "status": "completed"
    },
    "tags": []
   },
   "outputs": [
    {
     "name": "stdout",
     "output_type": "stream",
     "text": [
      "3\n",
      "-3.1\n",
      "<class 'str'>\n",
      "0\n"
     ]
    }
   ],
   "source": [
    "# Uncomment and run this code to get started!\n",
    "print(3 * True)\n",
    "print(-3.1 * True)\n",
    "print(type(\"abc\" * False))\n",
    "print(len(\"abc\" * False))"
   ]
  },
  {
   "cell_type": "markdown",
   "id": "3f3b28a0",
   "metadata": {
    "papermill": {
     "duration": 0.006464,
     "end_time": "2025-02-27T09:47:51.575255",
     "exception": false,
     "start_time": "2025-02-27T09:47:51.568791",
     "status": "completed"
    },
    "tags": []
   },
   "source": [
    "Once you have an answer, run the code cell below to see the solution.  Viewing the solution will give you credit for answering the problem."
   ]
  },
  {
   "cell_type": "code",
   "execution_count": 6,
   "id": "310528fd",
   "metadata": {
    "execution": {
     "iopub.execute_input": "2025-02-27T09:47:51.588531Z",
     "iopub.status.busy": "2025-02-27T09:47:51.588102Z",
     "iopub.status.idle": "2025-02-27T09:47:51.596587Z",
     "shell.execute_reply": "2025-02-27T09:47:51.595391Z"
    },
    "papermill": {
     "duration": 0.017608,
     "end_time": "2025-02-27T09:47:51.598894",
     "exception": false,
     "start_time": "2025-02-27T09:47:51.581286",
     "status": "completed"
    },
    "tags": []
   },
   "outputs": [
    {
     "data": {
      "application/javascript": [
       "parent.postMessage({\"jupyterEvent\": \"custom.exercise_interaction\", \"data\": {\"outcomeType\": 1, \"valueTowardsCompletion\": 0.2, \"interactionType\": 1, \"questionType\": 4, \"questionId\": \"2_MultiplyBooleans\", \"learnToolsVersion\": \"0.3.4\", \"failureMessage\": \"\", \"exceptionClass\": \"\", \"trace\": \"\"}}, \"*\")"
      ],
      "text/plain": [
       "<IPython.core.display.Javascript object>"
      ]
     },
     "metadata": {},
     "output_type": "display_data"
    },
    {
     "data": {
      "text/markdown": [
       "<span style=\"color:#33cc33\">Correct:</span> \n",
       "\n",
       "When you multiple an integer or float by a boolean with value `True`, it just returns that same integer or float (and is equivalent to multiplying by 1).  If you multiply an integer or float by a boolean with value `False`, it always returns 0.  This is true for both positive and negative numbers.  If you multiply a string by a boolean with value `True`, it just returns that same string.  And if you multiply a string by a boolean with value `False`, it returns an empty string (or a string with length zero)."
      ],
      "text/plain": [
       "Correct: \n",
       "\n",
       "When you multiple an integer or float by a boolean with value `True`, it just returns that same integer or float (and is equivalent to multiplying by 1).  If you multiply an integer or float by a boolean with value `False`, it always returns 0.  This is true for both positive and negative numbers.  If you multiply a string by a boolean with value `True`, it just returns that same string.  And if you multiply a string by a boolean with value `False`, it returns an empty string (or a string with length zero)."
      ]
     },
     "metadata": {},
     "output_type": "display_data"
    }
   ],
   "source": [
    "# Check your answer (Run this code cell to receive credit!)\n",
    "q2.check()"
   ]
  },
  {
   "cell_type": "markdown",
   "id": "f9155af7",
   "metadata": {
    "papermill": {
     "duration": 0.006112,
     "end_time": "2025-02-27T09:47:51.611676",
     "exception": false,
     "start_time": "2025-02-27T09:47:51.605564",
     "status": "completed"
    },
    "tags": []
   },
   "source": [
    "# Question 3\n",
    "\n",
    "In this question, you will build off your work from the previous exercise to write a function that estimates the value of a house.\n",
    "\n",
    "Use the next code cell to create a function `get_expected_cost` that takes as input three variables:\n",
    "- `beds` - number of bedrooms (data type float)\n",
    "- `baths` - number of bathrooms (data type float)\n",
    "- `has_basement` - whether or not the house has a basement (data type boolean)\n",
    "\n",
    "It should return the expected cost of a house with those characteristics. Assume that:\n",
    "- the expected cost for a house with 0 bedrooms and 0 bathrooms, and no basement is 80000, \n",
    "- each bedroom adds 30000 to the expected cost,\n",
    "- each bathroom adds 10000 to the expected cost, and\n",
    "- a basement adds 40000 to the expected cost.\n",
    "\n",
    "For instance,\n",
    "- a house with 1 bedroom, 1 bathroom, and no basement has an expected cost of 80000 + 30000 + 10000 = 120000.  This value will be calculated with `get_expected_cost(1, 1, False)`.\n",
    "- a house with 2 bedrooms, 1 bathroom, and a basement has an expected cost of 80000 + 2*30000 + 10000 + 40000 = 190000.  This value will be calculated with `get_expected_cost(2, 1, True)`.\n",
    "\n",
    "Remember you can always get a hint by uncommenting `q3.hint()` in the code cell following the next!"
   ]
  },
  {
   "cell_type": "code",
   "execution_count": 7,
   "id": "212c4558",
   "metadata": {
    "execution": {
     "iopub.execute_input": "2025-02-27T09:47:51.626259Z",
     "iopub.status.busy": "2025-02-27T09:47:51.625387Z",
     "iopub.status.idle": "2025-02-27T09:47:51.634828Z",
     "shell.execute_reply": "2025-02-27T09:47:51.633676Z"
    },
    "papermill": {
     "duration": 0.019056,
     "end_time": "2025-02-27T09:47:51.636919",
     "exception": false,
     "start_time": "2025-02-27T09:47:51.617863",
     "status": "completed"
    },
    "tags": []
   },
   "outputs": [
    {
     "data": {
      "application/javascript": [
       "parent.postMessage({\"jupyterEvent\": \"custom.exercise_interaction\", \"data\": {\"outcomeType\": 1, \"valueTowardsCompletion\": 0.2, \"interactionType\": 1, \"questionType\": 2, \"questionId\": \"3_EstimateHouseValueBool\", \"learnToolsVersion\": \"0.3.4\", \"failureMessage\": \"\", \"exceptionClass\": \"\", \"trace\": \"\"}}, \"*\")"
      ],
      "text/plain": [
       "<IPython.core.display.Javascript object>"
      ]
     },
     "metadata": {},
     "output_type": "display_data"
    },
    {
     "data": {
      "text/markdown": [
       "<span style=\"color:#33cc33\">Correct</span>"
      ],
      "text/plain": [
       "Correct"
      ]
     },
     "metadata": {},
     "output_type": "display_data"
    }
   ],
   "source": [
    "# TODO: Complete the function\n",
    "def get_expected_cost(beds, baths, has_basement):\n",
    "    value = 80000 + 30000 * beds + 10000 * baths + 40000 * has_basement\n",
    "    return value\n",
    "\n",
    "# Check your answer \n",
    "q3.check()"
   ]
  },
  {
   "cell_type": "code",
   "execution_count": 8,
   "id": "885ebd47",
   "metadata": {
    "execution": {
     "iopub.execute_input": "2025-02-27T09:47:51.653416Z",
     "iopub.status.busy": "2025-02-27T09:47:51.652996Z",
     "iopub.status.idle": "2025-02-27T09:47:51.658571Z",
     "shell.execute_reply": "2025-02-27T09:47:51.656974Z"
    },
    "papermill": {
     "duration": 0.015551,
     "end_time": "2025-02-27T09:47:51.660607",
     "exception": false,
     "start_time": "2025-02-27T09:47:51.645056",
     "status": "completed"
    },
    "tags": []
   },
   "outputs": [],
   "source": [
    "# Uncomment to see a hint\n",
    "#q3.hint()\n",
    "\n",
    "# Uncomment to view the solution\n",
    "#q3.solution()"
   ]
  },
  {
   "cell_type": "markdown",
   "id": "4b58d06c",
   "metadata": {
    "papermill": {
     "duration": 0.006235,
     "end_time": "2025-02-27T09:47:51.673937",
     "exception": false,
     "start_time": "2025-02-27T09:47:51.667702",
     "status": "completed"
    },
    "tags": []
   },
   "source": [
    "# Question 4\n",
    "\n",
    "We'll continue our study of boolean arithmetic.  For this question, your task is to provide a description of what happpens when you add booleans. \n",
    "\n",
    "Use the next code cell for your investigation.  Feel free to add or remove any lines of code - use it as your workspace!"
   ]
  },
  {
   "cell_type": "code",
   "execution_count": 9,
   "id": "ea17d1e4",
   "metadata": {
    "execution": {
     "iopub.execute_input": "2025-02-27T09:47:51.690103Z",
     "iopub.status.busy": "2025-02-27T09:47:51.689686Z",
     "iopub.status.idle": "2025-02-27T09:47:51.696779Z",
     "shell.execute_reply": "2025-02-27T09:47:51.695067Z"
    },
    "papermill": {
     "duration": 0.018314,
     "end_time": "2025-02-27T09:47:51.699908",
     "exception": false,
     "start_time": "2025-02-27T09:47:51.681594",
     "status": "completed"
    },
    "tags": []
   },
   "outputs": [
    {
     "name": "stdout",
     "output_type": "stream",
     "text": [
      "0\n",
      "1\n",
      "1\n",
      "2\n",
      "3\n",
      "1\n"
     ]
    }
   ],
   "source": [
    "print(False + False)\n",
    "print(True + False)\n",
    "print(False + True)\n",
    "print(True + True)\n",
    "print(False + True + True + True)\n",
    "print(True + False + False)"
   ]
  },
  {
   "cell_type": "markdown",
   "id": "25f445cf",
   "metadata": {
    "papermill": {
     "duration": 0.008618,
     "end_time": "2025-02-27T09:47:51.715297",
     "exception": false,
     "start_time": "2025-02-27T09:47:51.706679",
     "status": "completed"
    },
    "tags": []
   },
   "source": [
    "Once you have an answer, run the code cell below to see the solution.  Viewing the solution will give you credit for answering the problem."
   ]
  },
  {
   "cell_type": "code",
   "execution_count": 10,
   "id": "7b3e0c5c",
   "metadata": {
    "execution": {
     "iopub.execute_input": "2025-02-27T09:47:51.731823Z",
     "iopub.status.busy": "2025-02-27T09:47:51.731418Z",
     "iopub.status.idle": "2025-02-27T09:47:51.739312Z",
     "shell.execute_reply": "2025-02-27T09:47:51.738172Z"
    },
    "papermill": {
     "duration": 0.018085,
     "end_time": "2025-02-27T09:47:51.741062",
     "exception": false,
     "start_time": "2025-02-27T09:47:51.722977",
     "status": "completed"
    },
    "tags": []
   },
   "outputs": [
    {
     "data": {
      "application/javascript": [
       "parent.postMessage({\"jupyterEvent\": \"custom.exercise_interaction\", \"data\": {\"outcomeType\": 1, \"valueTowardsCompletion\": 0.2, \"interactionType\": 1, \"questionType\": 4, \"questionId\": \"4_AddingBooleans\", \"learnToolsVersion\": \"0.3.4\", \"failureMessage\": \"\", \"exceptionClass\": \"\", \"trace\": \"\"}}, \"*\")"
      ],
      "text/plain": [
       "<IPython.core.display.Javascript object>"
      ]
     },
     "metadata": {},
     "output_type": "display_data"
    },
    {
     "data": {
      "text/markdown": [
       "<span style=\"color:#33cc33\">Correct:</span> \n",
       "\n",
       "When you add booleans, adding `False` is equivalent to adding 0, and adding `True` is equivalent to adding 1."
      ],
      "text/plain": [
       "Correct: \n",
       "\n",
       "When you add booleans, adding `False` is equivalent to adding 0, and adding `True` is equivalent to adding 1."
      ]
     },
     "metadata": {},
     "output_type": "display_data"
    }
   ],
   "source": [
    "# Check your answer (Run this code cell to receive credit!)\n",
    "q4.check()"
   ]
  },
  {
   "cell_type": "markdown",
   "id": "ac5666ad",
   "metadata": {
    "papermill": {
     "duration": 0.00635,
     "end_time": "2025-02-27T09:47:51.754153",
     "exception": false,
     "start_time": "2025-02-27T09:47:51.747803",
     "status": "completed"
    },
    "tags": []
   },
   "source": [
    "# 🌶️ Question 5\n",
    "\n",
    "You own an online shop where you sell rings with custom engravings.  You offer both gold plated and solid gold rings.\n",
    "- Gold plated rings have a base cost of \\\\$50, and you charge \\\\$7 per engraved unit.  \n",
    "- Solid gold rings have a base cost of \\\\$100, and you charge \\\\$10 per engraved unit.\n",
    "- Spaces and punctuation are counted as engraved units.\n",
    "\n",
    "Write a function `cost_of_project()` that takes two arguments:\n",
    "- `engraving` - a Python string with the text of the engraving\n",
    "- `solid_gold` - a Boolean that indicates whether the ring is solid gold\n",
    "\n",
    "It should return the cost of the project.  This question should be fairly challenging, and you may need a hint."
   ]
  },
  {
   "cell_type": "code",
   "execution_count": 11,
   "id": "ace341d8",
   "metadata": {
    "execution": {
     "iopub.execute_input": "2025-02-27T09:47:51.768691Z",
     "iopub.status.busy": "2025-02-27T09:47:51.768330Z",
     "iopub.status.idle": "2025-02-27T09:47:51.777460Z",
     "shell.execute_reply": "2025-02-27T09:47:51.776237Z"
    },
    "papermill": {
     "duration": 0.019399,
     "end_time": "2025-02-27T09:47:51.780219",
     "exception": false,
     "start_time": "2025-02-27T09:47:51.760820",
     "status": "completed"
    },
    "tags": []
   },
   "outputs": [
    {
     "data": {
      "application/javascript": [
       "parent.postMessage({\"jupyterEvent\": \"custom.exercise_interaction\", \"data\": {\"outcomeType\": 1, \"valueTowardsCompletion\": 0.2, \"interactionType\": 1, \"questionType\": 2, \"questionId\": \"5_CustomEngravings\", \"learnToolsVersion\": \"0.3.4\", \"failureMessage\": \"\", \"exceptionClass\": \"\", \"trace\": \"\"}}, \"*\")"
      ],
      "text/plain": [
       "<IPython.core.display.Javascript object>"
      ]
     },
     "metadata": {},
     "output_type": "display_data"
    },
    {
     "data": {
      "text/markdown": [
       "<span style=\"color:#33cc33\">Correct</span>"
      ],
      "text/plain": [
       "Correct"
      ]
     },
     "metadata": {},
     "output_type": "display_data"
    }
   ],
   "source": [
    "def cost_of_project(engraving, solid_gold):\n",
    "    cost = solid_gold * (100 + 10 * len(engraving)) + (not solid_gold) * (50 + 7 * len(engraving))\n",
    "    return cost\n",
    "\n",
    "# Check your answer\n",
    "q5.check()"
   ]
  },
  {
   "cell_type": "code",
   "execution_count": 12,
   "id": "a83bcafd",
   "metadata": {
    "execution": {
     "iopub.execute_input": "2025-02-27T09:47:51.797865Z",
     "iopub.status.busy": "2025-02-27T09:47:51.797512Z",
     "iopub.status.idle": "2025-02-27T09:47:51.802846Z",
     "shell.execute_reply": "2025-02-27T09:47:51.801377Z"
    },
    "papermill": {
     "duration": 0.016809,
     "end_time": "2025-02-27T09:47:51.805025",
     "exception": false,
     "start_time": "2025-02-27T09:47:51.788216",
     "status": "completed"
    },
    "tags": []
   },
   "outputs": [],
   "source": [
    "# Uncomment to see a hint\n",
    "#q5.hint()\n",
    "\n",
    "# Uncomment to view the solution\n",
    "#q5.solution()"
   ]
  },
  {
   "cell_type": "markdown",
   "id": "d6748a80",
   "metadata": {
    "papermill": {
     "duration": 0.006551,
     "end_time": "2025-02-27T09:47:51.818422",
     "exception": false,
     "start_time": "2025-02-27T09:47:51.811871",
     "status": "completed"
    },
    "tags": []
   },
   "source": [
    "Run the next code cell to calculate the cost of engraving `Charlie+Denver` on a solid gold ring."
   ]
  },
  {
   "cell_type": "code",
   "execution_count": 13,
   "id": "ff4e73d8",
   "metadata": {
    "execution": {
     "iopub.execute_input": "2025-02-27T09:47:51.833177Z",
     "iopub.status.busy": "2025-02-27T09:47:51.832741Z",
     "iopub.status.idle": "2025-02-27T09:47:51.838493Z",
     "shell.execute_reply": "2025-02-27T09:47:51.837281Z"
    },
    "papermill": {
     "duration": 0.015209,
     "end_time": "2025-02-27T09:47:51.840320",
     "exception": false,
     "start_time": "2025-02-27T09:47:51.825111",
     "status": "completed"
    },
    "tags": []
   },
   "outputs": [
    {
     "name": "stdout",
     "output_type": "stream",
     "text": [
      "240\n"
     ]
    }
   ],
   "source": [
    "project_one = cost_of_project(\"Charlie+Denver\", True)\n",
    "print(project_one)"
   ]
  },
  {
   "cell_type": "markdown",
   "id": "c381d0a5",
   "metadata": {
    "papermill": {
     "duration": 0.007076,
     "end_time": "2025-02-27T09:47:51.854507",
     "exception": false,
     "start_time": "2025-02-27T09:47:51.847431",
     "status": "completed"
    },
    "tags": []
   },
   "source": [
    "Use the next code cell to calculate the cost of engraving `08/10/2000` on a gold plated ring."
   ]
  },
  {
   "cell_type": "code",
   "execution_count": 14,
   "id": "e9f69c74",
   "metadata": {
    "execution": {
     "iopub.execute_input": "2025-02-27T09:47:51.870017Z",
     "iopub.status.busy": "2025-02-27T09:47:51.869685Z",
     "iopub.status.idle": "2025-02-27T09:47:51.874923Z",
     "shell.execute_reply": "2025-02-27T09:47:51.873377Z"
    },
    "papermill": {
     "duration": 0.014796,
     "end_time": "2025-02-27T09:47:51.876728",
     "exception": false,
     "start_time": "2025-02-27T09:47:51.861932",
     "status": "completed"
    },
    "tags": []
   },
   "outputs": [
    {
     "name": "stdout",
     "output_type": "stream",
     "text": [
      "120\n"
     ]
    }
   ],
   "source": [
    "project_two = cost_of_project(\"08/10/2000\", False)\n",
    "print(project_two)"
   ]
  },
  {
   "cell_type": "markdown",
   "id": "287daadb",
   "metadata": {
    "papermill": {
     "duration": 0.006736,
     "end_time": "2025-02-27T09:47:51.890515",
     "exception": false,
     "start_time": "2025-02-27T09:47:51.883779",
     "status": "completed"
    },
    "tags": []
   },
   "source": [
    "# Keep going\n",
    "\n",
    "Continue to the next lesson to **[learn about conditions and conditional statements](https://www.kaggle.com/alexisbcook/conditions-and-conditional-statements)**."
   ]
  },
  {
   "cell_type": "markdown",
   "id": "16446d48",
   "metadata": {
    "papermill": {
     "duration": 0.007934,
     "end_time": "2025-02-27T09:47:51.906403",
     "exception": false,
     "start_time": "2025-02-27T09:47:51.898469",
     "status": "completed"
    },
    "tags": []
   },
   "source": [
    "---\n",
    "\n",
    "\n",
    "\n",
    "\n",
    "*Have questions or comments? Visit the [course discussion forum](https://www.kaggle.com/learn/intro-to-programming/discussion) to chat with other learners.*"
   ]
  }
 ],
 "metadata": {
  "kaggle": {
   "accelerator": "none",
   "dataSources": [],
   "isGpuEnabled": false,
   "isInternetEnabled": false,
   "language": "python",
   "sourceType": "notebook"
  },
  "kernelspec": {
   "display_name": "Python 3",
   "language": "python",
   "name": "python3"
  },
  "language_info": {
   "codemirror_mode": {
    "name": "ipython",
    "version": 3
   },
   "file_extension": ".py",
   "mimetype": "text/x-python",
   "name": "python",
   "nbconvert_exporter": "python",
   "pygments_lexer": "ipython3",
   "version": "3.10.12"
  },
  "papermill": {
   "default_parameters": {},
   "duration": 5.148646,
   "end_time": "2025-02-27T09:47:52.535306",
   "environment_variables": {},
   "exception": null,
   "input_path": "__notebook__.ipynb",
   "output_path": "__notebook__.ipynb",
   "parameters": {},
   "start_time": "2025-02-27T09:47:47.386660",
   "version": "2.3.3"
  }
 },
 "nbformat": 4,
 "nbformat_minor": 5
}
