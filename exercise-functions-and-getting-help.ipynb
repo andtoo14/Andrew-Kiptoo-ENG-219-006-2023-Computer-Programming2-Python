{
 "cells": [
  {
   "cell_type": "markdown",
   "id": "72358bbe",
   "metadata": {
    "papermill": {
     "duration": 0.003998,
     "end_time": "2025-05-14T08:51:51.612373",
     "exception": false,
     "start_time": "2025-05-14T08:51:51.608375",
     "status": "completed"
    },
    "tags": []
   },
   "source": [
    "**This notebook is an exercise in the [Python](https://www.kaggle.com/learn/python) course.  You can reference the tutorial at [this link](https://www.kaggle.com/colinmorris/functions-and-getting-help).**\n",
    "\n",
    "---\n"
   ]
  },
  {
   "cell_type": "markdown",
   "id": "830cc3df",
   "metadata": {
    "papermill": {
     "duration": 0.002943,
     "end_time": "2025-05-14T08:51:51.618724",
     "exception": false,
     "start_time": "2025-05-14T08:51:51.615781",
     "status": "completed"
    },
    "tags": []
   },
   "source": [
    "Functions are powerful. Try writing some yourself.\n",
    "\n",
    "As before, don't forget to run the setup code below before jumping into question 1."
   ]
  },
  {
   "cell_type": "code",
   "execution_count": 1,
   "id": "ed4e3e1b",
   "metadata": {
    "_kg_hide-input": true,
    "_kg_hide-output": true,
    "execution": {
     "iopub.execute_input": "2025-05-14T08:51:51.626649Z",
     "iopub.status.busy": "2025-05-14T08:51:51.625856Z",
     "iopub.status.idle": "2025-05-14T08:51:53.406282Z",
     "shell.execute_reply": "2025-05-14T08:51:53.405297Z"
    },
    "papermill": {
     "duration": 1.785839,
     "end_time": "2025-05-14T08:51:53.407663",
     "exception": false,
     "start_time": "2025-05-14T08:51:51.621824",
     "status": "completed"
    },
    "tags": []
   },
   "outputs": [
    {
     "name": "stdout",
     "output_type": "stream",
     "text": [
      "Setup complete.\n"
     ]
    }
   ],
   "source": [
    "# SETUP. You don't need to worry for now about what this code does or how it works.\n",
    "from learntools.core import binder; binder.bind(globals())\n",
    "from learntools.python.ex2 import *\n",
    "print('Setup complete.')"
   ]
  },
  {
   "cell_type": "markdown",
   "id": "e01b70f5",
   "metadata": {
    "papermill": {
     "duration": 0.002866,
     "end_time": "2025-05-14T08:51:53.413870",
     "exception": false,
     "start_time": "2025-05-14T08:51:53.411004",
     "status": "completed"
    },
    "tags": []
   },
   "source": [
    "# 1.\n",
    "\n",
    "Complete the body of the following function according to its docstring.\n",
    "\n",
    "HINT: Python has a built-in function `round`."
   ]
  },
  {
   "cell_type": "code",
   "execution_count": 2,
   "id": "0565efd0",
   "metadata": {
    "execution": {
     "iopub.execute_input": "2025-05-14T08:51:53.421154Z",
     "iopub.status.busy": "2025-05-14T08:51:53.420725Z",
     "iopub.status.idle": "2025-05-14T08:51:53.428674Z",
     "shell.execute_reply": "2025-05-14T08:51:53.428000Z"
    },
    "papermill": {
     "duration": 0.012809,
     "end_time": "2025-05-14T08:51:53.429838",
     "exception": false,
     "start_time": "2025-05-14T08:51:53.417029",
     "status": "completed"
    },
    "tags": []
   },
   "outputs": [
    {
     "data": {
      "application/javascript": [
       "parent.postMessage({\"jupyterEvent\": \"custom.exercise_interaction\", \"data\": {\"outcomeType\": 1, \"valueTowardsCompletion\": 0.16666666666666666, \"interactionType\": 1, \"questionType\": 2, \"questionId\": \"1_RoundFunctionProblem\", \"learnToolsVersion\": \"0.3.5\", \"failureMessage\": \"\", \"exceptionClass\": \"\", \"trace\": \"\"}}, \"*\")"
      ],
      "text/plain": [
       "<IPython.core.display.Javascript object>"
      ]
     },
     "metadata": {},
     "output_type": "display_data"
    },
    {
     "data": {
      "text/markdown": [
       "<span style=\"color:#33cc33\">Correct</span>"
      ],
      "text/plain": [
       "Correct"
      ]
     },
     "metadata": {},
     "output_type": "display_data"
    }
   ],
   "source": [
    "def round_to_two_places(num):\n",
    "    \"\"\"Return the given number rounded to two decimal places. \n",
    "    \n",
    "    >>> round_to_two_places(3.14159)\n",
    "    3.14\n",
    "    \"\"\"\n",
    "    return round(num, 2)\n",
    "    \n",
    "    # Replace this body with your own code.\n",
    "    # (\"pass\" is a keyword that does literally nothing. We used it as a placeholder\n",
    "    # because after we begin a code block, Python requires at least one line of code)\n",
    "\n",
    "# Check your answer\n",
    "q1.check()"
   ]
  },
  {
   "cell_type": "code",
   "execution_count": 3,
   "id": "22a7fa25",
   "metadata": {
    "execution": {
     "iopub.execute_input": "2025-05-14T08:51:53.437505Z",
     "iopub.status.busy": "2025-05-14T08:51:53.437244Z",
     "iopub.status.idle": "2025-05-14T08:51:53.440809Z",
     "shell.execute_reply": "2025-05-14T08:51:53.440238Z"
    },
    "papermill": {
     "duration": 0.00878,
     "end_time": "2025-05-14T08:51:53.442011",
     "exception": false,
     "start_time": "2025-05-14T08:51:53.433231",
     "status": "completed"
    },
    "tags": []
   },
   "outputs": [],
   "source": [
    "# Uncomment the following for a hint\n",
    "#q1.hint()\n",
    "# Or uncomment the following to peek at the solution\n",
    "#q1.solution()"
   ]
  },
  {
   "cell_type": "markdown",
   "id": "e2a5697d",
   "metadata": {
    "papermill": {
     "duration": 0.003016,
     "end_time": "2025-05-14T08:51:53.448509",
     "exception": false,
     "start_time": "2025-05-14T08:51:53.445493",
     "status": "completed"
    },
    "tags": []
   },
   "source": [
    "# 2.\n",
    "The help for `round` says that `ndigits` (the second argument) may be negative.\n",
    "What do you think will happen when it is? Try some examples in the following cell."
   ]
  },
  {
   "cell_type": "code",
   "execution_count": 4,
   "id": "cef5e83f",
   "metadata": {
    "execution": {
     "iopub.execute_input": "2025-05-14T08:51:53.455732Z",
     "iopub.status.busy": "2025-05-14T08:51:53.455475Z",
     "iopub.status.idle": "2025-05-14T08:51:53.460944Z",
     "shell.execute_reply": "2025-05-14T08:51:53.460002Z"
    },
    "papermill": {
     "duration": 0.010679,
     "end_time": "2025-05-14T08:51:53.462297",
     "exception": false,
     "start_time": "2025-05-14T08:51:53.451618",
     "status": "completed"
    },
    "tags": []
   },
   "outputs": [
    {
     "name": "stdout",
     "output_type": "stream",
     "text": [
      "120.0\n",
      "100.0\n",
      "1000.0\n",
      "9880\n",
      "9900\n",
      "10000\n",
      "10000\n"
     ]
    }
   ],
   "source": [
    "print(round(123.45, -1))\n",
    "print(round(123.45, -2))\n",
    "print(round(1234.56, -3))\n",
    "print(round(9876, -1))\n",
    "print(round(9876, -2))\n",
    "print(round(9876, -3))\n",
    "print(round(9876, -4))"
   ]
  },
  {
   "cell_type": "markdown",
   "id": "1545de39",
   "metadata": {
    "papermill": {
     "duration": 0.003176,
     "end_time": "2025-05-14T08:51:53.468907",
     "exception": false,
     "start_time": "2025-05-14T08:51:53.465731",
     "status": "completed"
    },
    "tags": []
   },
   "source": [
    "Can you think of a case where this would be useful?  Once you're ready, run the code cell below to see the answer and to receive credit for completing the problem."
   ]
  },
  {
   "cell_type": "code",
   "execution_count": 5,
   "id": "3602ee87",
   "metadata": {
    "execution": {
     "iopub.execute_input": "2025-05-14T08:51:53.476734Z",
     "iopub.status.busy": "2025-05-14T08:51:53.476196Z",
     "iopub.status.idle": "2025-05-14T08:51:53.482538Z",
     "shell.execute_reply": "2025-05-14T08:51:53.481902Z"
    },
    "papermill": {
     "duration": 0.011589,
     "end_time": "2025-05-14T08:51:53.483783",
     "exception": false,
     "start_time": "2025-05-14T08:51:53.472194",
     "status": "completed"
    },
    "tags": []
   },
   "outputs": [
    {
     "data": {
      "application/javascript": [
       "parent.postMessage({\"jupyterEvent\": \"custom.exercise_interaction\", \"data\": {\"interactionType\": 3, \"questionType\": 4, \"questionId\": \"2_RoundNdigitsProblem\", \"learnToolsVersion\": \"0.3.5\", \"valueTowardsCompletion\": 0.0, \"failureMessage\": \"\", \"exceptionClass\": \"\", \"trace\": \"\", \"outcomeType\": 4}}, \"*\")"
      ],
      "text/plain": [
       "<IPython.core.display.Javascript object>"
      ]
     },
     "metadata": {},
     "output_type": "display_data"
    },
    {
     "data": {
      "text/markdown": [
       "<span style=\"color:#33cc99\">Solution:</span> As you've seen, `ndigits=-1` rounds to the nearest 10, `ndigits=-2` rounds to the nearest 100 and so on. Where might this be useful? Suppose we're dealing with large numbers:\n",
       "\n",
       "> The area of Finland is 338,424 km²  \n",
       "> The area of Greenland is 2,166,086 km²\n",
       "\n",
       "We probably don't care whether it's really 338,424, or 338,425, or 338,177. All those digits of accuracy are just distracting. We can chop them off by calling `round()` with `ndigits=-3`:\n",
       "\n",
       "> The area of Finland is 338,000 km²  \n",
       "> The area of Greenland is 2,166,000 km²\n",
       "\n",
       "(We'll talk about how we would get the commas later when we talk about string formatting :))\n"
      ],
      "text/plain": [
       "Solution: As you've seen, `ndigits=-1` rounds to the nearest 10, `ndigits=-2` rounds to the nearest 100 and so on. Where might this be useful? Suppose we're dealing with large numbers:\n",
       "\n",
       "> The area of Finland is 338,424 km²  \n",
       "> The area of Greenland is 2,166,086 km²\n",
       "\n",
       "We probably don't care whether it's really 338,424, or 338,425, or 338,177. All those digits of accuracy are just distracting. We can chop them off by calling `round()` with `ndigits=-3`:\n",
       "\n",
       "> The area of Finland is 338,000 km²  \n",
       "> The area of Greenland is 2,166,000 km²\n",
       "\n",
       "(We'll talk about how we would get the commas later when we talk about string formatting :))"
      ]
     },
     "metadata": {},
     "output_type": "display_data"
    }
   ],
   "source": [
    "# Check your answer (Run this code cell to receive credit!)\n",
    "q2.solution()"
   ]
  },
  {
   "cell_type": "markdown",
   "id": "f8477555",
   "metadata": {
    "papermill": {
     "duration": 0.003287,
     "end_time": "2025-05-14T08:51:53.490734",
     "exception": false,
     "start_time": "2025-05-14T08:51:53.487447",
     "status": "completed"
    },
    "tags": []
   },
   "source": [
    "# 3.\n",
    "\n",
    "In the previous exercise, the candy-sharing friends Alice, Bob and Carol tried to split candies evenly. For the sake of their friendship, any candies left over would be smashed. For example, if they collectively bring home 91 candies, they'll take 30 each and smash 1.\n",
    "\n",
    "Below is a simple function that will calculate the number of candies to smash for *any* number of total candies.\n",
    "\n",
    "Modify it so that it optionally takes a second argument representing the number of friends the candies are being split between. If no second argument is provided, it should assume 3 friends, as before.\n",
    "\n",
    "Update the docstring to reflect this new behaviour."
   ]
  },
  {
   "cell_type": "code",
   "execution_count": 6,
   "id": "c9cf6478",
   "metadata": {
    "execution": {
     "iopub.execute_input": "2025-05-14T08:51:53.498549Z",
     "iopub.status.busy": "2025-05-14T08:51:53.498291Z",
     "iopub.status.idle": "2025-05-14T08:51:53.505661Z",
     "shell.execute_reply": "2025-05-14T08:51:53.505008Z"
    },
    "papermill": {
     "duration": 0.012658,
     "end_time": "2025-05-14T08:51:53.506784",
     "exception": false,
     "start_time": "2025-05-14T08:51:53.494126",
     "status": "completed"
    },
    "tags": []
   },
   "outputs": [
    {
     "data": {
      "application/javascript": [
       "parent.postMessage({\"jupyterEvent\": \"custom.exercise_interaction\", \"data\": {\"outcomeType\": 1, \"valueTowardsCompletion\": 0.16666666666666666, \"interactionType\": 1, \"questionType\": 2, \"questionId\": \"3_CandySmashingFunctionProblem\", \"learnToolsVersion\": \"0.3.5\", \"failureMessage\": \"\", \"exceptionClass\": \"\", \"trace\": \"\"}}, \"*\")"
      ],
      "text/plain": [
       "<IPython.core.display.Javascript object>"
      ]
     },
     "metadata": {},
     "output_type": "display_data"
    },
    {
     "data": {
      "text/markdown": [
       "<span style=\"color:#33cc33\">Correct</span>"
      ],
      "text/plain": [
       "Correct"
      ]
     },
     "metadata": {},
     "output_type": "display_data"
    }
   ],
   "source": [
    "def to_smash(total_candies, num_friends=3):\n",
    "    \"\"\"Return the number of leftover candies that must be smashed after distributing\n",
    "    the given number of candies evenly between 3 friends.\n",
    "    \n",
    "    >>> to_smash(91)\n",
    "    1\n",
    "    >>> to_smash(98, 5)\n",
    "    3\n",
    "    \"\"\"\n",
    "    return total_candies % num_friends\n",
    "\n",
    "# Check your answer\n",
    "q3.check()"
   ]
  },
  {
   "cell_type": "code",
   "execution_count": 7,
   "id": "4f717060",
   "metadata": {
    "execution": {
     "iopub.execute_input": "2025-05-14T08:51:53.515160Z",
     "iopub.status.busy": "2025-05-14T08:51:53.514869Z",
     "iopub.status.idle": "2025-05-14T08:51:53.518370Z",
     "shell.execute_reply": "2025-05-14T08:51:53.517743Z"
    },
    "papermill": {
     "duration": 0.008975,
     "end_time": "2025-05-14T08:51:53.519603",
     "exception": false,
     "start_time": "2025-05-14T08:51:53.510628",
     "status": "completed"
    },
    "tags": []
   },
   "outputs": [],
   "source": [
    "#q3.hint()"
   ]
  },
  {
   "cell_type": "code",
   "execution_count": 8,
   "id": "c9313d07",
   "metadata": {
    "execution": {
     "iopub.execute_input": "2025-05-14T08:51:53.527858Z",
     "iopub.status.busy": "2025-05-14T08:51:53.527607Z",
     "iopub.status.idle": "2025-05-14T08:51:53.531267Z",
     "shell.execute_reply": "2025-05-14T08:51:53.530399Z"
    },
    "papermill": {
     "duration": 0.009301,
     "end_time": "2025-05-14T08:51:53.532605",
     "exception": false,
     "start_time": "2025-05-14T08:51:53.523304",
     "status": "completed"
    },
    "tags": []
   },
   "outputs": [],
   "source": [
    "#q3.solution()"
   ]
  },
  {
   "cell_type": "markdown",
   "id": "48f82b44",
   "metadata": {
    "papermill": {
     "duration": 0.003529,
     "end_time": "2025-05-14T08:51:53.539915",
     "exception": false,
     "start_time": "2025-05-14T08:51:53.536386",
     "status": "completed"
    },
    "tags": []
   },
   "source": [
    "# 4. (Optional)\n",
    "\n",
    "It may not be fun, but reading and understanding error messages will be an important part of your Python career.\n",
    "\n",
    "Each code cell below contains some commented buggy code. For each cell...\n",
    "\n",
    "1. Read the code and predict what you think will happen when it's run.\n",
    "2. Then uncomment the code and run it to see what happens. (**Tip**: In the kernel editor, you can highlight several lines and press `ctrl`+`/` to toggle commenting.)\n",
    "3. Fix the code (so that it accomplishes its intended purpose without throwing an exception)\n",
    "\n",
    "<!-- TODO: should this be autochecked? Delta is probably pretty small. -->"
   ]
  },
  {
   "cell_type": "code",
   "execution_count": 9,
   "id": "6d45ce07",
   "metadata": {
    "execution": {
     "iopub.execute_input": "2025-05-14T08:51:53.548458Z",
     "iopub.status.busy": "2025-05-14T08:51:53.548199Z",
     "iopub.status.idle": "2025-05-14T08:51:53.551760Z",
     "shell.execute_reply": "2025-05-14T08:51:53.551054Z"
    },
    "papermill": {
     "duration": 0.00934,
     "end_time": "2025-05-14T08:51:53.553073",
     "exception": false,
     "start_time": "2025-05-14T08:51:53.543733",
     "status": "completed"
    },
    "tags": []
   },
   "outputs": [],
   "source": [
    "# ruound_to_two_places(9.9999)"
   ]
  },
  {
   "cell_type": "code",
   "execution_count": 10,
   "id": "ab9c13d8",
   "metadata": {
    "execution": {
     "iopub.execute_input": "2025-05-14T08:51:53.561481Z",
     "iopub.status.busy": "2025-05-14T08:51:53.561222Z",
     "iopub.status.idle": "2025-05-14T08:51:53.564733Z",
     "shell.execute_reply": "2025-05-14T08:51:53.564093Z"
    },
    "papermill": {
     "duration": 0.009179,
     "end_time": "2025-05-14T08:51:53.565982",
     "exception": false,
     "start_time": "2025-05-14T08:51:53.556803",
     "status": "completed"
    },
    "tags": []
   },
   "outputs": [],
   "source": [
    "# x = -10\n",
    "# y = 5\n",
    "# # Which of the two variables above has the smallest absolute value?\n",
    "# smallest_abs = min(abs(x, y))"
   ]
  },
  {
   "cell_type": "code",
   "execution_count": 11,
   "id": "1f559637",
   "metadata": {
    "execution": {
     "iopub.execute_input": "2025-05-14T08:51:53.574354Z",
     "iopub.status.busy": "2025-05-14T08:51:53.574108Z",
     "iopub.status.idle": "2025-05-14T08:51:53.577585Z",
     "shell.execute_reply": "2025-05-14T08:51:53.576877Z"
    },
    "papermill": {
     "duration": 0.009014,
     "end_time": "2025-05-14T08:51:53.578797",
     "exception": false,
     "start_time": "2025-05-14T08:51:53.569783",
     "status": "completed"
    },
    "tags": []
   },
   "outputs": [],
   "source": [
    "# def f(x):\n",
    "#     y = abs(x)\n",
    "# return y\n",
    "\n",
    "# print(f(5))"
   ]
  },
  {
   "cell_type": "markdown",
   "id": "34c961d8",
   "metadata": {
    "papermill": {
     "duration": 0.003594,
     "end_time": "2025-05-14T08:51:53.587098",
     "exception": false,
     "start_time": "2025-05-14T08:51:53.583504",
     "status": "completed"
    },
    "tags": []
   },
   "source": [
    "# Keep Going\n",
    "\n",
    "Nice job with the code. Next up, you'll learn about *conditionals*, which you'll need to **[write interesting programs](https://www.kaggle.com/colinmorris/booleans-and-conditionals)**. "
   ]
  },
  {
   "cell_type": "markdown",
   "id": "90255ca6",
   "metadata": {
    "papermill": {
     "duration": 0.003497,
     "end_time": "2025-05-14T08:51:53.594258",
     "exception": false,
     "start_time": "2025-05-14T08:51:53.590761",
     "status": "completed"
    },
    "tags": []
   },
   "source": [
    "---\n",
    "\n",
    "\n",
    "\n",
    "\n",
    "*Have questions or comments? Visit the [course discussion forum](https://www.kaggle.com/learn/python/discussion) to chat with other learners.*"
   ]
  }
 ],
 "metadata": {
  "kaggle": {
   "accelerator": "none",
   "dataSources": [],
   "isGpuEnabled": false,
   "isInternetEnabled": false,
   "language": "python",
   "sourceType": "notebook"
  },
  "kernelspec": {
   "display_name": "Python 3",
   "language": "python",
   "name": "python3"
  },
  "language_info": {
   "codemirror_mode": {
    "name": "ipython",
    "version": 3
   },
   "file_extension": ".py",
   "mimetype": "text/x-python",
   "name": "python",
   "nbconvert_exporter": "python",
   "pygments_lexer": "ipython3",
   "version": "3.11.11"
  },
  "learntools_metadata": {
   "lesson_index": 1,
   "type": "exercise"
  },
  "papermill": {
   "default_parameters": {},
   "duration": 7.476165,
   "end_time": "2025-05-14T08:51:54.015651",
   "environment_variables": {},
   "exception": null,
   "input_path": "__notebook__.ipynb",
   "output_path": "__notebook__.ipynb",
   "parameters": {},
   "start_time": "2025-05-14T08:51:46.539486",
   "version": "2.6.0"
  }
 },
 "nbformat": 4,
 "nbformat_minor": 5
}
