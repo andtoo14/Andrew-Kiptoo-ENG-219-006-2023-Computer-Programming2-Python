{
 "cells": [
  {
   "cell_type": "markdown",
   "id": "e85b1a7a",
   "metadata": {
    "papermill": {
     "duration": 0.005889,
     "end_time": "2025-02-27T09:55:20.788369",
     "exception": false,
     "start_time": "2025-02-27T09:55:20.782480",
     "status": "completed"
    },
    "tags": []
   },
   "source": [
    "**This notebook is an exercise in the [Intro to Programming](https://www.kaggle.com/learn/intro-to-programming) course.  You can reference the tutorial at [this link](https://www.kaggle.com/alexisbcook/functions).**\n",
    "\n",
    "---\n"
   ]
  },
  {
   "cell_type": "markdown",
   "id": "51dae108",
   "metadata": {
    "papermill": {
     "duration": 0.005198,
     "end_time": "2025-02-27T09:55:20.799133",
     "exception": false,
     "start_time": "2025-02-27T09:55:20.793935",
     "status": "completed"
    },
    "tags": []
   },
   "source": [
    "In the tutorial, you learned about functions. In this exercise, you'll write some of your own!\n",
    "\n",
    "# Set up the notebook\n",
    "\n",
    "Run the next code cell without changes to set up the notebook."
   ]
  },
  {
   "cell_type": "code",
   "execution_count": 1,
   "id": "31a8ef01",
   "metadata": {
    "execution": {
     "iopub.execute_input": "2025-02-27T09:55:20.812638Z",
     "iopub.status.busy": "2025-02-27T09:55:20.812181Z",
     "iopub.status.idle": "2025-02-27T09:55:22.104762Z",
     "shell.execute_reply": "2025-02-27T09:55:22.103248Z"
    },
    "papermill": {
     "duration": 1.30236,
     "end_time": "2025-02-27T09:55:22.106957",
     "exception": false,
     "start_time": "2025-02-27T09:55:20.804597",
     "status": "completed"
    },
    "tags": []
   },
   "outputs": [
    {
     "name": "stdout",
     "output_type": "stream",
     "text": [
      "Setup complete.\n"
     ]
    }
   ],
   "source": [
    "# Set up the exercise\n",
    "import math\n",
    "from learntools.core import binder\n",
    "binder.bind(globals())\n",
    "from learntools.intro_to_programming.ex2 import *\n",
    "print('Setup complete.')"
   ]
  },
  {
   "cell_type": "markdown",
   "id": "2e3880a4",
   "metadata": {
    "papermill": {
     "duration": 0.00487,
     "end_time": "2025-02-27T09:55:22.117586",
     "exception": false,
     "start_time": "2025-02-27T09:55:22.112716",
     "status": "completed"
    },
    "tags": []
   },
   "source": [
    "# Question 1\n",
    "\n",
    "In the [House Prices - Advanced Regression Techniques competition](https://www.kaggle.com/c/house-prices-advanced-regression-techniques/overview), you need to use information like the number of bedrooms and bathrooms to predict the price of a house.  Inspired by this competition, you'll write your own function to do this.\n",
    "\n",
    "In the next code cell, create a function `get_expected_cost()` that has two arguments:\n",
    "- `beds` - number of bedrooms \n",
    "- `baths` - number of bathrooms\n",
    "\n",
    "It should return the expected cost of a house with that number of bedrooms and bathrooms.  Assume that:\n",
    "- the expected cost for a house with 0 bedrooms and 0 bathrooms is `80000`.  \n",
    "- each bedroom adds `30000` to the expected cost\n",
    "- each bathroom adds `10000` to the expected cost.\n",
    "\n",
    "For instance, \n",
    "- a house with 1 bedroom and 1 bathroom has an expected cost of `120000`, and \n",
    "- a house with 2 bedrooms and 1 bathroom has an expected cost of `150000`."
   ]
  },
  {
   "cell_type": "code",
   "execution_count": 2,
   "id": "b67f4f43",
   "metadata": {
    "execution": {
     "iopub.execute_input": "2025-02-27T09:55:22.130351Z",
     "iopub.status.busy": "2025-02-27T09:55:22.129688Z",
     "iopub.status.idle": "2025-02-27T09:55:22.139962Z",
     "shell.execute_reply": "2025-02-27T09:55:22.138903Z"
    },
    "papermill": {
     "duration": 0.018756,
     "end_time": "2025-02-27T09:55:22.141881",
     "exception": false,
     "start_time": "2025-02-27T09:55:22.123125",
     "status": "completed"
    },
    "tags": []
   },
   "outputs": [
    {
     "data": {
      "application/javascript": [
       "parent.postMessage({\"jupyterEvent\": \"custom.exercise_interaction\", \"data\": {\"outcomeType\": 1, \"valueTowardsCompletion\": 0.2, \"interactionType\": 1, \"questionType\": 2, \"questionId\": \"1_GetExpectedCost\", \"learnToolsVersion\": \"0.3.4\", \"failureMessage\": \"\", \"exceptionClass\": \"\", \"trace\": \"\"}}, \"*\")"
      ],
      "text/plain": [
       "<IPython.core.display.Javascript object>"
      ]
     },
     "metadata": {},
     "output_type": "display_data"
    },
    {
     "data": {
      "text/markdown": [
       "<span style=\"color:#33cc33\">Correct</span>"
      ],
      "text/plain": [
       "Correct"
      ]
     },
     "metadata": {},
     "output_type": "display_data"
    }
   ],
   "source": [
    "# TODO: Complete the function\n",
    "def get_expected_cost(beds, baths):\n",
    "    value = 80000 + (30000 * beds) + (10000 * baths)\n",
    "    return value\n",
    "\n",
    "# Check your answer \n",
    "q1.check()"
   ]
  },
  {
   "cell_type": "code",
   "execution_count": 3,
   "id": "7abddc95",
   "metadata": {
    "execution": {
     "iopub.execute_input": "2025-02-27T09:55:22.154382Z",
     "iopub.status.busy": "2025-02-27T09:55:22.153984Z",
     "iopub.status.idle": "2025-02-27T09:55:22.158274Z",
     "shell.execute_reply": "2025-02-27T09:55:22.157111Z"
    },
    "papermill": {
     "duration": 0.012664,
     "end_time": "2025-02-27T09:55:22.160094",
     "exception": false,
     "start_time": "2025-02-27T09:55:22.147430",
     "status": "completed"
    },
    "tags": []
   },
   "outputs": [],
   "source": [
    "# Uncomment to see a hint\n",
    "#q1.hint()\n",
    "\n",
    "# Uncomment to view the solution\n",
    "#q1.solution()"
   ]
  },
  {
   "cell_type": "markdown",
   "id": "305becd3",
   "metadata": {
    "papermill": {
     "duration": 0.005303,
     "end_time": "2025-02-27T09:55:22.171069",
     "exception": false,
     "start_time": "2025-02-27T09:55:22.165766",
     "status": "completed"
    },
    "tags": []
   },
   "source": [
    "# Question 2\n",
    "\n",
    "You are thinking about buying a home and want to get an idea of how much you will spend, based on the number of bedrooms and bathrooms.  You are trying to decide between four different options:\n",
    "- Option 1: house with two bedrooms and three bathrooms\n",
    "- Option 2: house with three bedrooms and two bathrooms\n",
    "- Option 3: house with three bedrooms and three bathrooms\n",
    "- Option 4: house with three bedrooms and four bathrooms\n",
    "\n",
    "Use the `get_expected_cost()` function you defined in question 1 to set `option_1`, `option_2`, `option_3`, and `option_4` to the expected cost of each option."
   ]
  },
  {
   "cell_type": "code",
   "execution_count": 4,
   "id": "c177bacb",
   "metadata": {
    "execution": {
     "iopub.execute_input": "2025-02-27T09:55:22.183810Z",
     "iopub.status.busy": "2025-02-27T09:55:22.183454Z",
     "iopub.status.idle": "2025-02-27T09:55:22.193454Z",
     "shell.execute_reply": "2025-02-27T09:55:22.192288Z"
    },
    "papermill": {
     "duration": 0.018427,
     "end_time": "2025-02-27T09:55:22.195259",
     "exception": false,
     "start_time": "2025-02-27T09:55:22.176832",
     "status": "completed"
    },
    "tags": []
   },
   "outputs": [
    {
     "name": "stdout",
     "output_type": "stream",
     "text": [
      "170000\n",
      "190000\n",
      "200000\n",
      "210000\n"
     ]
    },
    {
     "data": {
      "application/javascript": [
       "parent.postMessage({\"jupyterEvent\": \"custom.exercise_interaction\", \"data\": {\"outcomeType\": 1, \"valueTowardsCompletion\": 0.2, \"interactionType\": 1, \"questionType\": 1, \"questionId\": \"2_RunGetExpectedCost\", \"learnToolsVersion\": \"0.3.4\", \"failureMessage\": \"\", \"exceptionClass\": \"\", \"trace\": \"\"}}, \"*\")"
      ],
      "text/plain": [
       "<IPython.core.display.Javascript object>"
      ]
     },
     "metadata": {},
     "output_type": "display_data"
    },
    {
     "data": {
      "text/markdown": [
       "<span style=\"color:#33cc33\">Correct</span>"
      ],
      "text/plain": [
       "Correct"
      ]
     },
     "metadata": {},
     "output_type": "display_data"
    }
   ],
   "source": [
    "# TODO: Use the get_expected_cost function to fill in each value\n",
    "option_one = get_expected_cost(2,3)\n",
    "option_two = get_expected_cost(3,2)\n",
    "option_three = get_expected_cost(3,3)\n",
    "option_four = get_expected_cost(3,4)\n",
    "\n",
    "print(option_one)\n",
    "print(option_two)\n",
    "print(option_three)\n",
    "print(option_four)\n",
    "\n",
    "# Check your answer\n",
    "q2.check()"
   ]
  },
  {
   "cell_type": "code",
   "execution_count": 5,
   "id": "20aa3a2d",
   "metadata": {
    "execution": {
     "iopub.execute_input": "2025-02-27T09:55:22.208281Z",
     "iopub.status.busy": "2025-02-27T09:55:22.207850Z",
     "iopub.status.idle": "2025-02-27T09:55:22.211967Z",
     "shell.execute_reply": "2025-02-27T09:55:22.210863Z"
    },
    "papermill": {
     "duration": 0.012716,
     "end_time": "2025-02-27T09:55:22.213817",
     "exception": false,
     "start_time": "2025-02-27T09:55:22.201101",
     "status": "completed"
    },
    "tags": []
   },
   "outputs": [],
   "source": [
    "# Uncomment to see a hint\n",
    "#q2.hint()\n",
    "\n",
    "# Uncomment to view the solution\n",
    "#q2.solution()"
   ]
  },
  {
   "cell_type": "markdown",
   "id": "1ee8d9ce",
   "metadata": {
    "papermill": {
     "duration": 0.00529,
     "end_time": "2025-02-27T09:55:22.225000",
     "exception": false,
     "start_time": "2025-02-27T09:55:22.219710",
     "status": "completed"
    },
    "tags": []
   },
   "source": [
    "# Question 3\n",
    "\n",
    "You're a home decorator, and you'd like to use Python to streamline some of your work.  Specifically, you're creating a tool that you intend to use to calculate the cost of painting a room.\n",
    "\n",
    "As a first step, define a function `get_cost()` that takes as input:\n",
    "- `sqft_walls` = total square feet of walls to be painted\n",
    "- `sqft_ceiling` = square feet of ceiling to be painted\n",
    "- `sqft_per_gallon` = number of square feet that you can cover with one gallon of paint\n",
    "- `cost_per_gallon` = cost (in dollars) of one gallon of paint\n",
    "\n",
    "It should return the cost (in dollars) of putting one coat of paint on all walls and the ceiling.  Assume you can buy the exact amount of paint that you need, so you can buy partial gallons (e.g., if you need 7.523 gallons, you can buy that exact amount, instead of needing to buy 8 gallons and waste some paint).  Do not round your answer."
   ]
  },
  {
   "cell_type": "code",
   "execution_count": 6,
   "id": "6d22855b",
   "metadata": {
    "execution": {
     "iopub.execute_input": "2025-02-27T09:55:22.238444Z",
     "iopub.status.busy": "2025-02-27T09:55:22.237990Z",
     "iopub.status.idle": "2025-02-27T09:55:22.248238Z",
     "shell.execute_reply": "2025-02-27T09:55:22.246902Z"
    },
    "papermill": {
     "duration": 0.019776,
     "end_time": "2025-02-27T09:55:22.250391",
     "exception": false,
     "start_time": "2025-02-27T09:55:22.230615",
     "status": "completed"
    },
    "tags": []
   },
   "outputs": [
    {
     "data": {
      "application/javascript": [
       "parent.postMessage({\"jupyterEvent\": \"custom.exercise_interaction\", \"data\": {\"outcomeType\": 1, \"valueTowardsCompletion\": 0.2, \"interactionType\": 1, \"questionType\": 2, \"questionId\": \"3_GetCostPaint\", \"learnToolsVersion\": \"0.3.4\", \"failureMessage\": \"\", \"exceptionClass\": \"\", \"trace\": \"\"}}, \"*\")"
      ],
      "text/plain": [
       "<IPython.core.display.Javascript object>"
      ]
     },
     "metadata": {},
     "output_type": "display_data"
    },
    {
     "data": {
      "text/markdown": [
       "<span style=\"color:#33cc33\">Correct</span>"
      ],
      "text/plain": [
       "Correct"
      ]
     },
     "metadata": {},
     "output_type": "display_data"
    }
   ],
   "source": [
    "# TODO: Finish defining the function\n",
    "def get_cost(sqft_walls, sqft_ceiling, sqft_per_gallon, cost_per_gallon):\n",
    "    total_sqft = sqft_walls + sqft_ceiling\n",
    "    gallons_needed = total_sqft / sqft_per_gallon\n",
    "    cost = cost_per_gallon * gallons_needed\n",
    "    return cost\n",
    "\n",
    "# Check your answer\n",
    "q3.check()"
   ]
  },
  {
   "cell_type": "code",
   "execution_count": 7,
   "id": "51baf674",
   "metadata": {
    "execution": {
     "iopub.execute_input": "2025-02-27T09:55:22.264648Z",
     "iopub.status.busy": "2025-02-27T09:55:22.263858Z",
     "iopub.status.idle": "2025-02-27T09:55:22.268667Z",
     "shell.execute_reply": "2025-02-27T09:55:22.267504Z"
    },
    "papermill": {
     "duration": 0.014005,
     "end_time": "2025-02-27T09:55:22.270575",
     "exception": false,
     "start_time": "2025-02-27T09:55:22.256570",
     "status": "completed"
    },
    "tags": []
   },
   "outputs": [],
   "source": [
    "# Uncomment to see a hint\n",
    "#q3.hint()\n",
    "\n",
    "# Uncomment to view the solution\n",
    "#q3.solution()"
   ]
  },
  {
   "cell_type": "markdown",
   "id": "3b904d05",
   "metadata": {
    "papermill": {
     "duration": 0.005759,
     "end_time": "2025-02-27T09:55:22.282581",
     "exception": false,
     "start_time": "2025-02-27T09:55:22.276822",
     "status": "completed"
    },
    "tags": []
   },
   "source": [
    "# Question 4\n",
    "\n",
    "Use the `get_cost()` function you defined in Question 3 to calculate the cost of applying one coat of paint to a room with:\n",
    "- 432 square feet of walls, and\n",
    "- 144 square feet of ceiling.\n",
    "\n",
    "Assume that one gallon of paint covers 400 square feet and costs $15.  As in Question 3, assume you can buy partial gallons of paint.  Do not round your answer."
   ]
  },
  {
   "cell_type": "code",
   "execution_count": 8,
   "id": "2f89cac5",
   "metadata": {
    "execution": {
     "iopub.execute_input": "2025-02-27T09:55:22.296515Z",
     "iopub.status.busy": "2025-02-27T09:55:22.295885Z",
     "iopub.status.idle": "2025-02-27T09:55:22.308293Z",
     "shell.execute_reply": "2025-02-27T09:55:22.306412Z"
    },
    "papermill": {
     "duration": 0.022246,
     "end_time": "2025-02-27T09:55:22.310781",
     "exception": false,
     "start_time": "2025-02-27T09:55:22.288535",
     "status": "completed"
    },
    "tags": []
   },
   "outputs": [
    {
     "data": {
      "application/javascript": [
       "parent.postMessage({\"jupyterEvent\": \"custom.exercise_interaction\", \"data\": {\"outcomeType\": 1, \"valueTowardsCompletion\": 0.2, \"interactionType\": 1, \"questionType\": 1, \"questionId\": \"4_GetCostPaintExample\", \"learnToolsVersion\": \"0.3.4\", \"failureMessage\": \"\", \"exceptionClass\": \"\", \"trace\": \"\"}}, \"*\")"
      ],
      "text/plain": [
       "<IPython.core.display.Javascript object>"
      ]
     },
     "metadata": {},
     "output_type": "display_data"
    },
    {
     "data": {
      "text/markdown": [
       "<span style=\"color:#33cc33\">Correct</span>"
      ],
      "text/plain": [
       "Correct"
      ]
     },
     "metadata": {},
     "output_type": "display_data"
    }
   ],
   "source": [
    "# TODO: Set the project_cost variable to the cost of the project\n",
    "project_cost = get_cost(432, 144, 400, 15)\n",
    "\n",
    "# Check your answer\n",
    "q4.check()"
   ]
  },
  {
   "cell_type": "code",
   "execution_count": 9,
   "id": "6439d033",
   "metadata": {
    "execution": {
     "iopub.execute_input": "2025-02-27T09:55:22.327372Z",
     "iopub.status.busy": "2025-02-27T09:55:22.326790Z",
     "iopub.status.idle": "2025-02-27T09:55:22.331786Z",
     "shell.execute_reply": "2025-02-27T09:55:22.330101Z"
    },
    "papermill": {
     "duration": 0.015354,
     "end_time": "2025-02-27T09:55:22.333873",
     "exception": false,
     "start_time": "2025-02-27T09:55:22.318519",
     "status": "completed"
    },
    "tags": []
   },
   "outputs": [],
   "source": [
    "# Uncomment to see a hint\n",
    "#q4.hint()\n",
    "\n",
    "# Uncomment to view the solution\n",
    "#q4.solution()"
   ]
  },
  {
   "cell_type": "markdown",
   "id": "1fab4b24",
   "metadata": {
    "papermill": {
     "duration": 0.005734,
     "end_time": "2025-02-27T09:55:22.346284",
     "exception": false,
     "start_time": "2025-02-27T09:55:22.340550",
     "status": "completed"
    },
    "tags": []
   },
   "source": [
    "# 🌶️ Question 5\n",
    "\n",
    "Now say you can no longer buy fractions of a gallon.  (For instance, if you need 4.3 gallons to do a project, then you have to buy 5 gallons of paint.)\n",
    "\n",
    "With this new scenario, you will create a new function `get_actual_cost` that uses the same inputs and calculates the cost of your project.\n",
    "\n",
    "One function that you'll need to use to do this is `math.ceil()`.  We demonstrate usage of this function in the code cell below.  It takes as a number as input and rounds the number up to the nearest integer.  \n",
    "\n",
    "Run the next code cell to test this function for yourself.  Feel free to change the value of `test_value` and make sure `math.ceil()` returns the number you expect."
   ]
  },
  {
   "cell_type": "code",
   "execution_count": 10,
   "id": "45ab89ca",
   "metadata": {
    "execution": {
     "iopub.execute_input": "2025-02-27T09:55:22.360435Z",
     "iopub.status.busy": "2025-02-27T09:55:22.359959Z",
     "iopub.status.idle": "2025-02-27T09:55:22.366668Z",
     "shell.execute_reply": "2025-02-27T09:55:22.364923Z"
    },
    "papermill": {
     "duration": 0.016368,
     "end_time": "2025-02-27T09:55:22.368788",
     "exception": false,
     "start_time": "2025-02-27T09:55:22.352420",
     "status": "completed"
    },
    "tags": []
   },
   "outputs": [
    {
     "name": "stdout",
     "output_type": "stream",
     "text": [
      "3\n"
     ]
    }
   ],
   "source": [
    "test_value = 2.17\n",
    "\n",
    "rounded_value = math.ceil(test_value)\n",
    "print(rounded_value)"
   ]
  },
  {
   "cell_type": "markdown",
   "id": "7920702e",
   "metadata": {
    "papermill": {
     "duration": 0.006278,
     "end_time": "2025-02-27T09:55:22.381852",
     "exception": false,
     "start_time": "2025-02-27T09:55:22.375574",
     "status": "completed"
    },
    "tags": []
   },
   "source": [
    "Use the next code cell to define the function `get_actual_cost()`.  You'll need to use the `math.ceil()` function to do this.\n",
    "\n",
    "When answering this question, note that it's completely valid to define a function that makes use of another function.  For instance, we can define a function `round_up_and_divide_by_three` that makes use of the `math.ceil` function:\n",
    "```\n",
    "def round_up_and_divide_by_three(num):\n",
    "    new_value = math.ceil(num)\n",
    "    final_value = new_value / 3\n",
    "    return final_value\n",
    "```"
   ]
  },
  {
   "cell_type": "code",
   "execution_count": 11,
   "id": "9ed94408",
   "metadata": {
    "execution": {
     "iopub.execute_input": "2025-02-27T09:55:22.396267Z",
     "iopub.status.busy": "2025-02-27T09:55:22.395832Z",
     "iopub.status.idle": "2025-02-27T09:55:22.404665Z",
     "shell.execute_reply": "2025-02-27T09:55:22.403289Z"
    },
    "papermill": {
     "duration": 0.017901,
     "end_time": "2025-02-27T09:55:22.406488",
     "exception": false,
     "start_time": "2025-02-27T09:55:22.388587",
     "status": "completed"
    },
    "tags": []
   },
   "outputs": [
    {
     "data": {
      "application/javascript": [
       "parent.postMessage({\"jupyterEvent\": \"custom.exercise_interaction\", \"data\": {\"outcomeType\": 1, \"valueTowardsCompletion\": 0.2, \"interactionType\": 1, \"questionType\": 2, \"questionId\": \"5_NoMoreFractions\", \"learnToolsVersion\": \"0.3.4\", \"failureMessage\": \"\", \"exceptionClass\": \"\", \"trace\": \"\"}}, \"*\")"
      ],
      "text/plain": [
       "<IPython.core.display.Javascript object>"
      ]
     },
     "metadata": {},
     "output_type": "display_data"
    },
    {
     "data": {
      "text/markdown": [
       "<span style=\"color:#33cc33\">Correct</span>"
      ],
      "text/plain": [
       "Correct"
      ]
     },
     "metadata": {},
     "output_type": "display_data"
    }
   ],
   "source": [
    "def get_actual_cost(sqft_walls, sqft_ceiling, sqft_per_gallon, cost_per_gallon):\n",
    "    total_sqft = sqft_walls + sqft_ceiling\n",
    "    gallons_needed = total_sqft / sqft_per_gallon\n",
    "    gallons_to_buy = math.ceil(gallons_needed)\n",
    "    cost = cost_per_gallon * gallons_to_buy\n",
    "    return cost\n",
    "\n",
    "# Check your answer\n",
    "q5.check()"
   ]
  },
  {
   "cell_type": "code",
   "execution_count": 12,
   "id": "350bf22d",
   "metadata": {
    "execution": {
     "iopub.execute_input": "2025-02-27T09:55:22.422736Z",
     "iopub.status.busy": "2025-02-27T09:55:22.422345Z",
     "iopub.status.idle": "2025-02-27T09:55:22.426866Z",
     "shell.execute_reply": "2025-02-27T09:55:22.425576Z"
    },
    "papermill": {
     "duration": 0.014498,
     "end_time": "2025-02-27T09:55:22.428720",
     "exception": false,
     "start_time": "2025-02-27T09:55:22.414222",
     "status": "completed"
    },
    "tags": []
   },
   "outputs": [],
   "source": [
    "# Uncomment to see a hint\n",
    "#q5.hint()\n",
    "\n",
    "# Uncomment to view the solution\n",
    "#q5.solution()"
   ]
  },
  {
   "cell_type": "markdown",
   "id": "66086409",
   "metadata": {
    "papermill": {
     "duration": 0.008003,
     "end_time": "2025-02-27T09:55:22.443258",
     "exception": false,
     "start_time": "2025-02-27T09:55:22.435255",
     "status": "completed"
    },
    "tags": []
   },
   "source": [
    "Once your function is verified as correct, run the next code cell to calculate the updated cost of your project."
   ]
  },
  {
   "cell_type": "code",
   "execution_count": 13,
   "id": "af98b4dd",
   "metadata": {
    "execution": {
     "iopub.execute_input": "2025-02-27T09:55:22.458080Z",
     "iopub.status.busy": "2025-02-27T09:55:22.457642Z",
     "iopub.status.idle": "2025-02-27T09:55:22.464624Z",
     "shell.execute_reply": "2025-02-27T09:55:22.463201Z"
    },
    "papermill": {
     "duration": 0.016498,
     "end_time": "2025-02-27T09:55:22.466693",
     "exception": false,
     "start_time": "2025-02-27T09:55:22.450195",
     "status": "completed"
    },
    "tags": []
   },
   "outputs": [
    {
     "data": {
      "text/plain": [
       "30"
      ]
     },
     "execution_count": 13,
     "metadata": {},
     "output_type": "execute_result"
    }
   ],
   "source": [
    "get_actual_cost(432, 144, 400, 15) "
   ]
  },
  {
   "cell_type": "markdown",
   "id": "95a0b4c5",
   "metadata": {
    "papermill": {
     "duration": 0.006417,
     "end_time": "2025-02-27T09:55:22.480330",
     "exception": false,
     "start_time": "2025-02-27T09:55:22.473913",
     "status": "completed"
    },
    "tags": []
   },
   "source": [
    "Say you're working with a slightly larger room.  Run the next code cell to calculate the cost of the project."
   ]
  },
  {
   "cell_type": "code",
   "execution_count": 14,
   "id": "06e4b71b",
   "metadata": {
    "execution": {
     "iopub.execute_input": "2025-02-27T09:55:22.494722Z",
     "iopub.status.busy": "2025-02-27T09:55:22.494334Z",
     "iopub.status.idle": "2025-02-27T09:55:22.500761Z",
     "shell.execute_reply": "2025-02-27T09:55:22.499571Z"
    },
    "papermill": {
     "duration": 0.015595,
     "end_time": "2025-02-27T09:55:22.502434",
     "exception": false,
     "start_time": "2025-02-27T09:55:22.486839",
     "status": "completed"
    },
    "tags": []
   },
   "outputs": [
    {
     "data": {
      "text/plain": [
       "45"
      ]
     },
     "execution_count": 14,
     "metadata": {},
     "output_type": "execute_result"
    }
   ],
   "source": [
    "get_actual_cost(594, 288, 400, 15) "
   ]
  },
  {
   "cell_type": "markdown",
   "id": "f049e17a",
   "metadata": {
    "papermill": {
     "duration": 0.006185,
     "end_time": "2025-02-27T09:55:22.515175",
     "exception": false,
     "start_time": "2025-02-27T09:55:22.508990",
     "status": "completed"
    },
    "tags": []
   },
   "source": [
    "# Keep going\n",
    "\n",
    "Continue to learn about **[data types](https://www.kaggle.com/alexisbcook/data-types)**."
   ]
  },
  {
   "cell_type": "markdown",
   "id": "996c6d8f",
   "metadata": {
    "papermill": {
     "duration": 0.006359,
     "end_time": "2025-02-27T09:55:22.528991",
     "exception": false,
     "start_time": "2025-02-27T09:55:22.522632",
     "status": "completed"
    },
    "tags": []
   },
   "source": [
    "---\n",
    "\n",
    "\n",
    "\n",
    "\n",
    "*Have questions or comments? Visit the [course discussion forum](https://www.kaggle.com/learn/intro-to-programming/discussion) to chat with other learners.*"
   ]
  }
 ],
 "metadata": {
  "kaggle": {
   "accelerator": "none",
   "dataSources": [],
   "isGpuEnabled": false,
   "isInternetEnabled": false,
   "language": "python",
   "sourceType": "notebook"
  },
  "kernelspec": {
   "display_name": "Python 3",
   "language": "python",
   "name": "python3"
  },
  "language_info": {
   "codemirror_mode": {
    "name": "ipython",
    "version": 3
   },
   "file_extension": ".py",
   "mimetype": "text/x-python",
   "name": "python",
   "nbconvert_exporter": "python",
   "pygments_lexer": "ipython3",
   "version": "3.10.12"
  },
  "papermill": {
   "default_parameters": {},
   "duration": 5.649237,
   "end_time": "2025-02-27T09:55:23.157686",
   "environment_variables": {},
   "exception": null,
   "input_path": "__notebook__.ipynb",
   "output_path": "__notebook__.ipynb",
   "parameters": {},
   "start_time": "2025-02-27T09:55:17.508449",
   "version": "2.6.0"
  }
 },
 "nbformat": 4,
 "nbformat_minor": 5
}
