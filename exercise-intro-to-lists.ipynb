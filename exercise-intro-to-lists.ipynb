{
 "cells": [
  {
   "cell_type": "markdown",
   "id": "315e14d4",
   "metadata": {
    "papermill": {
     "duration": 0.004431,
     "end_time": "2025-02-27T10:58:19.340825",
     "exception": false,
     "start_time": "2025-02-27T10:58:19.336394",
     "status": "completed"
    },
    "tags": []
   },
   "source": [
    "**This notebook is an exercise in the [Intro to Programming](https://www.kaggle.com/learn/intro-to-programming) course.  You can reference the tutorial at [this link](https://www.kaggle.com/alexisbcook/intro-to-lists).**\n",
    "\n",
    "---\n"
   ]
  },
  {
   "cell_type": "markdown",
   "id": "2d2d612a",
   "metadata": {
    "papermill": {
     "duration": 0.003202,
     "end_time": "2025-02-27T10:58:19.347555",
     "exception": false,
     "start_time": "2025-02-27T10:58:19.344353",
     "status": "completed"
    },
    "tags": []
   },
   "source": [
    "In the tutorial, you learned how to define and modify Python lists.  In this exercise, you will use your new knowledge to solve several problems.\n",
    "\n",
    "# Set up the notebook\n",
    "\n",
    "Run the next code cell without changes to set up the notebook."
   ]
  },
  {
   "cell_type": "code",
   "execution_count": 1,
   "id": "27a4369f",
   "metadata": {
    "execution": {
     "iopub.execute_input": "2025-02-27T10:58:19.355579Z",
     "iopub.status.busy": "2025-02-27T10:58:19.355298Z",
     "iopub.status.idle": "2025-02-27T10:58:20.834864Z",
     "shell.execute_reply": "2025-02-27T10:58:20.833784Z"
    },
    "papermill": {
     "duration": 1.485853,
     "end_time": "2025-02-27T10:58:20.836754",
     "exception": false,
     "start_time": "2025-02-27T10:58:19.350901",
     "status": "completed"
    },
    "tags": []
   },
   "outputs": [
    {
     "name": "stdout",
     "output_type": "stream",
     "text": [
      "Setup complete.\n"
     ]
    }
   ],
   "source": [
    "from learntools.core import binder\n",
    "binder.bind(globals())\n",
    "from learntools.intro_to_programming.ex5 import *\n",
    "print('Setup complete.')"
   ]
  },
  {
   "cell_type": "markdown",
   "id": "fd8fccb5",
   "metadata": {
    "papermill": {
     "duration": 0.003354,
     "end_time": "2025-02-27T10:58:20.844390",
     "exception": false,
     "start_time": "2025-02-27T10:58:20.841036",
     "status": "completed"
    },
    "tags": []
   },
   "source": [
    "# Question 1\n",
    "\n",
    "You own a restaurant with five food dishes, organized in the Python list `menu` below.  One day, you decide to:\n",
    "- remove bean soup (`'bean soup'`) from the menu, and\n",
    "- add roasted beet salad (`'roasted beet salad'`) to the menu.\n",
    "\n",
    "Implement this change to the list below.  While completing this task, \n",
    "- do not change the line that creates the `menu` list.  \n",
    "- your answer should use `.remove()` and `.append()`.  "
   ]
  },
  {
   "cell_type": "code",
   "execution_count": 2,
   "id": "cab51726",
   "metadata": {
    "execution": {
     "iopub.execute_input": "2025-02-27T10:58:20.852696Z",
     "iopub.status.busy": "2025-02-27T10:58:20.852307Z",
     "iopub.status.idle": "2025-02-27T10:58:20.862055Z",
     "shell.execute_reply": "2025-02-27T10:58:20.860837Z"
    },
    "papermill": {
     "duration": 0.015918,
     "end_time": "2025-02-27T10:58:20.863848",
     "exception": false,
     "start_time": "2025-02-27T10:58:20.847930",
     "status": "completed"
    },
    "tags": []
   },
   "outputs": [
    {
     "data": {
      "application/javascript": [
       "parent.postMessage({\"jupyterEvent\": \"custom.exercise_interaction\", \"data\": {\"outcomeType\": 1, \"valueTowardsCompletion\": 0.2, \"interactionType\": 1, \"questionType\": 2, \"questionId\": \"1_FoodMenu\", \"learnToolsVersion\": \"0.3.4\", \"failureMessage\": \"\", \"exceptionClass\": \"\", \"trace\": \"\"}}, \"*\")"
      ],
      "text/plain": [
       "<IPython.core.display.Javascript object>"
      ]
     },
     "metadata": {},
     "output_type": "display_data"
    },
    {
     "data": {
      "text/markdown": [
       "<span style=\"color:#33cc33\">Correct</span>"
      ],
      "text/plain": [
       "Correct"
      ]
     },
     "metadata": {},
     "output_type": "display_data"
    }
   ],
   "source": [
    "# Do not change: Initial menu for your restaurant\n",
    "menu = ['stewed meat with onions', 'bean soup' , 'risotto with trout and shrimp',\n",
    "       'fish soup with cream and onion', 'gyro']\n",
    "\n",
    "# TODO: remove 'bean soup', and add 'roasted beet salad' to the end of the menu\n",
    "menu.remove('bean soup')\n",
    "menu.append('roasted beet salad')\n",
    "\n",
    "# Do not change: Check your answer\n",
    "q1.check()"
   ]
  },
  {
   "cell_type": "code",
   "execution_count": 3,
   "id": "1316ff97",
   "metadata": {
    "execution": {
     "iopub.execute_input": "2025-02-27T10:58:20.872669Z",
     "iopub.status.busy": "2025-02-27T10:58:20.872349Z",
     "iopub.status.idle": "2025-02-27T10:58:20.875747Z",
     "shell.execute_reply": "2025-02-27T10:58:20.874889Z"
    },
    "papermill": {
     "duration": 0.009016,
     "end_time": "2025-02-27T10:58:20.876923",
     "exception": false,
     "start_time": "2025-02-27T10:58:20.867907",
     "status": "completed"
    },
    "tags": []
   },
   "outputs": [],
   "source": [
    "# Uncomment to see a hint\n",
    "#q1.hint()\n",
    "\n",
    "# Uncomment to see the solution\n",
    "#q1.solution()"
   ]
  },
  {
   "cell_type": "markdown",
   "id": "3e1303b2",
   "metadata": {
    "papermill": {
     "duration": 0.003526,
     "end_time": "2025-02-27T10:58:20.884757",
     "exception": false,
     "start_time": "2025-02-27T10:58:20.881231",
     "status": "completed"
    },
    "tags": []
   },
   "source": [
    "# Question 2\n",
    "\n",
    "The list `num_customers` contains the number of customers who came into your restaurant every day over the last month (which lasted thirty days).  Fill in values for each of the following:\n",
    "- `avg_first_seven` - average number of customers who visited in the first seven days\n",
    "- `avg_last_seven` - average number of customers who visited in the last seven days\n",
    "- `max_month` - number of customers on the day that got the most customers in the last month\n",
    "- `min_month` - number of customers on the day that got the least customers in the last month\n",
    "\n",
    "Answer this question by writing code.  For instance, if you have to find the minimum value in a list, use `min()` instead of scanning for the smallest value and directly filling in a number."
   ]
  },
  {
   "cell_type": "code",
   "execution_count": 4,
   "id": "7f21aea8",
   "metadata": {
    "execution": {
     "iopub.execute_input": "2025-02-27T10:58:20.893296Z",
     "iopub.status.busy": "2025-02-27T10:58:20.892988Z",
     "iopub.status.idle": "2025-02-27T10:58:20.901192Z",
     "shell.execute_reply": "2025-02-27T10:58:20.899960Z"
    },
    "papermill": {
     "duration": 0.014779,
     "end_time": "2025-02-27T10:58:20.903255",
     "exception": false,
     "start_time": "2025-02-27T10:58:20.888476",
     "status": "completed"
    },
    "tags": []
   },
   "outputs": [
    {
     "data": {
      "application/javascript": [
       "parent.postMessage({\"jupyterEvent\": \"custom.exercise_interaction\", \"data\": {\"outcomeType\": 1, \"valueTowardsCompletion\": 0.2, \"interactionType\": 1, \"questionType\": 1, \"questionId\": \"2_NumCustomers\", \"learnToolsVersion\": \"0.3.4\", \"failureMessage\": \"\", \"exceptionClass\": \"\", \"trace\": \"\"}}, \"*\")"
      ],
      "text/plain": [
       "<IPython.core.display.Javascript object>"
      ]
     },
     "metadata": {},
     "output_type": "display_data"
    },
    {
     "data": {
      "text/markdown": [
       "<span style=\"color:#33cc33\">Correct</span>"
      ],
      "text/plain": [
       "Correct"
      ]
     },
     "metadata": {},
     "output_type": "display_data"
    }
   ],
   "source": [
    "# Do not change: Number of customers each day for the last month\n",
    "num_customers = [137, 147, 135, 128, 170, 174, 165, 146, 126, 159,\n",
    "                 141, 148, 132, 147, 168, 153, 170, 161, 148, 152,\n",
    "                 141, 151, 131, 149, 164, 163, 143, 143, 166, 171]\n",
    "\n",
    "# TODO: Fill in values for the variables below\n",
    "avg_first_seven = sum(num_customers[:7])/7 \n",
    "avg_last_seven = sum(num_customers[-7:])/7\n",
    "max_month = max(num_customers)\n",
    "min_month = min(num_customers)\n",
    "\n",
    "# Do not change: Check your answer\n",
    "q2.check()"
   ]
  },
  {
   "cell_type": "code",
   "execution_count": 5,
   "id": "e9ce391f",
   "metadata": {
    "execution": {
     "iopub.execute_input": "2025-02-27T10:58:20.912923Z",
     "iopub.status.busy": "2025-02-27T10:58:20.912631Z",
     "iopub.status.idle": "2025-02-27T10:58:20.916069Z",
     "shell.execute_reply": "2025-02-27T10:58:20.915221Z"
    },
    "papermill": {
     "duration": 0.009653,
     "end_time": "2025-02-27T10:58:20.917360",
     "exception": false,
     "start_time": "2025-02-27T10:58:20.907707",
     "status": "completed"
    },
    "tags": []
   },
   "outputs": [],
   "source": [
    "# Uncomment to see a hint\n",
    "#q2.hint()\n",
    "\n",
    "# Uncomment to see the solution\n",
    "#q2.solution()"
   ]
  },
  {
   "cell_type": "markdown",
   "id": "1f99154a",
   "metadata": {
    "papermill": {
     "duration": 0.003804,
     "end_time": "2025-02-27T10:58:20.925578",
     "exception": false,
     "start_time": "2025-02-27T10:58:20.921774",
     "status": "completed"
    },
    "tags": []
   },
   "source": [
    "# Question 3\n",
    "\n",
    "In the tutorial, we gave an example of a Python string with information that was better as a list."
   ]
  },
  {
   "cell_type": "code",
   "execution_count": 6,
   "id": "8dab9356",
   "metadata": {
    "execution": {
     "iopub.execute_input": "2025-02-27T10:58:20.934578Z",
     "iopub.status.busy": "2025-02-27T10:58:20.934305Z",
     "iopub.status.idle": "2025-02-27T10:58:20.938453Z",
     "shell.execute_reply": "2025-02-27T10:58:20.937216Z"
    },
    "papermill": {
     "duration": 0.010874,
     "end_time": "2025-02-27T10:58:20.940337",
     "exception": false,
     "start_time": "2025-02-27T10:58:20.929463",
     "status": "completed"
    },
    "tags": []
   },
   "outputs": [],
   "source": [
    "flowers = \"pink primrose,hard-leaved pocket orchid,canterbury bells,sweet pea,english marigold,tiger lily,moon orchid,bird of paradise,monkshood,globe thistle\""
   ]
  },
  {
   "cell_type": "markdown",
   "id": "13ee7d50",
   "metadata": {
    "papermill": {
     "duration": 0.003964,
     "end_time": "2025-02-27T10:58:20.949373",
     "exception": false,
     "start_time": "2025-02-27T10:58:20.945409",
     "status": "completed"
    },
    "tags": []
   },
   "source": [
    "You can actually use Python to quickly turn this string into a list with `.split()`.  In the parentheses, we need to provide the character should be used to mark the end of one list item and the beginning of another, and enclose it in quotation marks.  In this case, that character is a comma."
   ]
  },
  {
   "cell_type": "code",
   "execution_count": 7,
   "id": "87bc7d14",
   "metadata": {
    "execution": {
     "iopub.execute_input": "2025-02-27T10:58:20.959292Z",
     "iopub.status.busy": "2025-02-27T10:58:20.958955Z",
     "iopub.status.idle": "2025-02-27T10:58:20.963448Z",
     "shell.execute_reply": "2025-02-27T10:58:20.962309Z"
    },
    "papermill": {
     "duration": 0.011084,
     "end_time": "2025-02-27T10:58:20.964776",
     "exception": false,
     "start_time": "2025-02-27T10:58:20.953692",
     "status": "completed"
    },
    "tags": []
   },
   "outputs": [
    {
     "name": "stdout",
     "output_type": "stream",
     "text": [
      "['pink primrose', 'hard-leaved pocket orchid', 'canterbury bells', 'sweet pea', 'english marigold', 'tiger lily', 'moon orchid', 'bird of paradise', 'monkshood', 'globe thistle']\n"
     ]
    }
   ],
   "source": [
    " print(flowers.split(\",\"))"
   ]
  },
  {
   "cell_type": "markdown",
   "id": "e9e1caca",
   "metadata": {
    "papermill": {
     "duration": 0.003814,
     "end_time": "2025-02-27T10:58:20.972871",
     "exception": false,
     "start_time": "2025-02-27T10:58:20.969057",
     "status": "completed"
    },
    "tags": []
   },
   "source": [
    "Now it is your turn to try this out!  Create two Python lists:\n",
    "- `letters` should be a Python list where each entry is an uppercase letter of the English alphabet.  For instance, the first two entries should be `\"A\"` and `\"B\"`, and the final two entries should be `\"Y\"` and `\"Z\"`.  Use the string `alphabet` to create this list.\n",
    "- `address` should be a Python list where each row in `address` is a different item in the list.  Currently, each row in `address` is separated by a comma. "
   ]
  },
  {
   "cell_type": "code",
   "execution_count": 8,
   "id": "2c26f5b5",
   "metadata": {
    "execution": {
     "iopub.execute_input": "2025-02-27T10:58:20.982226Z",
     "iopub.status.busy": "2025-02-27T10:58:20.981870Z",
     "iopub.status.idle": "2025-02-27T10:58:20.990282Z",
     "shell.execute_reply": "2025-02-27T10:58:20.989176Z"
    },
    "papermill": {
     "duration": 0.014928,
     "end_time": "2025-02-27T10:58:20.991726",
     "exception": false,
     "start_time": "2025-02-27T10:58:20.976798",
     "status": "completed"
    },
    "tags": []
   },
   "outputs": [
    {
     "data": {
      "application/javascript": [
       "parent.postMessage({\"jupyterEvent\": \"custom.exercise_interaction\", \"data\": {\"outcomeType\": 1, \"valueTowardsCompletion\": 0.2, \"interactionType\": 1, \"questionType\": 1, \"questionId\": \"3_SplitString\", \"learnToolsVersion\": \"0.3.4\", \"failureMessage\": \"\", \"exceptionClass\": \"\", \"trace\": \"\"}}, \"*\")"
      ],
      "text/plain": [
       "<IPython.core.display.Javascript object>"
      ]
     },
     "metadata": {},
     "output_type": "display_data"
    },
    {
     "data": {
      "text/markdown": [
       "<span style=\"color:#33cc33\">Correct</span>"
      ],
      "text/plain": [
       "Correct"
      ]
     },
     "metadata": {},
     "output_type": "display_data"
    }
   ],
   "source": [
    "# DO not change: Define two Python strings\n",
    "alphabet = \"A.B.C.D.E.F.G.H.I.J.K.L.M.N.O.P.Q.R.S.T.U.V.W.X.Y.Z\"\n",
    "address = \"Mr. H. Potter,The cupboard under the Stairs,4 Privet Drive,Little Whinging,Surrey\"\n",
    "\n",
    "# TODO: Convert strings into Python lists\n",
    "letters = alphabet.split(\".\")\n",
    "formatted_address = address.split(\",\")\n",
    "\n",
    "# Do not change: Check your answer\n",
    "q3.check()"
   ]
  },
  {
   "cell_type": "code",
   "execution_count": 9,
   "id": "87ad64e8",
   "metadata": {
    "execution": {
     "iopub.execute_input": "2025-02-27T10:58:21.001893Z",
     "iopub.status.busy": "2025-02-27T10:58:21.001319Z",
     "iopub.status.idle": "2025-02-27T10:58:21.006576Z",
     "shell.execute_reply": "2025-02-27T10:58:21.004915Z"
    },
    "papermill": {
     "duration": 0.012223,
     "end_time": "2025-02-27T10:58:21.008629",
     "exception": false,
     "start_time": "2025-02-27T10:58:20.996406",
     "status": "completed"
    },
    "tags": []
   },
   "outputs": [],
   "source": [
    "# Uncomment to see a hint\n",
    "#q3.hint()\n",
    "\n",
    "# Uncomment to see the solution\n",
    "#q3.solution()"
   ]
  },
  {
   "cell_type": "markdown",
   "id": "7e82609d",
   "metadata": {
    "papermill": {
     "duration": 0.004191,
     "end_time": "2025-02-27T10:58:21.017759",
     "exception": false,
     "start_time": "2025-02-27T10:58:21.013568",
     "status": "completed"
    },
    "tags": []
   },
   "source": [
    "# Question 4\n",
    "\n",
    "In the Python course, you'll learn all about **list comprehensions**, which allow you to create a list based on the values in another list.  In this question, you'll get a brief preview of how they work.\n",
    "\n",
    "Say we're working with the list below."
   ]
  },
  {
   "cell_type": "code",
   "execution_count": 10,
   "id": "0c6e668d",
   "metadata": {
    "execution": {
     "iopub.execute_input": "2025-02-27T10:58:21.027517Z",
     "iopub.status.busy": "2025-02-27T10:58:21.027218Z",
     "iopub.status.idle": "2025-02-27T10:58:21.031148Z",
     "shell.execute_reply": "2025-02-27T10:58:21.029879Z"
    },
    "papermill": {
     "duration": 0.010792,
     "end_time": "2025-02-27T10:58:21.032818",
     "exception": false,
     "start_time": "2025-02-27T10:58:21.022026",
     "status": "completed"
    },
    "tags": []
   },
   "outputs": [],
   "source": [
    "test_ratings = [1, 2, 3, 4, 5]"
   ]
  },
  {
   "cell_type": "markdown",
   "id": "0758c382",
   "metadata": {
    "papermill": {
     "duration": 0.004762,
     "end_time": "2025-02-27T10:58:21.042366",
     "exception": false,
     "start_time": "2025-02-27T10:58:21.037604",
     "status": "completed"
    },
    "tags": []
   },
   "source": [
    "Then we can use this list (`test_ratings`) to create a new list (`test_liked`) where each item has been turned into a boolean, depending on whether or not the item is greater than or equal to four."
   ]
  },
  {
   "cell_type": "code",
   "execution_count": 11,
   "id": "0593f261",
   "metadata": {
    "execution": {
     "iopub.execute_input": "2025-02-27T10:58:21.051629Z",
     "iopub.status.busy": "2025-02-27T10:58:21.051372Z",
     "iopub.status.idle": "2025-02-27T10:58:21.055426Z",
     "shell.execute_reply": "2025-02-27T10:58:21.054441Z"
    },
    "papermill": {
     "duration": 0.010719,
     "end_time": "2025-02-27T10:58:21.057135",
     "exception": false,
     "start_time": "2025-02-27T10:58:21.046416",
     "status": "completed"
    },
    "tags": []
   },
   "outputs": [
    {
     "name": "stdout",
     "output_type": "stream",
     "text": [
      "[False, False, False, True, True]\n"
     ]
    }
   ],
   "source": [
    "test_liked = [i>=4 for i in test_ratings]\n",
    "print(test_liked)"
   ]
  },
  {
   "cell_type": "markdown",
   "id": "e9d8cbd6",
   "metadata": {
    "papermill": {
     "duration": 0.003905,
     "end_time": "2025-02-27T10:58:21.065717",
     "exception": false,
     "start_time": "2025-02-27T10:58:21.061812",
     "status": "completed"
    },
    "tags": []
   },
   "source": [
    "In this question, you'll use this list comprehension to define a function `percentage_liked()` that takes one argument as input:\n",
    "- `ratings`: list of ratings that people gave to a movie, where each rating is a number between 1-5, inclusive\n",
    "\n",
    "We say someone liked the movie, if they gave a rating of either 4 or 5.  Your function should return the percentage of people who liked the movie.\n",
    "\n",
    "For instance, if we supply a value of `[1, 2, 3, 4, 5, 4, 5, 1]`, then 50% (4/8) of the people liked the movie, and the function should return `0.5`.\n",
    "\n",
    "Part of the function has already been completed for you.  You need only use `list_liked` to calculate `percentage_liked`."
   ]
  },
  {
   "cell_type": "code",
   "execution_count": 12,
   "id": "8a8d98cf",
   "metadata": {
    "execution": {
     "iopub.execute_input": "2025-02-27T10:58:21.076272Z",
     "iopub.status.busy": "2025-02-27T10:58:21.075918Z",
     "iopub.status.idle": "2025-02-27T10:58:21.083261Z",
     "shell.execute_reply": "2025-02-27T10:58:21.081568Z"
    },
    "papermill": {
     "duration": 0.015886,
     "end_time": "2025-02-27T10:58:21.085414",
     "exception": false,
     "start_time": "2025-02-27T10:58:21.069528",
     "status": "completed"
    },
    "tags": []
   },
   "outputs": [
    {
     "data": {
      "application/javascript": [
       "parent.postMessage({\"jupyterEvent\": \"custom.exercise_interaction\", \"data\": {\"outcomeType\": 1, \"valueTowardsCompletion\": 0.2, \"interactionType\": 1, \"questionType\": 2, \"questionId\": \"4_PercentageLiked\", \"learnToolsVersion\": \"0.3.4\", \"failureMessage\": \"\", \"exceptionClass\": \"\", \"trace\": \"\"}}, \"*\")"
      ],
      "text/plain": [
       "<IPython.core.display.Javascript object>"
      ]
     },
     "metadata": {},
     "output_type": "display_data"
    },
    {
     "data": {
      "text/markdown": [
       "<span style=\"color:#33cc33\">Correct</span>"
      ],
      "text/plain": [
       "Correct"
      ]
     },
     "metadata": {},
     "output_type": "display_data"
    }
   ],
   "source": [
    "\n",
    "def percentage_liked(ratings):\n",
    "    list_liked = [i>=4 for i in ratings]\n",
    "    percentage_liked = sum(list_liked)/len(list_liked)\n",
    "    return percentage_liked\n",
    "\n",
    "# Do not change: should return 0.5\n",
    "percentage_liked([1, 2, 3, 4, 5, 4, 5, 1])\n",
    "\n",
    "# Do not change: Check your answer\n",
    "q4.check()"
   ]
  },
  {
   "cell_type": "code",
   "execution_count": 13,
   "id": "c70c376a",
   "metadata": {
    "execution": {
     "iopub.execute_input": "2025-02-27T10:58:21.096364Z",
     "iopub.status.busy": "2025-02-27T10:58:21.096050Z",
     "iopub.status.idle": "2025-02-27T10:58:21.099757Z",
     "shell.execute_reply": "2025-02-27T10:58:21.098548Z"
    },
    "papermill": {
     "duration": 0.011156,
     "end_time": "2025-02-27T10:58:21.101681",
     "exception": false,
     "start_time": "2025-02-27T10:58:21.090525",
     "status": "completed"
    },
    "tags": []
   },
   "outputs": [],
   "source": [
    "# Uncomment to see a hint\n",
    "#q4.hint()\n",
    "\n",
    "# Uncomment to see the solution\n",
    "#q4.solution()"
   ]
  },
  {
   "cell_type": "markdown",
   "id": "ba6c872a",
   "metadata": {
    "papermill": {
     "duration": 0.00419,
     "end_time": "2025-02-27T10:58:21.110875",
     "exception": false,
     "start_time": "2025-02-27T10:58:21.106685",
     "status": "completed"
    },
    "tags": []
   },
   "source": [
    "# 🌶️ Question 5\n",
    " \n",
    "Say you're doing analytics for a website.  You need to write a function that returns the percentage growth in the total number of users relative to a specified number of years ago.\n",
    "\n",
    "Your function `percentage_growth()` should take two arguments as input:\n",
    "- `num_users` = Python list with the total number of users each year.  So `num_users[0]` is the total number of users in the first year, `num_users[1]` is the total number of users in the second year, and so on.  The final entry in the list gives the total number of users in the most recently completed year.\n",
    "- `yrs_ago` = number of years to go back in time when calculating the growth percentage\n",
    "\n",
    "For instance, say `num_users = [920344, 1043553, 1204334, 1458996, 1503323, 1593432, 1623463, 1843064, 1930992, 2001078]`.\n",
    "- if `yrs_ago = 1`, we want the function to return a value of about `0.036`. This corresponds to a percentage growth of approximately 3.6%, calculated as (2001078 - 1930992)/1930992.\n",
    "- if `years_ago = 7`, we would want to return approximately `0.66`.  This corresponds to a percentage growth of approximately 66%, calculated as (2001078 - 1204334)/1204334.\n",
    "\n",
    "Your coworker sent you a draft of a function, but it doesn't seem to be doing the correct calculation.  Can you figure out what has gone wrong and make the needed changes?"
   ]
  },
  {
   "cell_type": "code",
   "execution_count": 14,
   "id": "a70dc883",
   "metadata": {
    "execution": {
     "iopub.execute_input": "2025-02-27T10:58:21.121168Z",
     "iopub.status.busy": "2025-02-27T10:58:21.120840Z",
     "iopub.status.idle": "2025-02-27T10:58:21.129450Z",
     "shell.execute_reply": "2025-02-27T10:58:21.128688Z"
    },
    "papermill": {
     "duration": 0.015285,
     "end_time": "2025-02-27T10:58:21.130651",
     "exception": false,
     "start_time": "2025-02-27T10:58:21.115366",
     "status": "completed"
    },
    "tags": []
   },
   "outputs": [
    {
     "name": "stdout",
     "output_type": "stream",
     "text": [
      "0.03629533421163837\n",
      "0.6615639847417742\n"
     ]
    },
    {
     "data": {
      "application/javascript": [
       "parent.postMessage({\"jupyterEvent\": \"custom.exercise_interaction\", \"data\": {\"outcomeType\": 1, \"valueTowardsCompletion\": 0.2, \"interactionType\": 1, \"questionType\": 2, \"questionId\": \"5_WebsiteAnalytics\", \"learnToolsVersion\": \"0.3.4\", \"failureMessage\": \"\", \"exceptionClass\": \"\", \"trace\": \"\"}}, \"*\")"
      ],
      "text/plain": [
       "<IPython.core.display.Javascript object>"
      ]
     },
     "metadata": {},
     "output_type": "display_data"
    },
    {
     "data": {
      "text/markdown": [
       "<span style=\"color:#33cc33\">Correct</span>"
      ],
      "text/plain": [
       "Correct"
      ]
     },
     "metadata": {},
     "output_type": "display_data"
    }
   ],
   "source": [
    "# TODO: Edit the function\n",
    "def percentage_growth(num_users, yrs_ago):\n",
    "    growth = (num_users[len(num_users)-1] - num_users[len(num_users)-yrs_ago-1])/num_users[len(num_users)-yrs_ago-1]\n",
    "    return growth\n",
    "\n",
    "# Do not change: Variable for calculating some test examples\n",
    "num_users_test = [920344, 1043553, 1204334, 1458996, 1503323, 1593432, 1623463, 1843064, 1930992, 2001078]\n",
    "\n",
    "# Do not change: Should return .036\n",
    "print(percentage_growth(num_users_test, 1))\n",
    "\n",
    "# Do not change: Should return 0.66\n",
    "print(percentage_growth(num_users_test, 7))\n",
    "\n",
    "# Do not change: Check your answer\n",
    "q5.check()"
   ]
  },
  {
   "cell_type": "code",
   "execution_count": 15,
   "id": "a312c8f9",
   "metadata": {
    "execution": {
     "iopub.execute_input": "2025-02-27T10:58:21.141021Z",
     "iopub.status.busy": "2025-02-27T10:58:21.140754Z",
     "iopub.status.idle": "2025-02-27T10:58:21.144616Z",
     "shell.execute_reply": "2025-02-27T10:58:21.143292Z"
    },
    "papermill": {
     "duration": 0.010551,
     "end_time": "2025-02-27T10:58:21.145972",
     "exception": false,
     "start_time": "2025-02-27T10:58:21.135421",
     "status": "completed"
    },
    "tags": []
   },
   "outputs": [],
   "source": [
    "# Uncomment to see a hint\n",
    "#q5.hint()\n",
    "\n",
    "# Uncomment to see the solution\n",
    "#q5.solution()"
   ]
  },
  {
   "cell_type": "markdown",
   "id": "c0bab7cb",
   "metadata": {
    "papermill": {
     "duration": 0.004215,
     "end_time": "2025-02-27T10:58:21.155044",
     "exception": false,
     "start_time": "2025-02-27T10:58:21.150829",
     "status": "completed"
    },
    "tags": []
   },
   "source": [
    "# Congratulations!\n",
    "\n",
    "Congratulations for finishing the Intro to Programming course!  You should be proud of your very first steps with learning programming.  As next steps, we recommend taking:\n",
    "- the **[Python course](http://www.kaggle.com/learn/python)**, and \n",
    "- the **[Intro to Machine Learning course](https://www.kaggle.com/learn/intro-to-machine-learning)**."
   ]
  },
  {
   "cell_type": "markdown",
   "id": "cb115435",
   "metadata": {
    "papermill": {
     "duration": 0.004266,
     "end_time": "2025-02-27T10:58:21.163683",
     "exception": false,
     "start_time": "2025-02-27T10:58:21.159417",
     "status": "completed"
    },
    "tags": []
   },
   "source": [
    "---\n",
    "\n",
    "\n",
    "\n",
    "\n",
    "*Have questions or comments? Visit the [course discussion forum](https://www.kaggle.com/learn/intro-to-programming/discussion) to chat with other learners.*"
   ]
  }
 ],
 "metadata": {
  "kaggle": {
   "accelerator": "none",
   "dataSources": [],
   "isGpuEnabled": false,
   "isInternetEnabled": false,
   "language": "python",
   "sourceType": "notebook"
  },
  "kernelspec": {
   "display_name": "Python 3",
   "language": "python",
   "name": "python3"
  },
  "language_info": {
   "codemirror_mode": {
    "name": "ipython",
    "version": 3
   },
   "file_extension": ".py",
   "mimetype": "text/x-python",
   "name": "python",
   "nbconvert_exporter": "python",
   "pygments_lexer": "ipython3",
   "version": "3.10.12"
  },
  "papermill": {
   "default_parameters": {},
   "duration": 5.180381,
   "end_time": "2025-02-27T10:58:21.788567",
   "environment_variables": {},
   "exception": null,
   "input_path": "__notebook__.ipynb",
   "output_path": "__notebook__.ipynb",
   "parameters": {},
   "start_time": "2025-02-27T10:58:16.608186",
   "version": "2.6.0"
  }
 },
 "nbformat": 4,
 "nbformat_minor": 5
}
