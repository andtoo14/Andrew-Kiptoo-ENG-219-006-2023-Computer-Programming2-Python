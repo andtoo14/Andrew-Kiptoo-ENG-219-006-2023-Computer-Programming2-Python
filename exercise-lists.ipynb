{
 "cells": [
  {
   "cell_type": "markdown",
   "id": "5361bc29",
   "metadata": {
    "papermill": {
     "duration": 0.00432,
     "end_time": "2025-05-17T09:01:04.999482",
     "exception": false,
     "start_time": "2025-05-17T09:01:04.995162",
     "status": "completed"
    },
    "tags": []
   },
   "source": [
    "**This notebook is an exercise in the [Python](https://www.kaggle.com/learn/python) course.  You can reference the tutorial at [this link](https://www.kaggle.com/colinmorris/lists).**\n",
    "\n",
    "---\n"
   ]
  },
  {
   "cell_type": "markdown",
   "id": "9a9f2e9e",
   "metadata": {
    "papermill": {
     "duration": 0.003167,
     "end_time": "2025-05-17T09:01:05.006335",
     "exception": false,
     "start_time": "2025-05-17T09:01:05.003168",
     "status": "completed"
    },
    "tags": []
   },
   "source": [
    "Things get more interesting with lists. You'll apply your new knowledge to solve the questions below. Remember to run the following cell first."
   ]
  },
  {
   "cell_type": "code",
   "execution_count": 1,
   "id": "614cacd5",
   "metadata": {
    "execution": {
     "iopub.execute_input": "2025-05-17T09:01:05.014422Z",
     "iopub.status.busy": "2025-05-17T09:01:05.014124Z",
     "iopub.status.idle": "2025-05-17T09:01:06.775634Z",
     "shell.execute_reply": "2025-05-17T09:01:06.774483Z"
    },
    "papermill": {
     "duration": 1.767365,
     "end_time": "2025-05-17T09:01:06.777118",
     "exception": false,
     "start_time": "2025-05-17T09:01:05.009753",
     "status": "completed"
    },
    "tags": []
   },
   "outputs": [
    {
     "name": "stdout",
     "output_type": "stream",
     "text": [
      "Setup complete.\n"
     ]
    }
   ],
   "source": [
    "from learntools.core import binder; binder.bind(globals())\n",
    "from learntools.python.ex4 import *\n",
    "print('Setup complete.')"
   ]
  },
  {
   "cell_type": "markdown",
   "id": "07706fc6",
   "metadata": {
    "papermill": {
     "duration": 0.003425,
     "end_time": "2025-05-17T09:01:06.784232",
     "exception": false,
     "start_time": "2025-05-17T09:01:06.780807",
     "status": "completed"
    },
    "tags": []
   },
   "source": [
    "# 1.\n",
    "\n",
    "Complete the function below according to its docstring."
   ]
  },
  {
   "cell_type": "code",
   "execution_count": 2,
   "id": "9cac3833",
   "metadata": {
    "execution": {
     "iopub.execute_input": "2025-05-17T09:01:06.792455Z",
     "iopub.status.busy": "2025-05-17T09:01:06.792049Z",
     "iopub.status.idle": "2025-05-17T09:01:06.801122Z",
     "shell.execute_reply": "2025-05-17T09:01:06.800360Z"
    },
    "papermill": {
     "duration": 0.014646,
     "end_time": "2025-05-17T09:01:06.802341",
     "exception": false,
     "start_time": "2025-05-17T09:01:06.787695",
     "status": "completed"
    },
    "tags": []
   },
   "outputs": [
    {
     "data": {
      "application/javascript": [
       "parent.postMessage({\"jupyterEvent\": \"custom.exercise_interaction\", \"data\": {\"outcomeType\": 1, \"valueTowardsCompletion\": 0.2, \"interactionType\": 1, \"questionType\": 2, \"questionId\": \"1_SelectSecondItem\", \"learnToolsVersion\": \"0.3.5\", \"failureMessage\": \"\", \"exceptionClass\": \"\", \"trace\": \"\"}}, \"*\")"
      ],
      "text/plain": [
       "<IPython.core.display.Javascript object>"
      ]
     },
     "metadata": {},
     "output_type": "display_data"
    },
    {
     "data": {
      "text/markdown": [
       "<span style=\"color:#33cc33\">Correct</span>"
      ],
      "text/plain": [
       "Correct"
      ]
     },
     "metadata": {},
     "output_type": "display_data"
    }
   ],
   "source": [
    "def select_second(L):\n",
    "    \"\"\"Return the second element of the given list. If the list has no second\n",
    "    element, return None.\n",
    "    \"\"\"\n",
    "    if len(L) < 2:\n",
    "        return None\n",
    "    return L[1]\n",
    "\n",
    "# Check your answer\n",
    "q1.check()"
   ]
  },
  {
   "cell_type": "code",
   "execution_count": 3,
   "id": "f6fd1761",
   "metadata": {
    "collapsed": true,
    "execution": {
     "iopub.execute_input": "2025-05-17T09:01:06.811378Z",
     "iopub.status.busy": "2025-05-17T09:01:06.811071Z",
     "iopub.status.idle": "2025-05-17T09:01:06.814956Z",
     "shell.execute_reply": "2025-05-17T09:01:06.814243Z"
    },
    "jupyter": {
     "outputs_hidden": true
    },
    "papermill": {
     "duration": 0.009998,
     "end_time": "2025-05-17T09:01:06.816323",
     "exception": false,
     "start_time": "2025-05-17T09:01:06.806325",
     "status": "completed"
    },
    "tags": []
   },
   "outputs": [],
   "source": [
    "#q1.hint()\n",
    "#q1.solution()"
   ]
  },
  {
   "cell_type": "markdown",
   "id": "787955e4",
   "metadata": {
    "papermill": {
     "duration": 0.00356,
     "end_time": "2025-05-17T09:01:06.823747",
     "exception": false,
     "start_time": "2025-05-17T09:01:06.820187",
     "status": "completed"
    },
    "tags": []
   },
   "source": [
    "# 2.\n",
    "\n",
    "You are analyzing sports teams.  Members of each team are stored in a list. The Coach is the first name in the list, the captain is the second name in the list, and other players are listed after that. \n",
    "These lists are stored in another list, which starts with the best team and proceeds through the list to the worst team last.  Complete the function below to select the **captain** of the worst team."
   ]
  },
  {
   "cell_type": "code",
   "execution_count": 4,
   "id": "26aa1b42",
   "metadata": {
    "execution": {
     "iopub.execute_input": "2025-05-17T09:01:06.832361Z",
     "iopub.status.busy": "2025-05-17T09:01:06.832054Z",
     "iopub.status.idle": "2025-05-17T09:01:06.839211Z",
     "shell.execute_reply": "2025-05-17T09:01:06.838503Z"
    },
    "papermill": {
     "duration": 0.013231,
     "end_time": "2025-05-17T09:01:06.840643",
     "exception": false,
     "start_time": "2025-05-17T09:01:06.827412",
     "status": "completed"
    },
    "tags": []
   },
   "outputs": [
    {
     "data": {
      "application/javascript": [
       "parent.postMessage({\"jupyterEvent\": \"custom.exercise_interaction\", \"data\": {\"outcomeType\": 1, \"valueTowardsCompletion\": 0.2, \"interactionType\": 1, \"questionType\": 2, \"questionId\": \"2_LosingTeamCaptain\", \"learnToolsVersion\": \"0.3.5\", \"failureMessage\": \"\", \"exceptionClass\": \"\", \"trace\": \"\"}}, \"*\")"
      ],
      "text/plain": [
       "<IPython.core.display.Javascript object>"
      ]
     },
     "metadata": {},
     "output_type": "display_data"
    },
    {
     "data": {
      "text/markdown": [
       "<span style=\"color:#33cc33\">Correct</span>"
      ],
      "text/plain": [
       "Correct"
      ]
     },
     "metadata": {},
     "output_type": "display_data"
    }
   ],
   "source": [
    "def losing_team_captain(teams):\n",
    "    \"\"\"Given a list of teams, where each team is a list of names, return the 2nd player (captain)\n",
    "    from the last listed team\n",
    "    \"\"\"\n",
    "    return teams[-1][1]\n",
    "\n",
    "# Check your answer\n",
    "q2.check()"
   ]
  },
  {
   "cell_type": "code",
   "execution_count": 5,
   "id": "4080e838",
   "metadata": {
    "collapsed": true,
    "execution": {
     "iopub.execute_input": "2025-05-17T09:01:06.850102Z",
     "iopub.status.busy": "2025-05-17T09:01:06.849798Z",
     "iopub.status.idle": "2025-05-17T09:01:06.853538Z",
     "shell.execute_reply": "2025-05-17T09:01:06.852879Z"
    },
    "jupyter": {
     "outputs_hidden": true
    },
    "papermill": {
     "duration": 0.009753,
     "end_time": "2025-05-17T09:01:06.854710",
     "exception": false,
     "start_time": "2025-05-17T09:01:06.844957",
     "status": "completed"
    },
    "tags": []
   },
   "outputs": [],
   "source": [
    "#q2.hint()\n",
    "#q2.solution()"
   ]
  },
  {
   "cell_type": "markdown",
   "id": "141c1dce",
   "metadata": {
    "papermill": {
     "duration": 0.003759,
     "end_time": "2025-05-17T09:01:06.862624",
     "exception": false,
     "start_time": "2025-05-17T09:01:06.858865",
     "status": "completed"
    },
    "tags": []
   },
   "source": [
    "# 3.\n",
    "\n",
    "The next iteration of Mario Kart will feature an extra-infuriating new item, the *Purple Shell*. When used, it warps the last place racer into first place and the first place racer into last place. Complete the function below to implement the Purple Shell's effect."
   ]
  },
  {
   "cell_type": "code",
   "execution_count": 6,
   "id": "ba8aba09",
   "metadata": {
    "execution": {
     "iopub.execute_input": "2025-05-17T09:01:06.872087Z",
     "iopub.status.busy": "2025-05-17T09:01:06.871313Z",
     "iopub.status.idle": "2025-05-17T09:01:06.879255Z",
     "shell.execute_reply": "2025-05-17T09:01:06.878485Z"
    },
    "papermill": {
     "duration": 0.013885,
     "end_time": "2025-05-17T09:01:06.880450",
     "exception": false,
     "start_time": "2025-05-17T09:01:06.866565",
     "status": "completed"
    },
    "tags": []
   },
   "outputs": [
    {
     "data": {
      "application/javascript": [
       "parent.postMessage({\"jupyterEvent\": \"custom.exercise_interaction\", \"data\": {\"outcomeType\": 1, \"valueTowardsCompletion\": 0.2, \"interactionType\": 1, \"questionType\": 2, \"questionId\": \"3_PurpleShell\", \"learnToolsVersion\": \"0.3.5\", \"failureMessage\": \"\", \"exceptionClass\": \"\", \"trace\": \"\"}}, \"*\")"
      ],
      "text/plain": [
       "<IPython.core.display.Javascript object>"
      ]
     },
     "metadata": {},
     "output_type": "display_data"
    },
    {
     "data": {
      "text/markdown": [
       "<span style=\"color:#33cc33\">Correct</span>"
      ],
      "text/plain": [
       "Correct"
      ]
     },
     "metadata": {},
     "output_type": "display_data"
    }
   ],
   "source": [
    "def purple_shell(racers):\n",
    "    \"\"\"Given a list of racers, set the first place racer (at the front of the list) to last\n",
    "    place and vice versa.\n",
    "    \n",
    "    >>> r = [\"Mario\", \"Bowser\", \"Luigi\"]\n",
    "    >>> purple_shell(r)\n",
    "    >>> r\n",
    "    [\"Luigi\", \"Bowser\", \"Mario\"]\n",
    "    \"\"\"\n",
    "    if len(racers) >= 2:\n",
    "        first_place = racers.pop(0)\n",
    "        last_place = racers.pop()\n",
    "        racers.insert(0, last_place)\n",
    "        racers.append(first_place)\n",
    "    elif len(racers) == 1:\n",
    "        pass\n",
    "\n",
    "\n",
    "# Check your answer\n",
    "q3.check()"
   ]
  },
  {
   "cell_type": "code",
   "execution_count": 7,
   "id": "141e78dc",
   "metadata": {
    "collapsed": true,
    "execution": {
     "iopub.execute_input": "2025-05-17T09:01:06.890008Z",
     "iopub.status.busy": "2025-05-17T09:01:06.889668Z",
     "iopub.status.idle": "2025-05-17T09:01:06.893540Z",
     "shell.execute_reply": "2025-05-17T09:01:06.892670Z"
    },
    "jupyter": {
     "outputs_hidden": true
    },
    "papermill": {
     "duration": 0.01037,
     "end_time": "2025-05-17T09:01:06.895059",
     "exception": false,
     "start_time": "2025-05-17T09:01:06.884689",
     "status": "completed"
    },
    "tags": []
   },
   "outputs": [],
   "source": [
    "#q3.hint()\n",
    "#q3.solution()"
   ]
  },
  {
   "cell_type": "markdown",
   "id": "06b0dbb2",
   "metadata": {
    "papermill": {
     "duration": 0.004026,
     "end_time": "2025-05-17T09:01:06.903352",
     "exception": false,
     "start_time": "2025-05-17T09:01:06.899326",
     "status": "completed"
    },
    "tags": []
   },
   "source": [
    "# 4.\n",
    "\n",
    "What are the lengths of the following lists? Fill in the variable `lengths` with your predictions. (Try to make a prediction for each list *without* just calling `len()` on it.)"
   ]
  },
  {
   "cell_type": "code",
   "execution_count": 8,
   "id": "916d2418",
   "metadata": {
    "execution": {
     "iopub.execute_input": "2025-05-17T09:01:06.912924Z",
     "iopub.status.busy": "2025-05-17T09:01:06.912589Z",
     "iopub.status.idle": "2025-05-17T09:01:06.920582Z",
     "shell.execute_reply": "2025-05-17T09:01:06.919918Z"
    },
    "papermill": {
     "duration": 0.014372,
     "end_time": "2025-05-17T09:01:06.921885",
     "exception": false,
     "start_time": "2025-05-17T09:01:06.907513",
     "status": "completed"
    },
    "tags": []
   },
   "outputs": [
    {
     "data": {
      "application/javascript": [
       "parent.postMessage({\"jupyterEvent\": \"custom.exercise_interaction\", \"data\": {\"outcomeType\": 1, \"valueTowardsCompletion\": 0.2, \"interactionType\": 1, \"questionType\": 1, \"questionId\": \"4_UnderstandLen\", \"learnToolsVersion\": \"0.3.5\", \"failureMessage\": \"\", \"exceptionClass\": \"\", \"trace\": \"\"}}, \"*\")"
      ],
      "text/plain": [
       "<IPython.core.display.Javascript object>"
      ]
     },
     "metadata": {},
     "output_type": "display_data"
    },
    {
     "data": {
      "text/markdown": [
       "<span style=\"color:#33cc33\">Correct:</span> \n",
       "\n",
       "\n",
       "- a: There are three items in this list. Nothing tricky yet.\n",
       "- b: The list `[2, 3]` counts as a single item. It has one item before it. So we have 2 items in the list\n",
       "- c: The empty list has 0 items\n",
       "- d: The expression is the same as the list `[2, 3]`, which has length 2."
      ],
      "text/plain": [
       "Correct: \n",
       "\n",
       "\n",
       "- a: There are three items in this list. Nothing tricky yet.\n",
       "- b: The list `[2, 3]` counts as a single item. It has one item before it. So we have 2 items in the list\n",
       "- c: The empty list has 0 items\n",
       "- d: The expression is the same as the list `[2, 3]`, which has length 2."
      ]
     },
     "metadata": {},
     "output_type": "display_data"
    }
   ],
   "source": [
    "a = [1, 2, 3]\n",
    "b = [1, [2, 3]]\n",
    "c = []\n",
    "d = [1, 2, 3][1:]\n",
    "\n",
    "# Put your predictions in the list below. Lengths should contain 4 numbers, the\n",
    "# first being the length of a, the second being the length of b and so on.\n",
    "lengths = [3, 2, 0, 2]\n",
    "\n",
    "# Check your answer\n",
    "q4.check()"
   ]
  },
  {
   "cell_type": "code",
   "execution_count": 9,
   "id": "73976297",
   "metadata": {
    "collapsed": true,
    "execution": {
     "iopub.execute_input": "2025-05-17T09:01:06.932637Z",
     "iopub.status.busy": "2025-05-17T09:01:06.932029Z",
     "iopub.status.idle": "2025-05-17T09:01:06.935744Z",
     "shell.execute_reply": "2025-05-17T09:01:06.934953Z"
    },
    "jupyter": {
     "outputs_hidden": true
    },
    "papermill": {
     "duration": 0.010343,
     "end_time": "2025-05-17T09:01:06.937214",
     "exception": false,
     "start_time": "2025-05-17T09:01:06.926871",
     "status": "completed"
    },
    "tags": []
   },
   "outputs": [],
   "source": [
    "# line below provides some explanation\n",
    "#q4.solution()"
   ]
  },
  {
   "cell_type": "markdown",
   "id": "d21562a4",
   "metadata": {
    "papermill": {
     "duration": 0.004268,
     "end_time": "2025-05-17T09:01:06.945998",
     "exception": false,
     "start_time": "2025-05-17T09:01:06.941730",
     "status": "completed"
    },
    "tags": []
   },
   "source": [
    "# 5. <span title=\"A bit spicy\" style=\"color: darkgreen \">🌶️</span>\n",
    "\n",
    "We're using lists to record people who attended our party and what order they arrived in. For example, the following list represents a party with 7 guests, in which Adela showed up first and Ford was the last to arrive:\n",
    "\n",
    "    party_attendees = ['Adela', 'Fleda', 'Owen', 'May', 'Mona', 'Gilbert', 'Ford']\n",
    "\n",
    "A guest is considered 'fashionably late' if they arrived after at least half of the party's guests. However, they must not be the very last guest (that's taking it too far). In the above example, Mona and Gilbert are the only guests who were fashionably late.\n",
    "\n",
    "Complete the function below which takes a list of party attendees as well as a person, and tells us whether that person is fashionably late."
   ]
  },
  {
   "cell_type": "code",
   "execution_count": 10,
   "id": "5105b8ca",
   "metadata": {
    "execution": {
     "iopub.execute_input": "2025-05-17T09:01:06.956241Z",
     "iopub.status.busy": "2025-05-17T09:01:06.955454Z",
     "iopub.status.idle": "2025-05-17T09:01:06.962820Z",
     "shell.execute_reply": "2025-05-17T09:01:06.962021Z"
    },
    "papermill": {
     "duration": 0.013694,
     "end_time": "2025-05-17T09:01:06.964126",
     "exception": false,
     "start_time": "2025-05-17T09:01:06.950432",
     "status": "completed"
    },
    "tags": []
   },
   "outputs": [
    {
     "data": {
      "application/javascript": [
       "parent.postMessage({\"jupyterEvent\": \"custom.exercise_interaction\", \"data\": {\"outcomeType\": 1, \"valueTowardsCompletion\": 0.2, \"interactionType\": 1, \"questionType\": 2, \"questionId\": \"5_FashionablyLate\", \"learnToolsVersion\": \"0.3.5\", \"failureMessage\": \"\", \"exceptionClass\": \"\", \"trace\": \"\"}}, \"*\")"
      ],
      "text/plain": [
       "<IPython.core.display.Javascript object>"
      ]
     },
     "metadata": {},
     "output_type": "display_data"
    },
    {
     "data": {
      "text/markdown": [
       "<span style=\"color:#33cc33\">Correct</span>"
      ],
      "text/plain": [
       "Correct"
      ]
     },
     "metadata": {},
     "output_type": "display_data"
    }
   ],
   "source": [
    "def fashionably_late(arrivals, name):\n",
    "    \"\"\"Given an ordered list of arrivals to the party and a name, return whether the guest with that\n",
    "    name was fashionably late.\n",
    "    \"\"\"\n",
    "    order = arrivals.index(name)\n",
    "    return order >= len(arrivals) / 2 and order != len(arrivals) - 1\n",
    "\n",
    "# Check your answer\n",
    "q5.check()"
   ]
  },
  {
   "cell_type": "code",
   "execution_count": null,
   "id": "18b71f09",
   "metadata": {
    "papermill": {
     "duration": 0.004248,
     "end_time": "2025-05-17T09:01:06.972979",
     "exception": false,
     "start_time": "2025-05-17T09:01:06.968731",
     "status": "completed"
    },
    "tags": []
   },
   "outputs": [],
   "source": []
  },
  {
   "cell_type": "code",
   "execution_count": null,
   "id": "4972c579",
   "metadata": {
    "papermill": {
     "duration": 0.00435,
     "end_time": "2025-05-17T09:01:06.981748",
     "exception": false,
     "start_time": "2025-05-17T09:01:06.977398",
     "status": "completed"
    },
    "tags": []
   },
   "outputs": [],
   "source": []
  },
  {
   "cell_type": "code",
   "execution_count": 11,
   "id": "310444e7",
   "metadata": {
    "collapsed": true,
    "execution": {
     "iopub.execute_input": "2025-05-17T09:01:06.991961Z",
     "iopub.status.busy": "2025-05-17T09:01:06.991405Z",
     "iopub.status.idle": "2025-05-17T09:01:06.995177Z",
     "shell.execute_reply": "2025-05-17T09:01:06.994332Z"
    },
    "jupyter": {
     "outputs_hidden": true
    },
    "papermill": {
     "duration": 0.010313,
     "end_time": "2025-05-17T09:01:06.996473",
     "exception": false,
     "start_time": "2025-05-17T09:01:06.986160",
     "status": "completed"
    },
    "tags": []
   },
   "outputs": [],
   "source": [
    "#q5.hint()\n",
    "#q5.solution()"
   ]
  },
  {
   "cell_type": "markdown",
   "id": "9c4cd089",
   "metadata": {
    "papermill": {
     "duration": 0.004205,
     "end_time": "2025-05-17T09:01:07.005352",
     "exception": false,
     "start_time": "2025-05-17T09:01:07.001147",
     "status": "completed"
    },
    "tags": []
   },
   "source": [
    "# Keep Going\n",
    "\n",
    "That's it for lists and tuples! Now you have the baseline knowledge to **[learn about loops](https://www.kaggle.com/colinmorris/loops-and-list-comprehensions)**, which is where lists and tuples get really interesting. "
   ]
  },
  {
   "cell_type": "markdown",
   "id": "50f33084",
   "metadata": {
    "papermill": {
     "duration": 0.004339,
     "end_time": "2025-05-17T09:01:07.014130",
     "exception": false,
     "start_time": "2025-05-17T09:01:07.009791",
     "status": "completed"
    },
    "tags": []
   },
   "source": [
    "---\n",
    "\n",
    "\n",
    "\n",
    "\n",
    "*Have questions or comments? Visit the [course discussion forum](https://www.kaggle.com/learn/python/discussion) to chat with other learners.*"
   ]
  }
 ],
 "metadata": {
  "kaggle": {
   "accelerator": "none",
   "dataSources": [],
   "isGpuEnabled": false,
   "isInternetEnabled": false,
   "language": "python",
   "sourceType": "notebook"
  },
  "kernelspec": {
   "display_name": "Python 3",
   "language": "python",
   "name": "python3"
  },
  "language_info": {
   "codemirror_mode": {
    "name": "ipython",
    "version": 3
   },
   "file_extension": ".py",
   "mimetype": "text/x-python",
   "name": "python",
   "nbconvert_exporter": "python",
   "pygments_lexer": "ipython3",
   "version": "3.11.11"
  },
  "learntools_metadata": {
   "lesson_index": 3,
   "type": "exercise"
  },
  "papermill": {
   "default_parameters": {},
   "duration": 7.191051,
   "end_time": "2025-05-17T09:01:07.538242",
   "environment_variables": {},
   "exception": null,
   "input_path": "__notebook__.ipynb",
   "output_path": "__notebook__.ipynb",
   "parameters": {},
   "start_time": "2025-05-17T09:01:00.347191",
   "version": "2.6.0"
  }
 },
 "nbformat": 4,
 "nbformat_minor": 5
}
