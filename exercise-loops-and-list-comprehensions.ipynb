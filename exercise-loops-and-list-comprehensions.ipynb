{
 "cells": [
  {
   "cell_type": "markdown",
   "id": "2b0c427d",
   "metadata": {
    "papermill": {
     "duration": 0.005065,
     "end_time": "2025-05-17T09:26:25.337977",
     "exception": false,
     "start_time": "2025-05-17T09:26:25.332912",
     "status": "completed"
    },
    "tags": []
   },
   "source": [
    "**This notebook is an exercise in the [Python](https://www.kaggle.com/learn/python) course.  You can reference the tutorial at [this link](https://www.kaggle.com/colinmorris/loops-and-list-comprehensions).**\n",
    "\n",
    "---\n"
   ]
  },
  {
   "cell_type": "markdown",
   "id": "0327c898",
   "metadata": {
    "papermill": {
     "duration": 0.00368,
     "end_time": "2025-05-17T09:26:25.345846",
     "exception": false,
     "start_time": "2025-05-17T09:26:25.342166",
     "status": "completed"
    },
    "tags": []
   },
   "source": [
    "With all you've learned, you can start writing much more interesting programs. See if you can solve the problems below.\n",
    "\n",
    "As always, run the setup code below before working on the questions."
   ]
  },
  {
   "cell_type": "code",
   "execution_count": 1,
   "id": "6a8e8960",
   "metadata": {
    "execution": {
     "iopub.execute_input": "2025-05-17T09:26:25.355257Z",
     "iopub.status.busy": "2025-05-17T09:26:25.354860Z",
     "iopub.status.idle": "2025-05-17T09:26:27.653466Z",
     "shell.execute_reply": "2025-05-17T09:26:27.652335Z"
    },
    "papermill": {
     "duration": 2.305398,
     "end_time": "2025-05-17T09:26:27.655224",
     "exception": false,
     "start_time": "2025-05-17T09:26:25.349826",
     "status": "completed"
    },
    "tags": []
   },
   "outputs": [
    {
     "name": "stdout",
     "output_type": "stream",
     "text": [
      "Setup complete.\n"
     ]
    }
   ],
   "source": [
    "from learntools.core import binder; binder.bind(globals())\n",
    "from learntools.python.ex5 import *\n",
    "print('Setup complete.')"
   ]
  },
  {
   "cell_type": "markdown",
   "id": "00e5f3a8",
   "metadata": {
    "papermill": {
     "duration": 0.00408,
     "end_time": "2025-05-17T09:26:27.663546",
     "exception": false,
     "start_time": "2025-05-17T09:26:27.659466",
     "status": "completed"
    },
    "tags": []
   },
   "source": [
    "# 1.\n",
    "\n",
    "Have you ever felt debugging involved a bit of luck? The following program has a bug. Try to identify the bug and fix it."
   ]
  },
  {
   "cell_type": "code",
   "execution_count": 2,
   "id": "d939cf19",
   "metadata": {
    "execution": {
     "iopub.execute_input": "2025-05-17T09:26:27.674290Z",
     "iopub.status.busy": "2025-05-17T09:26:27.672721Z",
     "iopub.status.idle": "2025-05-17T09:26:27.679524Z",
     "shell.execute_reply": "2025-05-17T09:26:27.678376Z"
    },
    "papermill": {
     "duration": 0.013964,
     "end_time": "2025-05-17T09:26:27.681458",
     "exception": false,
     "start_time": "2025-05-17T09:26:27.667494",
     "status": "completed"
    },
    "tags": []
   },
   "outputs": [],
   "source": [
    "def has_lucky_number(nums):\n",
    "    \"\"\"Return whether the given list of numbers is lucky. A lucky list contains\n",
    "    at least one number divisible by 7.\n",
    "    \"\"\"\n",
    "    for num in nums:\n",
    "        if num % 7 == 0:\n",
    "            return True\n",
    "        return False"
   ]
  },
  {
   "cell_type": "markdown",
   "id": "3e28896a",
   "metadata": {
    "papermill": {
     "duration": 0.003896,
     "end_time": "2025-05-17T09:26:27.689620",
     "exception": false,
     "start_time": "2025-05-17T09:26:27.685724",
     "status": "completed"
    },
    "tags": []
   },
   "source": [
    "Try to identify the bug and fix it in the cell below:"
   ]
  },
  {
   "cell_type": "code",
   "execution_count": 3,
   "id": "8765ac87",
   "metadata": {
    "execution": {
     "iopub.execute_input": "2025-05-17T09:26:27.699885Z",
     "iopub.status.busy": "2025-05-17T09:26:27.699031Z",
     "iopub.status.idle": "2025-05-17T09:26:27.708977Z",
     "shell.execute_reply": "2025-05-17T09:26:27.708096Z"
    },
    "papermill": {
     "duration": 0.016544,
     "end_time": "2025-05-17T09:26:27.710455",
     "exception": false,
     "start_time": "2025-05-17T09:26:27.693911",
     "status": "completed"
    },
    "tags": []
   },
   "outputs": [
    {
     "data": {
      "application/javascript": [
       "parent.postMessage({\"jupyterEvent\": \"custom.exercise_interaction\", \"data\": {\"outcomeType\": 1, \"valueTowardsCompletion\": 0.25, \"interactionType\": 1, \"questionType\": 2, \"questionId\": \"1_EarlyExitDebugging\", \"learnToolsVersion\": \"0.3.5\", \"failureMessage\": \"\", \"exceptionClass\": \"\", \"trace\": \"\"}}, \"*\")"
      ],
      "text/plain": [
       "<IPython.core.display.Javascript object>"
      ]
     },
     "metadata": {},
     "output_type": "display_data"
    },
    {
     "data": {
      "text/markdown": [
       "<span style=\"color:#33cc33\">Correct:</span> \n",
       "\n",
       "Remember that `return` causes a function to exit immediately. So our original implementation always ran for just one iteration. We can only return `False` if we've looked at every element of the list (and confirmed that none of them are lucky). Though we can return early if the answer is `True`:\n",
       "\n",
       "```python\n",
       "def has_lucky_number(nums):\n",
       "    for num in nums:\n",
       "        if num % 7 == 0:\n",
       "            return True\n",
       "    # We've exhausted the list without finding a lucky number\n",
       "    return False\n",
       "```\n",
       "\n",
       "Here's a one-line version using a list comprehension with Python's `any` function (you can read about what it does by calling `help(any)`):\n",
       "\n",
       "```python\n",
       "def has_lucky_number(nums):\n",
       "    return any([num % 7 == 0 for num in nums])\n",
       "```\n"
      ],
      "text/plain": [
       "Correct: \n",
       "\n",
       "Remember that `return` causes a function to exit immediately. So our original implementation always ran for just one iteration. We can only return `False` if we've looked at every element of the list (and confirmed that none of them are lucky). Though we can return early if the answer is `True`:\n",
       "\n",
       "```python\n",
       "def has_lucky_number(nums):\n",
       "    for num in nums:\n",
       "        if num % 7 == 0:\n",
       "            return True\n",
       "    # We've exhausted the list without finding a lucky number\n",
       "    return False\n",
       "```\n",
       "\n",
       "Here's a one-line version using a list comprehension with Python's `any` function (you can read about what it does by calling `help(any)`):\n",
       "\n",
       "```python\n",
       "def has_lucky_number(nums):\n",
       "    return any([num % 7 == 0 for num in nums])\n",
       "```"
      ]
     },
     "metadata": {},
     "output_type": "display_data"
    }
   ],
   "source": [
    "def has_lucky_number(nums):\n",
    "    \"\"\"Return whether the given list of numbers is lucky. A lucky list contains\n",
    "    at least one number divisible by 7.\n",
    "    \"\"\"\n",
    "    for num in nums:\n",
    "        if num % 7 == 0:\n",
    "            return True\n",
    "    return False\n",
    "\n",
    "# Check your answer\n",
    "q1.check()"
   ]
  },
  {
   "cell_type": "code",
   "execution_count": 4,
   "id": "13352f9b",
   "metadata": {
    "execution": {
     "iopub.execute_input": "2025-05-17T09:26:27.720826Z",
     "iopub.status.busy": "2025-05-17T09:26:27.720502Z",
     "iopub.status.idle": "2025-05-17T09:26:27.724904Z",
     "shell.execute_reply": "2025-05-17T09:26:27.723876Z"
    },
    "papermill": {
     "duration": 0.012083,
     "end_time": "2025-05-17T09:26:27.727004",
     "exception": false,
     "start_time": "2025-05-17T09:26:27.714921",
     "status": "completed"
    },
    "tags": []
   },
   "outputs": [],
   "source": [
    "#q1.hint()\n",
    "#q1.solution()"
   ]
  },
  {
   "cell_type": "markdown",
   "id": "16053cb9",
   "metadata": {
    "papermill": {
     "duration": 0.004088,
     "end_time": "2025-05-17T09:26:27.735575",
     "exception": false,
     "start_time": "2025-05-17T09:26:27.731487",
     "status": "completed"
    },
    "tags": []
   },
   "source": [
    "# 2.\n",
    "Look at the Python expression below. What do you think we'll get when we run it? When you've made your prediction, uncomment the code and run the cell to see if you were right."
   ]
  },
  {
   "cell_type": "code",
   "execution_count": 5,
   "id": "5bfd7446",
   "metadata": {
    "execution": {
     "iopub.execute_input": "2025-05-17T09:26:27.745337Z",
     "iopub.status.busy": "2025-05-17T09:26:27.744977Z",
     "iopub.status.idle": "2025-05-17T09:26:27.749660Z",
     "shell.execute_reply": "2025-05-17T09:26:27.748610Z"
    },
    "papermill": {
     "duration": 0.011532,
     "end_time": "2025-05-17T09:26:27.751267",
     "exception": false,
     "start_time": "2025-05-17T09:26:27.739735",
     "status": "completed"
    },
    "tags": []
   },
   "outputs": [],
   "source": [
    "#[1, 2, 3, 4] > 2"
   ]
  },
  {
   "cell_type": "markdown",
   "id": "f98c99f9",
   "metadata": {
    "papermill": {
     "duration": 0.004133,
     "end_time": "2025-05-17T09:26:27.759770",
     "exception": false,
     "start_time": "2025-05-17T09:26:27.755637",
     "status": "completed"
    },
    "tags": []
   },
   "source": [
    "R and Python have some libraries (like numpy and pandas) compare each element of the list to 2 (i.e. do an 'element-wise' comparison) and give us a list of booleans like `[False, False, True, True]`. \n",
    "\n",
    "Implement a function that reproduces this behaviour, returning a list of booleans corresponding to whether the corresponding element is greater than n."
   ]
  },
  {
   "cell_type": "code",
   "execution_count": 6,
   "id": "27965bd2",
   "metadata": {
    "execution": {
     "iopub.execute_input": "2025-05-17T09:26:27.769586Z",
     "iopub.status.busy": "2025-05-17T09:26:27.769319Z",
     "iopub.status.idle": "2025-05-17T09:26:27.778176Z",
     "shell.execute_reply": "2025-05-17T09:26:27.777112Z"
    },
    "papermill": {
     "duration": 0.015812,
     "end_time": "2025-05-17T09:26:27.779866",
     "exception": false,
     "start_time": "2025-05-17T09:26:27.764054",
     "status": "completed"
    },
    "tags": []
   },
   "outputs": [
    {
     "data": {
      "application/javascript": [
       "parent.postMessage({\"jupyterEvent\": \"custom.exercise_interaction\", \"data\": {\"outcomeType\": 1, \"valueTowardsCompletion\": 0.25, \"interactionType\": 1, \"questionType\": 2, \"questionId\": \"2_ElementWiseComparison\", \"learnToolsVersion\": \"0.3.5\", \"failureMessage\": \"\", \"exceptionClass\": \"\", \"trace\": \"\"}}, \"*\")"
      ],
      "text/plain": [
       "<IPython.core.display.Javascript object>"
      ]
     },
     "metadata": {},
     "output_type": "display_data"
    },
    {
     "data": {
      "text/markdown": [
       "<span style=\"color:#33cc33\">Correct:</span> \n",
       "\n",
       "Here's one solution:\n",
       "```python\n",
       "def elementwise_greater_than(L, thresh):\n",
       "    res = []\n",
       "    for ele in L:\n",
       "        res.append(ele > thresh)\n",
       "    return res\n",
       "```\n",
       "\n",
       "And here's the list comprehension version:\n",
       "```python\n",
       "def elementwise_greater_than(L, thresh):\n",
       "    return [ele > thresh for ele in L]\n",
       "```\n"
      ],
      "text/plain": [
       "Correct: \n",
       "\n",
       "Here's one solution:\n",
       "```python\n",
       "def elementwise_greater_than(L, thresh):\n",
       "    res = []\n",
       "    for ele in L:\n",
       "        res.append(ele > thresh)\n",
       "    return res\n",
       "```\n",
       "\n",
       "And here's the list comprehension version:\n",
       "```python\n",
       "def elementwise_greater_than(L, thresh):\n",
       "    return [ele > thresh for ele in L]\n",
       "```"
      ]
     },
     "metadata": {},
     "output_type": "display_data"
    }
   ],
   "source": [
    "def elementwise_greater_than(L, thresh):\n",
    "    \"\"\"Return a list with the same length as L, where the value at index i is \n",
    "    True if L[i] is greater than thresh, and False otherwise.\n",
    "    \n",
    "    >>> elementwise_greater_than([1, 2, 3, 4], 2)\n",
    "    [False, False, True, True]\n",
    "    \"\"\"\n",
    "    result = []\n",
    "    for num in L:\n",
    "        result.append(num > thresh)\n",
    "    return result\n",
    "\n",
    "# Check your answer\n",
    "q2.check()"
   ]
  },
  {
   "cell_type": "code",
   "execution_count": 7,
   "id": "bd8f6c9d",
   "metadata": {
    "execution": {
     "iopub.execute_input": "2025-05-17T09:26:27.791025Z",
     "iopub.status.busy": "2025-05-17T09:26:27.790680Z",
     "iopub.status.idle": "2025-05-17T09:26:27.795323Z",
     "shell.execute_reply": "2025-05-17T09:26:27.794415Z"
    },
    "papermill": {
     "duration": 0.012656,
     "end_time": "2025-05-17T09:26:27.797098",
     "exception": false,
     "start_time": "2025-05-17T09:26:27.784442",
     "status": "completed"
    },
    "tags": []
   },
   "outputs": [],
   "source": [
    "#q2.solution()"
   ]
  },
  {
   "cell_type": "markdown",
   "id": "c4bfd282",
   "metadata": {
    "papermill": {
     "duration": 0.004119,
     "end_time": "2025-05-17T09:26:27.805748",
     "exception": false,
     "start_time": "2025-05-17T09:26:27.801629",
     "status": "completed"
    },
    "tags": []
   },
   "source": [
    "# 3.\n",
    "\n",
    "Complete the body of the function below according to its docstring."
   ]
  },
  {
   "cell_type": "code",
   "execution_count": 8,
   "id": "f017ce31",
   "metadata": {
    "execution": {
     "iopub.execute_input": "2025-05-17T09:26:27.816236Z",
     "iopub.status.busy": "2025-05-17T09:26:27.815930Z",
     "iopub.status.idle": "2025-05-17T09:26:27.824728Z",
     "shell.execute_reply": "2025-05-17T09:26:27.823828Z"
    },
    "papermill": {
     "duration": 0.015821,
     "end_time": "2025-05-17T09:26:27.826510",
     "exception": false,
     "start_time": "2025-05-17T09:26:27.810689",
     "status": "completed"
    },
    "tags": []
   },
   "outputs": [
    {
     "data": {
      "application/javascript": [
       "parent.postMessage({\"jupyterEvent\": \"custom.exercise_interaction\", \"data\": {\"outcomeType\": 1, \"valueTowardsCompletion\": 0.25, \"interactionType\": 1, \"questionType\": 2, \"questionId\": \"3_BoringMenu\", \"learnToolsVersion\": \"0.3.5\", \"failureMessage\": \"\", \"exceptionClass\": \"\", \"trace\": \"\"}}, \"*\")"
      ],
      "text/plain": [
       "<IPython.core.display.Javascript object>"
      ]
     },
     "metadata": {},
     "output_type": "display_data"
    },
    {
     "data": {
      "text/markdown": [
       "<span style=\"color:#33cc33\">Correct:</span> \n",
       "\n",
       "\n",
       "\n",
       "```python\n",
       "def menu_is_boring(meals):\n",
       "    # Iterate over all indices of the list, except the last one\n",
       "    for i in range(len(meals)-1):\n",
       "        if meals[i] == meals[i+1]:\n",
       "            return True\n",
       "    return False\n",
       "```\n",
       "\n",
       "The key to our solution is the call to `range`. `range(len(meals))` would give us all the indices of `meals`. If we had used that range, the last iteration of the loop would be comparing the last element to the element after it, which is... `IndexError`! `range(len(meals)-1)` gives us all the indices except the index of the last element.\n",
       "\n",
       "But don't we need to check if `meals` is empty? Turns out that `range(0) == range(-1)` - they're both empty. So if `meals` has length 0 or 1, we just won't do any iterations of our for loop.\n"
      ],
      "text/plain": [
       "Correct: \n",
       "\n",
       "\n",
       "\n",
       "```python\n",
       "def menu_is_boring(meals):\n",
       "    # Iterate over all indices of the list, except the last one\n",
       "    for i in range(len(meals)-1):\n",
       "        if meals[i] == meals[i+1]:\n",
       "            return True\n",
       "    return False\n",
       "```\n",
       "\n",
       "The key to our solution is the call to `range`. `range(len(meals))` would give us all the indices of `meals`. If we had used that range, the last iteration of the loop would be comparing the last element to the element after it, which is... `IndexError`! `range(len(meals)-1)` gives us all the indices except the index of the last element.\n",
       "\n",
       "But don't we need to check if `meals` is empty? Turns out that `range(0) == range(-1)` - they're both empty. So if `meals` has length 0 or 1, we just won't do any iterations of our for loop."
      ]
     },
     "metadata": {},
     "output_type": "display_data"
    }
   ],
   "source": [
    "def menu_is_boring(meals):\n",
    "    \"\"\"Given a list of meals served over some period of time, return True if the\n",
    "    same meal has ever been served two days in a row, and False otherwise.\n",
    "    \"\"\"\n",
    "    for i in range(len(meals) - 1):\n",
    "        if meals[i] == meals[i+1]:\n",
    "            return True\n",
    "    return False\n",
    "\n",
    "# Check your answer\n",
    "q3.check()"
   ]
  },
  {
   "cell_type": "code",
   "execution_count": 9,
   "id": "b3678fe6",
   "metadata": {
    "execution": {
     "iopub.execute_input": "2025-05-17T09:26:27.838060Z",
     "iopub.status.busy": "2025-05-17T09:26:27.837696Z",
     "iopub.status.idle": "2025-05-17T09:26:27.841835Z",
     "shell.execute_reply": "2025-05-17T09:26:27.840875Z"
    },
    "papermill": {
     "duration": 0.012066,
     "end_time": "2025-05-17T09:26:27.843687",
     "exception": false,
     "start_time": "2025-05-17T09:26:27.831621",
     "status": "completed"
    },
    "tags": []
   },
   "outputs": [],
   "source": [
    "#q3.hint()\n",
    "#q3.solution()"
   ]
  },
  {
   "cell_type": "markdown",
   "id": "6052cb28",
   "metadata": {
    "papermill": {
     "duration": 0.004666,
     "end_time": "2025-05-17T09:26:27.853532",
     "exception": false,
     "start_time": "2025-05-17T09:26:27.848866",
     "status": "completed"
    },
    "tags": []
   },
   "source": [
    "# 4. <span title=\"A bit spicy\" style=\"color: darkgreen \">🌶️</span>\n",
    "\n",
    "Next to the Blackjack table, the Python Challenge Casino has a slot machine. You can get a result from the slot machine by calling `play_slot_machine()`. The number it returns is your winnings in dollars. Usually it returns 0.  But sometimes you'll get lucky and get a big payday. Try running it below:"
   ]
  },
  {
   "cell_type": "code",
   "execution_count": 10,
   "id": "b38092c7",
   "metadata": {
    "execution": {
     "iopub.execute_input": "2025-05-17T09:26:27.864755Z",
     "iopub.status.busy": "2025-05-17T09:26:27.864440Z",
     "iopub.status.idle": "2025-05-17T09:26:27.870535Z",
     "shell.execute_reply": "2025-05-17T09:26:27.869617Z"
    },
    "papermill": {
     "duration": 0.013461,
     "end_time": "2025-05-17T09:26:27.872136",
     "exception": false,
     "start_time": "2025-05-17T09:26:27.858675",
     "status": "completed"
    },
    "tags": []
   },
   "outputs": [
    {
     "data": {
      "text/plain": [
       "0"
      ]
     },
     "execution_count": 10,
     "metadata": {},
     "output_type": "execute_result"
    }
   ],
   "source": [
    "play_slot_machine()"
   ]
  },
  {
   "cell_type": "markdown",
   "id": "0f3ea173",
   "metadata": {
    "papermill": {
     "duration": 0.004462,
     "end_time": "2025-05-17T09:26:27.881607",
     "exception": false,
     "start_time": "2025-05-17T09:26:27.877145",
     "status": "completed"
    },
    "tags": []
   },
   "source": [
    "By the way, did we mention that each play costs $1? Don't worry, we'll send you the bill later.\n",
    "\n",
    "On average, how much money can you expect to gain (or lose) every time you play the machine?  The casino keeps it a secret, but you can estimate the average value of each pull using a technique called the **Monte Carlo method**. To estimate the average outcome, we simulate the scenario many times, and return the average result.\n",
    "\n",
    "Complete the following function to calculate the average value per play of the slot machine."
   ]
  },
  {
   "cell_type": "code",
   "execution_count": 11,
   "id": "9a8de2d8",
   "metadata": {
    "execution": {
     "iopub.execute_input": "2025-05-17T09:26:27.892292Z",
     "iopub.status.busy": "2025-05-17T09:26:27.891959Z",
     "iopub.status.idle": "2025-05-17T09:26:27.898618Z",
     "shell.execute_reply": "2025-05-17T09:26:27.897521Z"
    },
    "papermill": {
     "duration": 0.014051,
     "end_time": "2025-05-17T09:26:27.900295",
     "exception": false,
     "start_time": "2025-05-17T09:26:27.886244",
     "status": "completed"
    },
    "tags": []
   },
   "outputs": [],
   "source": [
    "from random import random\n",
    "\n",
    "def play_slot_machine():\n",
    "    payouts = [1, 2, 5, 10, 25, 0]\n",
    "    weights = [0.3, 0.25, 0.2, 0.1, 0.05, 0.1]\n",
    "    chosen_payout = random.choices(payouts, weights=weights, k=1)[0]\n",
    "    return chosen_payout - 1\n",
    "\n",
    "def estimate_average_slot_payout(n_runs):\n",
    "    \"\"\"Run the slot machine n_runs times and return the average net profit per run.\n",
    "    Example calls (note that return value is nondeterministic!):\n",
    "    >>> estimate_average_slot_payout(1)\n",
    "    -1\n",
    "    >>> estimate_average_slot_payout(1)\n",
    "    0.5\n",
    "    \"\"\"\n",
    "    total_profit = 0\n",
    "    for _ in range(n_runs):\n",
    "        total_profit += play_slot_machine()\n",
    "    return total_profit / n_runs"
   ]
  },
  {
   "cell_type": "markdown",
   "id": "328da383",
   "metadata": {
    "papermill": {
     "duration": 0.004549,
     "end_time": "2025-05-17T09:26:27.909862",
     "exception": false,
     "start_time": "2025-05-17T09:26:27.905313",
     "status": "completed"
    },
    "tags": []
   },
   "source": [
    "When you think you know the expected value per spin, run the code cell below to view the solution and get credit for answering the question."
   ]
  },
  {
   "cell_type": "code",
   "execution_count": 12,
   "id": "a33210a2",
   "metadata": {
    "execution": {
     "iopub.execute_input": "2025-05-17T09:26:27.920829Z",
     "iopub.status.busy": "2025-05-17T09:26:27.920497Z",
     "iopub.status.idle": "2025-05-17T09:26:27.928560Z",
     "shell.execute_reply": "2025-05-17T09:26:27.927476Z"
    },
    "papermill": {
     "duration": 0.01545,
     "end_time": "2025-05-17T09:26:27.930018",
     "exception": false,
     "start_time": "2025-05-17T09:26:27.914568",
     "status": "completed"
    },
    "tags": []
   },
   "outputs": [
    {
     "data": {
      "application/javascript": [
       "parent.postMessage({\"jupyterEvent\": \"custom.exercise_interaction\", \"data\": {\"interactionType\": 3, \"questionType\": 4, \"questionId\": \"4_ExpectedSlotsPayout\", \"learnToolsVersion\": \"0.3.5\", \"valueTowardsCompletion\": 0.0, \"failureMessage\": \"\", \"exceptionClass\": \"\", \"trace\": \"\", \"outcomeType\": 4}}, \"*\")"
      ],
      "text/plain": [
       "<IPython.core.display.Javascript object>"
      ]
     },
     "metadata": {},
     "output_type": "display_data"
    },
    {
     "data": {
      "text/markdown": [
       "<span style=\"color:#33cc99\">Solution:</span> \n",
       "    \n",
       "The exact expected value of one pull of the slot machine is 0.025 - i.e. a little more than 2 cents.  See?  Not every game in the Python Challenge Casino is rigged against the player!\n",
       "\n",
       "In order to get this answer, you'll need to implement the `estimate_average_slot_payout(n_runs)` function to simulate pulling the slot machine `n_runs` times.  It should return the payout averaged over those `n_runs`.\n",
       "\n",
       "Then, once the function is defined, in order to estimate the average slot payout, we need only call the function.\n",
       "\n",
       "Because of the high variance of the outcome (there are some very rare high payout results that significantly affect the average) you might need to run your function with a very high value of `n_runs` to get a stable answer close to the true expectation.  For instance, you might use a value for `n_runs` of 1000000.\n",
       "\n",
       "Here's an example for how the function could look:\n",
       "```python\n",
       "def estimate_average_slot_payout(n_runs):\n",
       "    # Play slot machine n_runs times, calculate payout of each\n",
       "    payouts = [play_slot_machine()-1 for i in range(n_runs)]\n",
       "    # Calculate the average value\n",
       "    avg_payout = sum(payouts) / n_runs\n",
       "    return avg_payout\n",
       "    \n",
       "estimate_average_slot_payout(10000000)\n",
       "\n",
       "```\n",
       "\n",
       "This should return an answer close to 0.025!\n",
       "            \n"
      ],
      "text/plain": [
       "Solution: \n",
       "    \n",
       "The exact expected value of one pull of the slot machine is 0.025 - i.e. a little more than 2 cents.  See?  Not every game in the Python Challenge Casino is rigged against the player!\n",
       "\n",
       "In order to get this answer, you'll need to implement the `estimate_average_slot_payout(n_runs)` function to simulate pulling the slot machine `n_runs` times.  It should return the payout averaged over those `n_runs`.\n",
       "\n",
       "Then, once the function is defined, in order to estimate the average slot payout, we need only call the function.\n",
       "\n",
       "Because of the high variance of the outcome (there are some very rare high payout results that significantly affect the average) you might need to run your function with a very high value of `n_runs` to get a stable answer close to the true expectation.  For instance, you might use a value for `n_runs` of 1000000.\n",
       "\n",
       "Here's an example for how the function could look:\n",
       "```python\n",
       "def estimate_average_slot_payout(n_runs):\n",
       "    # Play slot machine n_runs times, calculate payout of each\n",
       "    payouts = [play_slot_machine()-1 for i in range(n_runs)]\n",
       "    # Calculate the average value\n",
       "    avg_payout = sum(payouts) / n_runs\n",
       "    return avg_payout\n",
       "    \n",
       "estimate_average_slot_payout(10000000)\n",
       "\n",
       "```\n",
       "\n",
       "This should return an answer close to 0.025!\n",
       "            "
      ]
     },
     "metadata": {},
     "output_type": "display_data"
    }
   ],
   "source": [
    "# Check your answer (Run this code cell to receive credit!)\n",
    "q4.solution()"
   ]
  },
  {
   "cell_type": "markdown",
   "id": "b17dcd11",
   "metadata": {
    "papermill": {
     "duration": 0.005034,
     "end_time": "2025-05-17T09:26:27.940584",
     "exception": false,
     "start_time": "2025-05-17T09:26:27.935550",
     "status": "completed"
    },
    "tags": []
   },
   "source": [
    "# Keep Going\n",
    "\n",
    "Many programmers report that dictionaries are their favorite data structure. You'll get to **[learn about them](https://www.kaggle.com/colinmorris/strings-and-dictionaries)** (as well as strings) in the next lesson."
   ]
  },
  {
   "cell_type": "markdown",
   "id": "d30183ca",
   "metadata": {
    "papermill": {
     "duration": 0.004772,
     "end_time": "2025-05-17T09:26:27.950342",
     "exception": false,
     "start_time": "2025-05-17T09:26:27.945570",
     "status": "completed"
    },
    "tags": []
   },
   "source": [
    "---\n",
    "\n",
    "\n",
    "\n",
    "\n",
    "*Have questions or comments? Visit the [course discussion forum](https://www.kaggle.com/learn/python/discussion) to chat with other learners.*"
   ]
  }
 ],
 "metadata": {
  "kaggle": {
   "accelerator": "none",
   "dataSources": [],
   "isGpuEnabled": false,
   "isInternetEnabled": false,
   "language": "python",
   "sourceType": "notebook"
  },
  "kernelspec": {
   "display_name": "Python 3",
   "language": "python",
   "name": "python3"
  },
  "language_info": {
   "codemirror_mode": {
    "name": "ipython",
    "version": 3
   },
   "file_extension": ".py",
   "mimetype": "text/x-python",
   "name": "python",
   "nbconvert_exporter": "python",
   "pygments_lexer": "ipython3",
   "version": "3.11.11"
  },
  "learntools_metadata": {
   "lesson_index": 4,
   "type": "exercise"
  },
  "papermill": {
   "default_parameters": {},
   "duration": 8.443739,
   "end_time": "2025-05-17T09:26:28.475764",
   "environment_variables": {},
   "exception": null,
   "input_path": "__notebook__.ipynb",
   "output_path": "__notebook__.ipynb",
   "parameters": {},
   "start_time": "2025-05-17T09:26:20.032025",
   "version": "2.6.0"
  }
 },
 "nbformat": 4,
 "nbformat_minor": 5
}
